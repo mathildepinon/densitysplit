{
 "cells": [
  {
   "cell_type": "markdown",
   "id": "ce39e971-c1a3-4659-9944-d1c65141de34",
   "metadata": {},
   "source": [
    "# Create instances of Data from log-normal mocks"
   ]
  },
  {
   "cell_type": "code",
   "execution_count": 1,
   "id": "83d0828b-b7b6-4536-bc95-3e2c507f9778",
   "metadata": {},
   "outputs": [],
   "source": [
    "import time\n",
    "\n",
    "import numpy as np\n",
    "from scipy import optimize as opt\n",
    "from matplotlib import pyplot as plt\n",
    "\n",
    "plt.rcParams[\"figure.figsize\"] = (10, 8)\n",
    "plt.rcParams.update({'font.size': 14})\n",
    "\n",
    "from cosmoprimo import *\n",
    "from pycorr import TwoPointCorrelationFunction\n",
    "from mockfactory import EulerianLinearMock, LagrangianLinearMock, RandomBoxCatalog, setup_logging\n",
    "from iminuit import Minuit\n",
    "\n",
    "import catalog_data\n",
    "import density_split"
   ]
  },
  {
   "cell_type": "markdown",
   "id": "4d92a85f-b500-43ab-8097-299f2d97611b",
   "metadata": {
    "tags": []
   },
   "source": [
    "## Data and output directories"
   ]
  },
  {
   "cell_type": "code",
   "execution_count": 2,
   "id": "2c040497-6f71-42de-9142-b88c6e672c14",
   "metadata": {},
   "outputs": [],
   "source": [
    "data_dir = '/feynman/work/dphp/mp270220/data/'\n",
    "output_dir = '/feynman/work/dphp/mp270220/outputs/'"
   ]
  },
  {
   "cell_type": "markdown",
   "id": "442e1d5f-7796-49a9-9891-1802a5ed8896",
   "metadata": {},
   "source": [
    "## Get data"
   ]
  },
  {
   "cell_type": "code",
   "execution_count": 3,
   "id": "743e720f-1851-4b56-8953-edf0a9ffe1de",
   "metadata": {},
   "outputs": [],
   "source": [
    "catalog_name = 'AbacusSummit_1Gpc_z1.175'\n",
    "#catalog_name = 'AbacusSummit_2Gpc_z1.175'\n",
    "#catalog_name = 'AbacusSummit_2Gpc_z0.800'\n",
    "#catalog_name = 'mock'\n",
    "\n",
    "catalog = density_split.DensitySplit.load(output_dir+catalog_name+'_density_split.npy')"
   ]
  },
  {
   "cell_type": "markdown",
   "id": "6562807a-1197-4a07-b27e-b17dac4497f6",
   "metadata": {},
   "source": [
    "## Mock properties"
   ]
  },
  {
   "cell_type": "code",
   "execution_count": 4,
   "id": "c94a1504-ffbd-4e2f-b15a-6918d28eb867",
   "metadata": {},
   "outputs": [],
   "source": [
    "nmesh = 100\n",
    "boxsize = catalog.boxsize\n",
    "boxcenter = catalog.boxcenter\n",
    "seed = 42\n",
    "los = 'x'\n",
    "nbar = catalog.data.size/catalog.boxsize**3\n",
    "\n",
    "z = catalog.data.redshift\n",
    "\n",
    "# Abacus summit cosmology\n",
    "cosmo_abacus = fiducial.AbacusSummitBase()\n",
    "bg = cosmo_abacus.get_background()\n",
    "\n",
    "f = bg.growth_rate(z)\n",
    "bias = 2.5\n",
    "\n",
    "pklin = cosmo_abacus.get_fourier().pk_interpolator().to_1d(z)"
   ]
  },
  {
   "cell_type": "markdown",
   "id": "f1724127-e1f6-4a97-9f37-0e71429050c0",
   "metadata": {},
   "source": [
    "## Abacus summit cosmology"
   ]
  },
  {
   "cell_type": "code",
   "execution_count": 5,
   "id": "f64a8747-ebfa-4cbc-9499-26c7043c40db",
   "metadata": {},
   "outputs": [],
   "source": [
    "# unitary_amplitude forces amplitude to 1\n",
    "mock = LagrangianLinearMock(pklin, nmesh=nmesh, boxsize=boxsize, boxcenter=boxcenter, seed=seed, unitary_amplitude=True)\n",
    "\n",
    "# this is Lagrangian bias, Eulerian bias - 1\n",
    "mock.set_real_delta_field(bias=bias - 1)\n",
    "mock.set_analytic_selection_function(nbar=nbar)\n",
    "mock.poisson_sample(seed=43)\n",
    "#mock.set_rsd(f=f, los=los)\n",
    "data = mock.to_catalog()"
   ]
  },
  {
   "cell_type": "code",
   "execution_count": 6,
   "id": "92f29fd3-2b6d-4dad-b6bc-125968bf6bb8",
   "metadata": {},
   "outputs": [],
   "source": [
    "# Create Data instance\n",
    "positions = data['Position'].T % boxsize\n",
    "\n",
    "mock_catalog = catalog_data.Data(positions, z, boxsize, boxcenter, name='mock')\n",
    "mock_catalog.save(data_dir+mock_catalog.name)"
   ]
  },
  {
   "cell_type": "markdown",
   "id": "2b8a9ccc-bc61-45c4-a605-ec0660052835",
   "metadata": {
    "tags": []
   },
   "source": [
    "## Compute density"
   ]
  },
  {
   "cell_type": "code",
   "execution_count": 7,
   "id": "e6fc2a60-1866-4bcb-b504-e0e3f9dbcaad",
   "metadata": {},
   "outputs": [],
   "source": [
    "cellsize = 20\n",
    "resampler = 'tsc'\n",
    "\n",
    "# Compute density without weights\n",
    "mock_density = density_split.DensitySplit(mock_catalog)\n",
    "mock_density.compute_density(cellsize=cellsize, resampler=resampler, use_rsd=False, use_weights=False)"
   ]
  },
  {
   "cell_type": "markdown",
   "id": "9b0f7813-1a40-4f32-ac5b-62cc551020a4",
   "metadata": {},
   "source": [
    "### Plot density distribution"
   ]
  },
  {
   "cell_type": "code",
   "execution_count": 8,
   "id": "d207c846-a967-4128-9daf-c6429d32568c",
   "metadata": {},
   "outputs": [
    {
     "data": {
      "image/png": "[encoded data removed]",
      "text/plain": [
       "<Figure size 720x576 with 1 Axes>"
      ]
     },
     "metadata": {
      "needs_background": "light"
     },
     "output_type": "display_data"
    }
   ],
   "source": [
    "plt.hist(catalog.data_densities, range=(-1, 4), bins=60, density=False, alpha=0.5, label='Abacus catalog')\n",
    "plt.hist(mock_density.data_densities, range=(-1, 4), bins=60, density=False, alpha=0.5, label='Log-normal mock')\n",
    "plt.xlabel(\"$\\delta$\")\n",
    "plt.ylabel(\"Normalized counts\")\n",
    "plt.legend()\n",
    "plt.show()"
   ]
  },
  {
   "cell_type": "markdown",
   "id": "40ad894a-8e75-4f70-bc58-4cf19c9870ff",
   "metadata": {},
   "source": [
    "## Fit bias on original catalog"
   ]
  },
  {
   "cell_type": "code",
   "execution_count": 9,
   "id": "2cf64dd9-2a08-43e3-af9d-92e676031c1b",
   "metadata": {},
   "outputs": [],
   "source": [
    "# unitary_amplitude forces amplitude to 1\n",
    "mock = LagrangianLinearMock(pklin, nmesh=nmesh, boxsize=boxsize, boxcenter=boxcenter, seed=seed, unitary_amplitude=False)"
   ]
  },
  {
   "cell_type": "code",
   "execution_count": 14,
   "id": "18d911f0-34a0-4736-9f8c-0ce256019b71",
   "metadata": {},
   "outputs": [],
   "source": [
    "def density_from_bias(b, data_catalog = catalog, nbins = 60, seed = 43, los = 'x'):\n",
    "    boxsize = catalog.boxsize\n",
    "    boxcenter = catalog.boxcenter\n",
    "    nbar = catalog.data.size/catalog.boxsize**3\n",
    "\n",
    "    z = catalog.data.redshift\n",
    "    f = bg.growth_rate(z)\n",
    "    \n",
    "    bias = b\n",
    "\n",
    "    # this is Lagrangian bias, Eulerian bias - 1\n",
    "    mock.set_real_delta_field(bias=bias - 1)\n",
    "    mock.set_analytic_selection_function(nbar=nbar)\n",
    "    mock.poisson_sample(seed=seed)\n",
    "    #mock.set_rsd(f=f, los=los)\n",
    "    data = mock.to_catalog()\n",
    "    \n",
    "    # Create Data instance\n",
    "    positions = data['Position'].T % boxsize\n",
    "\n",
    "    mock_catalog = catalog_data.Data(positions, z, boxsize, boxcenter, name='mock')\n",
    "    mock_density = density_split.DensitySplit(mock_catalog)\n",
    "\n",
    "    cellsize = data_catalog.cellsize\n",
    "    resampler = data_catalog.resampler\n",
    "\n",
    "    # Compute density without weights\n",
    "    mock_density.compute_density(cellsize=cellsize, resampler=resampler)\n",
    "    \n",
    "    data_hist = np.histogram(data_catalog.data_densities, range=(-1, 4), bins=nbins, density=True)\n",
    "    mock_hist = np.histogram(mock_density.data_densities, range=(-1, 4), bins=nbins, density=True)\n",
    "    \n",
    "    return data_hist[0], mock_hist[0]"
   ]
  },
  {
   "cell_type": "code",
   "execution_count": 21,
   "id": "c96549f4-998c-429d-b86f-36c05c488642",
   "metadata": {},
   "outputs": [],
   "source": [
    "data_hist, mock_hist = density_from_bias(b=3., data_catalog = catalog, nbins = 60, seed = 43, los = 'x')"
   ]
  },
  {
   "cell_type": "code",
   "execution_count": 22,
   "id": "2bcc7428-f532-4e38-8b2b-efaaaa98ea69",
   "metadata": {},
   "outputs": [
    {
     "data": {
      "image/png": "[encoded data removed]",
      "text/plain": [
       "<Figure size 720x576 with 1 Axes>"
      ]
     },
     "metadata": {
      "needs_background": "light"
     },
     "output_type": "display_data"
    }
   ],
   "source": [
    "plt.plot(data_hist)\n",
    "plt.plot(mock_hist)\n",
    "plt.show()"
   ]
  },
  {
   "cell_type": "code",
   "execution_count": 17,
   "id": "44421f0a-0c42-471d-b9f1-1957696f48fc",
   "metadata": {},
   "outputs": [],
   "source": [
    "def func(b, data_catalog = catalog, nbins = 60, seed = 43, los = 'x'):\n",
    "    data_hist, mock_hist = density_from_bias(b, data_catalog=data_catalog, nbins=nbins, seed=seed, los=los)\n",
    "    return data_hist - mock_hist"
   ]
  },
  {
   "cell_type": "code",
   "execution_count": null,
   "id": "9e11c633-cf2b-43dc-ab39-9bc56a94de16",
   "metadata": {},
   "outputs": [],
   "source": [
    "opti = opt.leastsq(func=func, x0=3., full_output=1)"
   ]
  },
  {
   "cell_type": "code",
   "execution_count": 19,
   "id": "7ca3b3e9-3c9d-4083-a780-031dc0e1c9d8",
   "metadata": {},
   "outputs": [
    {
     "data": {
      "text/plain": [
       "array([3.])"
      ]
     },
     "execution_count": 19,
     "metadata": {},
     "output_type": "execute_result"
    }
   ],
   "source": [
    "b_opt = opti[0]\n",
    "b_opt"
   ]
  },
  {
   "cell_type": "code",
   "execution_count": 20,
   "id": "5d0f826a-12cd-4fe0-baf4-3fdae4dd0c42",
   "metadata": {},
   "outputs": [
    {
     "data": {
      "text/plain": [
       "(array([3.]),\n",
       " None,\n",
       " {'fvec': 0.005933881057958016,\n",
       "  'nfev': 2,\n",
       "  'fjac': array([[-0.]]),\n",
       "  'ipvt': array([1], dtype=int32),\n",
       "  'qtf': array([0.00593388])},\n",
       " 'The cosine of the angle between func(x) and any column of the\\n  Jacobian is at most 0.000000 in absolute value',\n",
       " 4)"
      ]
     },
     "execution_count": 20,
     "metadata": {},
     "output_type": "execute_result"
    }
   ],
   "source": [
    "opti"
   ]
  },
  {
   "cell_type": "code",
   "execution_count": 85,
   "id": "5a6a1ff4-b347-440b-8471-aa37c5d4e940",
   "metadata": {},
   "outputs": [],
   "source": [
    "def func(b):\n",
    "    data_hist, mock_hist = density_from_bias(b, data_catalog = catalog, nbins = 60, seed = 43, los = 'x')\n",
    "    return np.abs(data_hist - mock_hist)"
   ]
  },
  {
   "cell_type": "code",
   "execution_count": 88,
   "id": "cf371a74-47e3-4457-b73a-fd9dd7755d57",
   "metadata": {
    "tags": []
   },
   "outputs": [
    {
     "ename": "RuntimeError",
     "evalue": "Unable to cast Python instance to C++ type (compile in debug mode for details)",
     "output_type": "error",
     "traceback": [
      "\u001b[0;31m---------------------------------------------------------------------------\u001b[0m",
      "\u001b[0;31mRuntimeError\u001b[0m                              Traceback (most recent call last)",
      "Input \u001b[0;32mIn [88]\u001b[0m, in \u001b[0;36m<cell line: 8>\u001b[0;34m()\u001b[0m\n\u001b[1;32m      5\u001b[0m m \u001b[38;5;241m=\u001b[39m Minuit(func, \u001b[38;5;241m*\u001b[39m\u001b[38;5;241m*\u001b[39minit_pars)\n\u001b[1;32m      7\u001b[0m t1 \u001b[38;5;241m=\u001b[39m time\u001b[38;5;241m.\u001b[39mtime()\n\u001b[0;32m----> 8\u001b[0m imin \u001b[38;5;241m=\u001b[39m \u001b[43mm\u001b[49m\u001b[38;5;241;43m.\u001b[39;49m\u001b[43mmigrad\u001b[49m\u001b[43m(\u001b[49m\u001b[43m)\u001b[49m\n\u001b[1;32m      9\u001b[0m t2 \u001b[38;5;241m=\u001b[39m time\u001b[38;5;241m.\u001b[39mtime()\n\u001b[1;32m     11\u001b[0m \u001b[38;5;28mprint\u001b[39m(\u001b[38;5;124m'\u001b[39m\u001b[38;5;124mExecution time: \u001b[39m\u001b[38;5;132;01m{:.2f}\u001b[39;00m\u001b[38;5;124m'\u001b[39m\u001b[38;5;241m.\u001b[39mformat(t2\u001b[38;5;241m-\u001b[39mt1))\n",
      "File \u001b[0;32m/feynman/work/dphp/adematti/cosmodesiconda/20220419-1.0.0/conda/lib/python3.9/site-packages/iminuit/minuit.py:686\u001b[0m, in \u001b[0;36mMinuit.migrad\u001b[0;34m(self, ncall, iterate)\u001b[0m\n\u001b[1;32m    684\u001b[0m \u001b[38;5;28;01mif\u001b[39;00m \u001b[38;5;28mself\u001b[39m\u001b[38;5;241m.\u001b[39m_precision \u001b[38;5;129;01mis\u001b[39;00m \u001b[38;5;129;01mnot\u001b[39;00m \u001b[38;5;28;01mNone\u001b[39;00m:\n\u001b[1;32m    685\u001b[0m     migrad\u001b[38;5;241m.\u001b[39mprecision \u001b[38;5;241m=\u001b[39m \u001b[38;5;28mself\u001b[39m\u001b[38;5;241m.\u001b[39m_precision\n\u001b[0;32m--> 686\u001b[0m fm \u001b[38;5;241m=\u001b[39m \u001b[43mmigrad\u001b[49m\u001b[43m(\u001b[49m\u001b[43mncall\u001b[49m\u001b[43m,\u001b[49m\u001b[43m \u001b[49m\u001b[38;5;28;43mself\u001b[39;49m\u001b[38;5;241;43m.\u001b[39;49m\u001b[43m_tolerance\u001b[49m\u001b[43m)\u001b[49m\n\u001b[1;32m    687\u001b[0m \u001b[38;5;28;01mif\u001b[39;00m fm\u001b[38;5;241m.\u001b[39mis_valid \u001b[38;5;129;01mor\u001b[39;00m fm\u001b[38;5;241m.\u001b[39mhas_reached_call_limit:\n\u001b[1;32m    688\u001b[0m     \u001b[38;5;28;01mbreak\u001b[39;00m\n",
      "\u001b[0;31mRuntimeError\u001b[0m: Unable to cast Python instance to C++ type (compile in debug mode for details)"
     ]
    }
   ],
   "source": [
    "init_pars = {'b':3.}\n",
    "\n",
    "m = Minuit(func, **init_pars)\n",
    "\n",
    "t1 = time.time()\n",
    "imin = m.migrad()\n",
    "t2 = time.time()\n",
    "\n",
    "print('Execution time: {:.2f}'.format(t2-t1))"
   ]
  },
  {
   "cell_type": "code",
   "execution_count": 86,
   "id": "6fe4b78f-465a-43f1-99cc-25fd8c3474b7",
   "metadata": {
    "tags": []
   },
   "outputs": [
    {
     "data": {
      "text/html": [
       "<table>\n",
       "    <tr>\n",
       "        <th colspan=\"5\" style=\"text-align:center\" title=\"Minimizer\"> Migrad </th>\n",
       "    </tr>\n",
       "    <tr>\n",
       "        <td colspan=\"2\" style=\"text-align:left\" title=\"Minimum value of function\"> FCN = 38.22 </td>\n",
       "        <td colspan=\"3\" style=\"text-align:center\" title=\"Total number of function and (optional) gradient evaluations\"> Nfcn = 179 </td>\n",
       "    </tr>\n",
       "    <tr>\n",
       "        <td colspan=\"2\" style=\"text-align:left\" title=\"Estimated distance to minimum and goal\"> EDM = 2.81e-07 (Goal: 0.0002) </td>\n",
       "        <td colspan=\"3\" style=\"text-align:center\" title=\"Total run time of algorithms\"> time = 4453.9 sec </td>\n",
       "    </tr>\n",
       "    <tr>\n",
       "        <td colspan=\"2\" style=\"text-align:center;background-color:#92CCA6;color:black\"> Valid Minimum </td>\n",
       "        <td colspan=\"3\" style=\"text-align:center;background-color:#92CCA6;color:black\"> No Parameters at limit </td>\n",
       "    </tr>\n",
       "    <tr>\n",
       "        <td colspan=\"2\" style=\"text-align:center;background-color:#92CCA6;color:black\"> Below EDM threshold (goal x 10) </td>\n",
       "        <td colspan=\"3\" style=\"text-align:center;background-color:#92CCA6;color:black\"> Below call limit </td>\n",
       "    </tr>\n",
       "    <tr>\n",
       "        <td style=\"text-align:center;background-color:#92CCA6;color:black\"> Covariance </td>\n",
       "        <td style=\"text-align:center;background-color:#92CCA6;color:black\"> Hesse ok </td>\n",
       "        <td style=\"text-align:center;background-color:#92CCA6;color:black\" title=\"Is covariance matrix accurate?\"> Accurate </td>\n",
       "        <td style=\"text-align:center;background-color:#92CCA6;color:black\" title=\"Is covariance matrix positive definite?\"> Pos. def. </td>\n",
       "        <td style=\"text-align:center;background-color:#92CCA6;color:black\" title=\"Was positive definiteness enforced by Minuit?\"> Not forced </td>\n",
       "    </tr>\n",
       "</table><table>\n",
       "    <tr>\n",
       "        <td></td>\n",
       "        <th title=\"Variable name\"> Name </th>\n",
       "        <th title=\"Value of parameter\"> Value </th>\n",
       "        <th title=\"Hesse error\"> Hesse Error </th>\n",
       "        <th title=\"Minos lower error\"> Minos Error- </th>\n",
       "        <th title=\"Minos upper error\"> Minos Error+ </th>\n",
       "        <th title=\"Lower limit of the parameter\"> Limit- </th>\n",
       "        <th title=\"Upper limit of the parameter\"> Limit+ </th>\n",
       "        <th title=\"Is the parameter fixed in the fit\"> Fixed </th>\n",
       "    </tr>\n",
       "    <tr>\n",
       "        <th> 0 </th>\n",
       "        <td> b </td>\n",
       "        <td> 2.02 </td>\n",
       "        <td> 0.13 </td>\n",
       "        <td>  </td>\n",
       "        <td>  </td>\n",
       "        <td>  </td>\n",
       "        <td>  </td>\n",
       "        <td>  </td>\n",
       "    </tr>\n",
       "    <tr>\n",
       "        <th> 1 </th>\n",
       "        <td> a1 </td>\n",
       "        <td> -4 </td>\n",
       "        <td> 12 </td>\n",
       "        <td>  </td>\n",
       "        <td>  </td>\n",
       "        <td>  </td>\n",
       "        <td>  </td>\n",
       "        <td>  </td>\n",
       "    </tr>\n",
       "    <tr>\n",
       "        <th> 2 </th>\n",
       "        <td> a2 </td>\n",
       "        <td> -0.25 </td>\n",
       "        <td> 0.25 </td>\n",
       "        <td>  </td>\n",
       "        <td>  </td>\n",
       "        <td>  </td>\n",
       "        <td>  </td>\n",
       "        <td>  </td>\n",
       "    </tr>\n",
       "    <tr>\n",
       "        <th> 3 </th>\n",
       "        <td> a3 </td>\n",
       "        <td> 0.0021 </td>\n",
       "        <td> 0.0013 </td>\n",
       "        <td>  </td>\n",
       "        <td>  </td>\n",
       "        <td>  </td>\n",
       "        <td>  </td>\n",
       "        <td>  </td>\n",
       "    </tr>\n",
       "    <tr>\n",
       "        <th> 4 </th>\n",
       "        <td> alpha_par </td>\n",
       "        <td> 1.001 </td>\n",
       "        <td> 0.009 </td>\n",
       "        <td>  </td>\n",
       "        <td>  </td>\n",
       "        <td>  </td>\n",
       "        <td>  </td>\n",
       "        <td>  </td>\n",
       "    </tr>\n",
       "</table><table>\n",
       "    <tr>\n",
       "        <td></td>\n",
       "        <th> b </th>\n",
       "        <th> a1 </th>\n",
       "        <th> a2 </th>\n",
       "        <th> a3 </th>\n",
       "        <th> alpha_par </th>\n",
       "    </tr>\n",
       "    <tr>\n",
       "        <th> b </th>\n",
       "        <td> 0.0164 </td>\n",
       "        <td style=\"background-color:rgb(161,161,250);color:black\"> -1.08 <strong>(-0.684)</strong> </td>\n",
       "        <td style=\"background-color:rgb(250,183,183);color:black\"> 0.0143 <strong>(0.445)</strong> </td>\n",
       "        <td style=\"background-color:rgb(215,215,250);color:black\"> -4.39e-05 <strong>(-0.273)</strong> </td>\n",
       "        <td style=\"background-color:rgb(227,227,250);color:black\"> -0.0002 <strong>(-0.174)</strong> </td>\n",
       "    </tr>\n",
       "    <tr>\n",
       "        <th> a1 </th>\n",
       "        <td style=\"background-color:rgb(161,161,250);color:black\"> -1.08 <strong>(-0.684)</strong> </td>\n",
       "        <td> 154 </td>\n",
       "        <td style=\"background-color:rgb(128,128,250);color:black\"> -2.94 <strong>(-0.941)</strong> </td>\n",
       "        <td style=\"background-color:rgb(250,126,126);color:black\"> 0.0129 <strong>(0.830)</strong> </td>\n",
       "        <td style=\"background-color:rgb(250,222,222);color:black\"> 0.0207 <strong>(0.186)</strong> </td>\n",
       "    </tr>\n",
       "    <tr>\n",
       "        <th> a2 </th>\n",
       "        <td style=\"background-color:rgb(250,183,183);color:black\"> 0.0143 <strong>(0.445)</strong> </td>\n",
       "        <td style=\"background-color:rgb(128,128,250);color:black\"> -2.94 <strong>(-0.941)</strong> </td>\n",
       "        <td> 0.0637 </td>\n",
       "        <td style=\"background-color:rgb(125,125,250);color:black\"> -0.000305 <strong>(-0.963)</strong> </td>\n",
       "        <td style=\"background-color:rgb(225,225,250);color:black\"> -0.000432 <strong>(-0.191)</strong> </td>\n",
       "    </tr>\n",
       "    <tr>\n",
       "        <th> a3 </th>\n",
       "        <td style=\"background-color:rgb(215,215,250);color:black\"> -4.39e-05 <strong>(-0.273)</strong> </td>\n",
       "        <td style=\"background-color:rgb(250,126,126);color:black\"> 0.0129 <strong>(0.830)</strong> </td>\n",
       "        <td style=\"background-color:rgb(125,125,250);color:black\"> -0.000305 <strong>(-0.963)</strong> </td>\n",
       "        <td> 1.58e-06 </td>\n",
       "        <td style=\"background-color:rgb(250,222,222);color:black\"> 2.1e-06 <strong>(0.186)</strong> </td>\n",
       "    </tr>\n",
       "    <tr>\n",
       "        <th> alpha_par </th>\n",
       "        <td style=\"background-color:rgb(227,227,250);color:black\"> -0.0002 <strong>(-0.174)</strong> </td>\n",
       "        <td style=\"background-color:rgb(250,222,222);color:black\"> 0.0207 <strong>(0.186)</strong> </td>\n",
       "        <td style=\"background-color:rgb(225,225,250);color:black\"> -0.000432 <strong>(-0.191)</strong> </td>\n",
       "        <td style=\"background-color:rgb(250,222,222);color:black\"> 2.1e-06 <strong>(0.186)</strong> </td>\n",
       "        <td> 8.04e-05 </td>\n",
       "    </tr>\n",
       "</table>"
      ],
      "text/plain": [
       "┌─────────────────────────────────────────────────────────────────────────┐\n",
       "│                                Migrad                                   │\n",
       "├──────────────────────────────────┬──────────────────────────────────────┤\n",
       "│ FCN = 38.22                      │              Nfcn = 179              │\n",
       "│ EDM = 2.81e-07 (Goal: 0.0002)    │          time = 4453.9 sec           │\n",
       "├──────────────────────────────────┼──────────────────────────────────────┤\n",
       "│          Valid Minimum           │        No Parameters at limit        │\n",
       "├──────────────────────────────────┼──────────────────────────────────────┤\n",
       "│ Below EDM threshold (goal x 10)  │           Below call limit           │\n",
       "├───────────────┬──────────────────┼───────────┬─────────────┬────────────┤\n",
       "│  Covariance   │     Hesse ok     │ Accurate  │  Pos. def.  │ Not forced │\n",
       "└───────────────┴──────────────────┴───────────┴─────────────┴────────────┘\n",
       "┌───┬───────────┬───────────┬───────────┬────────────┬────────────┬─────────┬─────────┬───────┐\n",
       "│   │ Name      │   Value   │ Hesse Err │ Minos Err- │ Minos Err+ │ Limit-  │ Limit+  │ Fixed │\n",
       "├───┼───────────┼───────────┼───────────┼────────────┼────────────┼─────────┼─────────┼───────┤\n",
       "│ 0 │ b         │   2.02    │   0.13    │            │            │         │         │       │\n",
       "│ 1 │ a1        │    -4     │    12     │            │            │         │         │       │\n",
       "│ 2 │ a2        │   -0.25   │   0.25    │            │            │         │         │       │\n",
       "│ 3 │ a3        │  0.0021   │  0.0013   │            │            │         │         │       │\n",
       "│ 4 │ alpha_par │   1.001   │   0.009   │            │            │         │         │       │\n",
       "└───┴───────────┴───────────┴───────────┴────────────┴────────────┴─────────┴─────────┴───────┘\n",
       "┌───────────┬───────────────────────────────────────────────────┐\n",
       "│           │         b        a1        a2        a3 alpha_par │\n",
       "├───────────┼───────────────────────────────────────────────────┤\n",
       "│         b │    0.0164     -1.08    0.0143 -4.39e-05   -0.0002 │\n",
       "│        a1 │     -1.08       154     -2.94    0.0129    0.0207 │\n",
       "│        a2 │    0.0143     -2.94    0.0637 -0.000305 -0.000432 │\n",
       "│        a3 │ -4.39e-05    0.0129 -0.000305  1.58e-06   2.1e-06 │\n",
       "│ alpha_par │   -0.0002    0.0207 -0.000432   2.1e-06  8.04e-05 │\n",
       "└───────────┴───────────────────────────────────────────────────┘"
      ]
     },
     "execution_count": 86,
     "metadata": {},
     "output_type": "execute_result"
    }
   ],
   "source": [
    "imin"
   ]
  }
 ],
 "metadata": {
  "kernelspec": {
   "display_name": "cosmodesi-1.0.0",
   "language": "python",
   "name": "cosmodesi-1.0.0"
  },
  "language_info": {
   "codemirror_mode": {
    "name": "ipython",
    "version": 3
   },
   "file_extension": ".py",
   "mimetype": "text/x-python",
   "name": "python",
   "nbconvert_exporter": "python",
   "pygments_lexer": "ipython3",
   "version": "3.9.10"
  }
 },
 "nbformat": 4,
 "nbformat_minor": 5
}
