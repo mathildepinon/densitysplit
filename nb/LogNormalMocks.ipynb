{
 "cells": [
  {
   "cell_type": "markdown",
   "id": "ce39e971-c1a3-4659-9944-d1c65141de34",
   "metadata": {},
   "source": [
    "# Create instances of Data from log-normal mocks"
   ]
  },
  {
   "cell_type": "code",
   "execution_count": 1,
   "id": "83d0828b-b7b6-4536-bc95-3e2c507f9778",
   "metadata": {},
   "outputs": [],
   "source": [
    "import time\n",
    "\n",
    "import numpy as np\n",
    "from scipy import optimize as opt\n",
    "from matplotlib import pyplot as plt\n",
    "\n",
    "plt.rcParams[\"figure.figsize\"] = (10, 8)\n",
    "plt.rcParams.update({'font.size': 14})\n",
    "\n",
    "from cosmoprimo import *\n",
    "from pycorr import TwoPointCorrelationFunction\n",
    "from mockfactory import EulerianLinearMock, LagrangianLinearMock, RandomBoxCatalog, setup_logging\n",
    "\n",
    "from densitysplit import catalog_data, density_split\n",
    "from bin.density_split_mocks_functions import generate_mock, split_density, compute_densitySplit_CCF\n",
    "from densitysplit.pk_model import *\n",
    "from densitysplit.utils import *\n",
    "from densitysplit.corr_func_utils import *"
   ]
  },
  {
   "cell_type": "markdown",
   "id": "4d92a85f-b500-43ab-8097-299f2d97611b",
   "metadata": {
    "tags": []
   },
   "source": [
    "## Data and output directories"
   ]
  },
  {
   "cell_type": "code",
   "execution_count": 2,
   "id": "2c040497-6f71-42de-9142-b88c6e672c14",
   "metadata": {},
   "outputs": [],
   "source": [
    "data_dir = '/feynman/work/dphp/mp270220/data/'\n",
    "output_dir = '/feynman/work/dphp/mp270220/outputs/'"
   ]
  },
  {
   "cell_type": "markdown",
   "id": "442e1d5f-7796-49a9-9891-1802a5ed8896",
   "metadata": {},
   "source": [
    "## Get data"
   ]
  },
  {
   "cell_type": "code",
   "execution_count": 3,
   "id": "743e720f-1851-4b56-8953-edf0a9ffe1de",
   "metadata": {},
   "outputs": [
    {
     "name": "stdout",
     "output_type": "stream",
     "text": [
      "[000001.43] [0/1] 06-19 18:26  CatalogMesh               INFO     Slab 0 ~ 4194304 / 2934922.\n",
      "[000002.17] [0/1] 06-19 18:26  CatalogMesh               INFO     Painted 2934922 out of 2934922 objects to mesh.\n"
     ]
    }
   ],
   "source": [
    "catalog_name = 'AbacusSummit_1Gpc_z1.175'\n",
    "#catalog_name = 'AbacusSummit_2Gpc_z1.175'\n",
    "#catalog_name = 'AbacusSummit_2Gpc_z0.800'\n",
    "#catalog_name = 'mock'\n",
    "\n",
    "catalog_dat = catalog_data.Data.load(data_dir+catalog_name+'.npy')\n",
    "\n",
    "cellsize = 10\n",
    "resampler = 'tsc'\n",
    "\n",
    "# Compute density with weights\n",
    "catalog = density_split.DensitySplit(catalog_dat)\n",
    "catalog.compute_density(cellsize=cellsize, resampler=resampler, use_rsd=True, use_weights=True)"
   ]
  },
  {
   "cell_type": "markdown",
   "id": "6562807a-1197-4a07-b27e-b17dac4497f6",
   "metadata": {},
   "source": [
    "## Mock properties"
   ]
  },
  {
   "cell_type": "code",
   "execution_count": 4,
   "id": "c94a1504-ffbd-4e2f-b15a-6918d28eb867",
   "metadata": {},
   "outputs": [],
   "source": [
    "nmesh = 100\n",
    "boxsize = catalog.boxsize\n",
    "boxcenter = catalog.boxcenter\n",
    "seed = 42\n",
    "los = 'x'\n",
    "nbar = catalog.data.size/catalog.boxsize**3\n",
    "\n",
    "z = catalog.data.redshift\n",
    "\n",
    "# Abacus summit cosmology\n",
    "cosmo_abacus = fiducial.AbacusSummitBase()\n",
    "bg = cosmo_abacus.get_background()\n",
    "\n",
    "f = bg.growth_rate(z)\n",
    "bias = 1.8\n",
    "\n",
    "pklin = cosmo_abacus.get_fourier().pk_interpolator().to_1d(z)"
   ]
  },
  {
   "cell_type": "code",
   "execution_count": 5,
   "id": "612d03e4-1a9f-4cd2-8022-6d2b79de3dbe",
   "metadata": {},
   "outputs": [
    {
     "data": {
      "text/plain": [
       "array(0.89781353)"
      ]
     },
     "execution_count": 5,
     "metadata": {},
     "output_type": "execute_result"
    }
   ],
   "source": [
    "f"
   ]
  },
  {
   "cell_type": "code",
   "execution_count": 6,
   "id": "400ddb93-1fc2-449b-9d42-f1099373147f",
   "metadata": {},
   "outputs": [
    {
     "data": {
      "text/plain": [
       "0.8997766233678598"
      ]
     },
     "execution_count": 6,
     "metadata": {},
     "output_type": "execute_result"
    }
   ],
   "source": [
    "bg.Omega_m(z)**0.55"
   ]
  },
  {
   "cell_type": "markdown",
   "id": "f1724127-e1f6-4a97-9f37-0e71429050c0",
   "metadata": {},
   "source": [
    "## Abacus summit cosmology"
   ]
  },
  {
   "cell_type": "code",
   "execution_count": 7,
   "id": "f64a8747-ebfa-4cbc-9499-26c7043c40db",
   "metadata": {},
   "outputs": [
    {
     "name": "stdout",
     "output_type": "stream",
     "text": [
      "[000003.13] [0/1] 06-19 18:26  LagrangianLinearMock      INFO     White noise generated.\n",
      "[000003.31] [0/1] 06-19 18:26  LagrangianLinearMock      INFO     Poisson sampling done, total number of objects is 2939358.\n",
      "[000003.38] [0/1] 06-19 18:26  LagrangianLinearMock      INFO     Catalog produced. Assigning in cell shift.\n"
     ]
    }
   ],
   "source": [
    "# unitary_amplitude forces amplitude to 1\n",
    "mock = LagrangianLinearMock(pklin, nmesh=nmesh, boxsize=boxsize, boxcenter=boxcenter, seed=seed, unitary_amplitude=False)\n",
    "\n",
    "# this is Lagrangian bias, Eulerian bias - 1\n",
    "mock.set_real_delta_field(bias=bias - 1)\n",
    "mock.set_analytic_selection_function(nbar=nbar)\n",
    "mock.poisson_sample(seed=43)\n",
    "data = mock.to_catalog()"
   ]
  },
  {
   "cell_type": "code",
   "execution_count": 8,
   "id": "92f29fd3-2b6d-4dad-b6bc-125968bf6bb8",
   "metadata": {},
   "outputs": [],
   "source": [
    "# Create Data instance\n",
    "positions = data['Position'].T % boxsize\n",
    "\n",
    "# Set rsd\n",
    "mock.set_rsd(f=f, los=los)\n",
    "data_rsd = mock.to_catalog()\n",
    "positions_rsd = data_rsd['Position'].T % boxsize\n",
    "\n",
    "mock_catalog = catalog_data.Data(positions, z, boxsize, boxcenter, name='mock')\n",
    "mock_catalog.set_rsd(positions_rsd=positions_rsd)"
   ]
  },
  {
   "cell_type": "code",
   "execution_count": 13,
   "id": "c468675f-1668-40b4-82a3-d86d5721f099",
   "metadata": {},
   "outputs": [
    {
     "data": {
      "text/plain": [
       "array([[506.88832261 498.5037279  503.76126128 ... 496.55127636 496.58318008\n",
       "  486.79772513]\n",
       " [498.76157452 497.89565447 499.00437744 ... 495.77709948 492.73392051\n",
       "  490.38011594]\n",
       " [505.74812192 507.26445994 502.23271942 ... 494.62035345 493.97310056\n",
       "  495.41539007]])"
      ]
     },
     "execution_count": 13,
     "metadata": {},
     "output_type": "execute_result"
    }
   ],
   "source": [
    "positions"
   ]
  },
  {
   "cell_type": "code",
   "execution_count": 14,
   "id": "a5b36a20-5d53-4d27-b38b-009a7acc19f7",
   "metadata": {},
   "outputs": [
    {
     "data": {
      "text/plain": [
       "array([[505.80930546 497.10386392 502.42921304 ... 493.85964928 493.91001702\n",
       "  483.32232698]\n",
       " [498.76157452 497.89565447 499.00437744 ... 495.77709948 492.73392051\n",
       "  490.38011594]\n",
       " [505.74812192 507.26445994 502.23271942 ... 494.62035345 493.97310056\n",
       "  495.41539007]])"
      ]
     },
     "execution_count": 14,
     "metadata": {},
     "output_type": "execute_result"
    }
   ],
   "source": [
    "data['Position'].T % boxsize"
   ]
  },
  {
   "cell_type": "code",
   "execution_count": 15,
   "id": "1619bb0a-48f6-49a7-be22-2ff52dae6d57",
   "metadata": {},
   "outputs": [
    {
     "data": {
      "text/plain": [
       "array([[505.80930546 497.10386392 502.42921304 ... 493.85964928 493.91001702\n",
       "  483.32232698]\n",
       " [498.76157452 497.89565447 499.00437744 ... 495.77709948 492.73392051\n",
       "  490.38011594]\n",
       " [505.74812192 507.26445994 502.23271942 ... 494.62035345 493.97310056\n",
       "  495.41539007]])"
      ]
     },
     "execution_count": 15,
     "metadata": {},
     "output_type": "execute_result"
    }
   ],
   "source": [
    "data_rsd['Position'].T % boxsize"
   ]
  },
  {
   "cell_type": "markdown",
   "id": "2b8a9ccc-bc61-45c4-a605-ec0660052835",
   "metadata": {
    "tags": []
   },
   "source": [
    "## Compute density"
   ]
  },
  {
   "cell_type": "code",
   "execution_count": 9,
   "id": "e6fc2a60-1866-4bcb-b504-e0e3f9dbcaad",
   "metadata": {},
   "outputs": [
    {
     "name": "stdout",
     "output_type": "stream",
     "text": [
      "[000005.76] [0/1] 05-23 17:13  CatalogMesh               INFO     Slab 0 ~ 4194304 / 2939358.\n",
      "[000006.54] [0/1] 05-23 17:13  CatalogMesh               INFO     Painted 2939358 out of 2939358 objects to mesh.\n"
     ]
    }
   ],
   "source": [
    "cellsize = 10\n",
    "resampler = 'tsc'\n",
    "\n",
    "# Compute density without weights\n",
    "mock_density = density_split.DensitySplit(mock_catalog)\n",
    "mock_density.compute_density(cellsize=cellsize, resampler=resampler, use_rsd=True, use_weights=False)"
   ]
  },
  {
   "cell_type": "markdown",
   "id": "9b0f7813-1a40-4f32-ac5b-62cc551020a4",
   "metadata": {},
   "source": [
    "### Plot density distribution"
   ]
  },
  {
   "cell_type": "code",
   "execution_count": 10,
   "id": "d207c846-a967-4128-9daf-c6429d32568c",
   "metadata": {},
   "outputs": [
    {
     "data": {
      "image/png": "[encoded data removed]",
      "text/plain": [
       "<Figure size 720x576 with 1 Axes>"
      ]
     },
     "metadata": {
      "needs_background": "light"
     },
     "output_type": "display_data"
    }
   ],
   "source": [
    "plt.hist(catalog.data_densities, range=(-1, 4), bins=60, density=False, alpha=0.5, label='Abacus catalog')\n",
    "plt.hist(mock_density.data_densities, range=(-1, 4), bins=60, density=False, alpha=0.5, label='Log-normal mock')\n",
    "plt.xlabel(\"$\\delta$\")\n",
    "plt.ylabel(\"Normalized counts\")\n",
    "plt.legend()\n",
    "plt.show()"
   ]
  },
  {
   "cell_type": "markdown",
   "id": "d35021fc-6d0f-4287-bd76-0c1bb36a7598",
   "metadata": {
    "tags": []
   },
   "source": [
    "## Compute 2PCF"
   ]
  },
  {
   "cell_type": "code",
   "execution_count": 11,
   "id": "6b248326-ed57-4f1e-b785-276febba3e96",
   "metadata": {},
   "outputs": [],
   "source": [
    "edges = (np.linspace(0., 150., 51), np.linspace(-1, 1, 201))\n",
    "los = 'x'"
   ]
  },
  {
   "cell_type": "code",
   "execution_count": 12,
   "id": "aa9ee9bf-dd89-49d4-aba2-7cd7cb467115",
   "metadata": {},
   "outputs": [
    {
     "name": "stdout",
     "output_type": "stream",
     "text": [
      "[000007.09] [0/1] 05-23 17:13  TwoPointCorrelationFunction INFO     Using estimator <class 'pycorr.twopoint_estimator.NaturalTwoPointEstimator'>.\n",
      "[000007.09] [0/1] 05-23 17:13  TwoPointCorrelationFunction INFO     Computing two-point counts D1D2.\n",
      "[000044.86] [0/1] 05-23 17:14  TwoPointCorrelationFunction INFO     Analytically computing two-point counts R1R2.\n"
     ]
    }
   ],
   "source": [
    "result = TwoPointCorrelationFunction('smu', edges,\n",
    "                                     data_positions1=mock_catalog.positions_rsd,\n",
    "                                     boxsize=mock_catalog.boxsize,\n",
    "                                     engine='corrfunc', nthreads=128,\n",
    "                                     los = los)"
   ]
  },
  {
   "cell_type": "markdown",
   "id": "2041e6b0-750c-432f-ac21-dc166dc49401",
   "metadata": {},
   "source": [
    "## Compare mock 2PCF with data"
   ]
  },
  {
   "cell_type": "code",
   "execution_count": 13,
   "id": "348709c2-0ee1-4df7-abfd-8fab5aa674f1",
   "metadata": {},
   "outputs": [],
   "source": [
    "ells = [0, 2]\n",
    "nells = len(ells)"
   ]
  },
  {
   "cell_type": "code",
   "execution_count": 14,
   "id": "24c2f08b-78ed-4ceb-be8c-550c052a777a",
   "metadata": {},
   "outputs": [
    {
     "name": "stdout",
     "output_type": "stream",
     "text": [
      "[000044.87] [0/1] 05-23 17:14  TwoPointEstimator         INFO     Loading /feynman/work/dphp/mp270220/outputs/AbacusSummit_2Gpc_z1.175_2PCF_RSD.npy.\n"
     ]
    }
   ],
   "source": [
    "abacus_results = TwoPointCorrelationFunction.load(output_dir+'AbacusSummit_2Gpc_z1.175_2PCF_RSD.npy')"
   ]
  },
  {
   "cell_type": "code",
   "execution_count": 15,
   "id": "498b1658-6f73-4e43-a991-5541f49ec213",
   "metadata": {},
   "outputs": [],
   "source": [
    "s, abacus_xiell = abacus_results.get_corr(ells=ells, return_sep=True)\n",
    "mocks_xiell = result.get_corr(ells=ells, return_sep=False)"
   ]
  },
  {
   "cell_type": "code",
   "execution_count": 16,
   "id": "d5de3daa-5ac7-427a-9938-c2adbd5b9fd2",
   "metadata": {},
   "outputs": [
    {
     "data": {
      "image/png": "[encoded data removed]",
      "text/plain": [
       "<Figure size 720x504 with 1 Axes>"
      ]
     },
     "metadata": {
      "needs_background": "light"
     },
     "output_type": "display_data"
    }
   ],
   "source": [
    "plt.rcParams[\"figure.figsize\"] = (10, 7)\n",
    "\n",
    "for ill, ell in enumerate(ells):\n",
    "    plt.plot(s, s**2 * abacus_xiell[ill], linestyle = '--', color='C'+str(ill))\n",
    "    plt.plot(s, s**2 * mocks_xiell[ill])\n",
    "    # for legend\n",
    "    plt.plot([],[], linestyle='-', color='C'+str(ill), label='$\\ell = {:d}$'.format(ell))\n",
    "    plt.grid(True)\n",
    "\n",
    "plt.plot([],[], linestyle='--', color='black', label='Abacus (2 Gpc)')\n",
    "plt.plot([],[], linestyle='-', color='black', label='Log-normal mocks')\n",
    "plt.xlabel(r'$s$ [$\\mathrm{Mpc}/h$]')\n",
    "plt.ylabel(r'$s^2 \\xi_{\\ell}(s)$ [$(\\mathrm{Mpc}/h)^{2}$]')\n",
    "\n",
    "plt.legend()\n",
    "plt.show()"
   ]
  }
 ],
 "metadata": {
  "kernelspec": {
   "display_name": "cosmodesi-1.0.0",
   "language": "python",
   "name": "cosmodesi-1.0.0"
  },
  "language_info": {
   "codemirror_mode": {
    "name": "ipython",
    "version": 3
   },
   "file_extension": ".py",
   "mimetype": "text/x-python",
   "name": "python",
   "nbconvert_exporter": "python",
   "pygments_lexer": "ipython3",
   "version": "3.10.15"
  }
 },
 "nbformat": 4,
 "nbformat_minor": 5
}
