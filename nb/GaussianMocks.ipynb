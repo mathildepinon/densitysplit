{
 "cells": [
  {
   "cell_type": "markdown",
   "id": "ce39e971-c1a3-4659-9944-d1c65141de34",
   "metadata": {},
   "source": [
    "# Create instances of Data from Gaussian mocks"
   ]
  },
  {
   "cell_type": "code",
   "execution_count": 1,
   "id": "83d0828b-b7b6-4536-bc95-3e2c507f9778",
   "metadata": {},
   "outputs": [],
   "source": [
    "import time\n",
    "\n",
    "import numpy as np\n",
    "from scipy import optimize as opt\n",
    "from matplotlib import pyplot as plt\n",
    "\n",
    "plt.rcParams[\"figure.figsize\"] = (10, 8)\n",
    "plt.rcParams.update({'font.size': 14})\n",
    "\n",
    "from cosmoprimo import *\n",
    "from pycorr import TwoPointCorrelationFunction\n",
    "from mockfactory import EulerianLinearMock, LagrangianLinearMock, RandomBoxCatalog, setup_logging\n",
    "\n",
    "from densitysplit import catalog_data, density_split\n",
    "from bin.density_split_mocks_functions import generate_mock, split_density, compute_densitySplit_CCF\n",
    "from densitysplit.pk_model import *\n",
    "from densitysplit.utils import *\n",
    "from densitysplit.corr_func_utils import *"
   ]
  },
  {
   "cell_type": "markdown",
   "id": "4d92a85f-b500-43ab-8097-299f2d97611b",
   "metadata": {
    "tags": []
   },
   "source": [
    "## Data and output directories"
   ]
  },
  {
   "cell_type": "code",
   "execution_count": 2,
   "id": "2c040497-6f71-42de-9142-b88c6e672c14",
   "metadata": {},
   "outputs": [],
   "source": [
    "data_dir = '/feynman/work/dphp/mp270220/data/'\n",
    "output_dir = '/feynman/work/dphp/mp270220/outputs/'"
   ]
  },
  {
   "cell_type": "markdown",
   "id": "442e1d5f-7796-49a9-9891-1802a5ed8896",
   "metadata": {},
   "source": [
    "## Get data"
   ]
  },
  {
   "cell_type": "code",
   "execution_count": 3,
   "id": "743e720f-1851-4b56-8953-edf0a9ffe1de",
   "metadata": {},
   "outputs": [
    {
     "name": "stdout",
     "output_type": "stream",
     "text": [
      "[000001.90] [0/1] 06-09 12:40  CatalogMesh               INFO     Slab 0 ~ 4194304 / 2934922.\n",
      "[000002.70] [0/1] 06-09 12:40  CatalogMesh               INFO     Painted 2934922 out of 2934922 objects to mesh.\n"
     ]
    }
   ],
   "source": [
    "catalog_name = 'AbacusSummit_1Gpc_z1.175'\n",
    "#catalog_name = 'AbacusSummit_2Gpc_z1.175'\n",
    "#catalog_name = 'AbacusSummit_2Gpc_z0.800'\n",
    "#catalog_name = 'mock'\n",
    "\n",
    "catalog_dat = catalog_data.Data.load(data_dir+catalog_name+'.npy')\n",
    "\n",
    "cellsize = 10\n",
    "resampler = 'tsc'\n",
    "\n",
    "# Compute density with weights\n",
    "catalog = density_split.DensitySplit(catalog_dat)\n",
    "catalog.compute_density(cellsize=cellsize, resampler=resampler, use_rsd=False, use_weights=True)"
   ]
  },
  {
   "cell_type": "markdown",
   "id": "6562807a-1197-4a07-b27e-b17dac4497f6",
   "metadata": {},
   "source": [
    "## Mock properties"
   ]
  },
  {
   "cell_type": "code",
   "execution_count": 4,
   "id": "c94a1504-ffbd-4e2f-b15a-6918d28eb867",
   "metadata": {},
   "outputs": [],
   "source": [
    "nmesh = 100\n",
    "boxsize = catalog.boxsize\n",
    "boxcenter = catalog.boxcenter\n",
    "seed = 42\n",
    "los = 'x'\n",
    "nbar = 5*catalog.data.size/catalog.boxsize**3\n",
    "\n",
    "z = catalog.data.redshift\n",
    "\n",
    "# Abacus summit cosmology\n",
    "cosmo_abacus = fiducial.AbacusSummitBase()\n",
    "bg = cosmo_abacus.get_background()\n",
    "\n",
    "f = bg.growth_rate(z)\n",
    "bias = 1.8\n",
    "\n",
    "pklin = cosmo_abacus.get_fourier().pk_interpolator().to_1d(z)"
   ]
  },
  {
   "cell_type": "code",
   "execution_count": 5,
   "id": "88d48b06-9c5a-4468-892a-c008df03fa33",
   "metadata": {},
   "outputs": [
    {
     "data": {
      "text/plain": [
       "0.01467461"
      ]
     },
     "execution_count": 5,
     "metadata": {},
     "output_type": "execute_result"
    }
   ],
   "source": [
    "nbar"
   ]
  },
  {
   "cell_type": "markdown",
   "id": "f1724127-e1f6-4a97-9f37-0e71429050c0",
   "metadata": {},
   "source": [
    "## Abacus summit cosmology"
   ]
  },
  {
   "cell_type": "code",
   "execution_count": 6,
   "id": "f64a8747-ebfa-4cbc-9499-26c7043c40db",
   "metadata": {},
   "outputs": [
    {
     "name": "stdout",
     "output_type": "stream",
     "text": [
      "[000003.81] [0/1] 06-09 12:40  EulerianLinearMock        INFO     White noise generated.\n"
     ]
    }
   ],
   "source": [
    "# unitary_amplitude forces amplitude to 1\n",
    "mock = EulerianLinearMock(pklin, nmesh=nmesh, boxsize=boxsize, boxcenter=boxcenter, seed=seed, unitary_amplitude=False)\n",
    "\n",
    "mock.set_real_delta_field(bias=bias)\n",
    "\n",
    "data = RandomBoxCatalog(nbar=nbar, boxsize=boxsize, boxcenter=boxcenter, seed=seed)\n",
    "data['Weight'] = mock.readout(data['Position'], field='delta', resampler='tsc', compensate=True) + 1."
   ]
  },
  {
   "cell_type": "code",
   "execution_count": 7,
   "id": "92f29fd3-2b6d-4dad-b6bc-125968bf6bb8",
   "metadata": {},
   "outputs": [],
   "source": [
    "# Create Data instance\n",
    "positions = data['Position'].T % boxsize\n",
    "\n",
    "# Set rsd\n",
    "mock.set_rsd(f=f, los=los)\n",
    "data_rsd = RandomBoxCatalog(nbar=nbar, boxsize=boxsize, boxcenter=boxcenter, seed=seed)\n",
    "data_rsd['Weight'] = mock.readout(data_rsd['Position'], field='delta', resampler='tsc', compensate=True) + 1.\n",
    "\n",
    "positions_rsd = data_rsd['Position'].T % boxsize\n",
    "\n",
    "mock_catalog = catalog_data.Data(positions, z, boxsize, boxcenter, name='mock', weights=data['Weight'])\n",
    "mock_catalog.set_rsd(positions_rsd=positions_rsd)\n",
    "\n",
    "mock_catalog.save(output_dir+catalog_name+'_gaussianMock_nbarx5')"
   ]
  },
  {
   "cell_type": "markdown",
   "id": "2b8a9ccc-bc61-45c4-a605-ec0660052835",
   "metadata": {
    "tags": []
   },
   "source": [
    "## Compute density"
   ]
  },
  {
   "cell_type": "code",
   "execution_count": 8,
   "id": "e6fc2a60-1866-4bcb-b504-e0e3f9dbcaad",
   "metadata": {},
   "outputs": [
    {
     "name": "stdout",
     "output_type": "stream",
     "text": [
      "[000032.13] [0/1] 06-09 12:41  CatalogMesh               INFO     Slab 0 ~ 4194304 / 14674610.\n",
      "[000033.65] [0/1] 06-09 12:41  CatalogMesh               INFO     Painted 4194304 out of 14674610 objects to mesh.\n",
      "[000033.66] [0/1] 06-09 12:41  CatalogMesh               INFO     Slab 4194304 ~ 8388608 / 14674610.\n",
      "[000035.13] [0/1] 06-09 12:41  CatalogMesh               INFO     Painted 8388608 out of 14674610 objects to mesh.\n",
      "[000035.13] [0/1] 06-09 12:41  CatalogMesh               INFO     Slab 8388608 ~ 12582912 / 14674610.\n",
      "[000036.61] [0/1] 06-09 12:41  CatalogMesh               INFO     Painted 12582912 out of 14674610 objects to mesh.\n",
      "[000036.61] [0/1] 06-09 12:41  CatalogMesh               INFO     Slab 12582912 ~ 16777216 / 14674610.\n",
      "[000037.35] [0/1] 06-09 12:41  CatalogMesh               INFO     Painted 14674610 out of 14674610 objects to mesh.\n"
     ]
    }
   ],
   "source": [
    "cellsize = 10\n",
    "resampler = 'tsc'\n",
    "\n",
    "# Compute density without weights\n",
    "mock_density = density_split.DensitySplit(mock_catalog)\n",
    "mock_density.compute_density(cellsize=cellsize, resampler=resampler, use_rsd=False, use_weights=True)"
   ]
  },
  {
   "cell_type": "markdown",
   "id": "9b0f7813-1a40-4f32-ac5b-62cc551020a4",
   "metadata": {},
   "source": [
    "### Plot density distribution"
   ]
  },
  {
   "cell_type": "code",
   "execution_count": 9,
   "id": "d207c846-a967-4128-9daf-c6429d32568c",
   "metadata": {},
   "outputs": [
    {
     "data": {
      "image/png": "[encoded data removed]",
      "text/plain": [
       "<Figure size 720x576 with 1 Axes>"
      ]
     },
     "metadata": {
      "needs_background": "light"
     },
     "output_type": "display_data"
    }
   ],
   "source": [
    "plt.hist(catalog.data_densities, range=(-2, 5), bins=60, density=True, alpha=0.5, label='Abacus catalog')\n",
    "plt.hist(mock_density.data_densities, range=(-2, 5), bins=60, density=True, alpha=0.5, label='Gaussian mock')\n",
    "#plt.hist(np.array(catalog.density_mesh).flatten(), range=(-2, 5), bins=60, density=True, alpha=0.5, label='Abacus catalog')\n",
    "#plt.hist(np.array(mock_density.density_mesh).flatten(), range=(-2, 5), bins=60, density=True, alpha=0.5, label='Gaussian mock')\n",
    "plt.xlabel(\"$\\delta$\")\n",
    "plt.ylabel(\"Normalized counts\")\n",
    "plt.legend()\n",
    "plt.show()"
   ]
  },
  {
   "cell_type": "markdown",
   "id": "d35021fc-6d0f-4287-bd76-0c1bb36a7598",
   "metadata": {
    "tags": []
   },
   "source": [
    "## Compute 2PCF"
   ]
  },
  {
   "cell_type": "code",
   "execution_count": 9,
   "id": "6b248326-ed57-4f1e-b785-276febba3e96",
   "metadata": {},
   "outputs": [],
   "source": [
    "edges = (np.linspace(0., 150., 51), np.linspace(-1, 1, 201))\n",
    "los = 'x'"
   ]
  },
  {
   "cell_type": "code",
   "execution_count": 20,
   "id": "aa9ee9bf-dd89-49d4-aba2-7cd7cb467115",
   "metadata": {},
   "outputs": [
    {
     "name": "stdout",
     "output_type": "stream",
     "text": [
      "[000112.66] [0/1] 06-02 12:08  TwoPointCorrelationFunction INFO     Using estimator <class 'pycorr.twopoint_estimator.NaturalTwoPointEstimator'>.\n",
      "[000112.66] [0/1] 06-02 12:08  TwoPointCorrelationFunction INFO     Computing two-point counts D1D2.\n",
      "[000156.07] [0/1] 06-02 12:09  TwoPointCorrelationFunction INFO     Analytically computing two-point counts R1R2.\n"
     ]
    }
   ],
   "source": [
    "result = TwoPointCorrelationFunction('smu', edges,\n",
    "                                     data_positions1=mock_catalog.positions, data_weights1=mock_catalog.weights,\n",
    "                                     boxsize=mock_catalog.boxsize,\n",
    "                                     engine='corrfunc', nthreads=128,\n",
    "                                     los = los)"
   ]
  },
  {
   "cell_type": "markdown",
   "id": "2041e6b0-750c-432f-ac21-dc166dc49401",
   "metadata": {},
   "source": [
    "## Compare mock 2PCF with data"
   ]
  },
  {
   "cell_type": "code",
   "execution_count": 21,
   "id": "348709c2-0ee1-4df7-abfd-8fab5aa674f1",
   "metadata": {},
   "outputs": [],
   "source": [
    "ells = [0]\n",
    "nells = len(ells)"
   ]
  },
  {
   "cell_type": "code",
   "execution_count": 22,
   "id": "24c2f08b-78ed-4ceb-be8c-550c052a777a",
   "metadata": {},
   "outputs": [
    {
     "name": "stdout",
     "output_type": "stream",
     "text": [
      "[000156.07] [0/1] 06-02 12:09  TwoPointEstimator         INFO     Loading /feynman/work/dphp/mp270220/outputs/AbacusSummit_2Gpc_z1.175_2PCF.npy.\n"
     ]
    }
   ],
   "source": [
    "abacus_results = TwoPointCorrelationFunction.load(output_dir+'AbacusSummit_2Gpc_z1.175_2PCF.npy')"
   ]
  },
  {
   "cell_type": "code",
   "execution_count": 23,
   "id": "498b1658-6f73-4e43-a991-5541f49ec213",
   "metadata": {},
   "outputs": [],
   "source": [
    "s, abacus_xiell = abacus_results.get_corr(ells=ells, return_sep=True)\n",
    "mocks_xiell = result.get_corr(ells=ells, return_sep=False)"
   ]
  },
  {
   "cell_type": "code",
   "execution_count": 24,
   "id": "d5de3daa-5ac7-427a-9938-c2adbd5b9fd2",
   "metadata": {},
   "outputs": [
    {
     "data": {
      "image/png": "[encoded data removed]",
      "text/plain": [
       "<Figure size 720x504 with 1 Axes>"
      ]
     },
     "metadata": {
      "needs_background": "light"
     },
     "output_type": "display_data"
    }
   ],
   "source": [
    "plt.rcParams[\"figure.figsize\"] = (10, 7)\n",
    "\n",
    "for ill, ell in enumerate(ells):\n",
    "    plt.plot(s, s**2 * abacus_xiell[ill], linestyle = '--', color='C'+str(ill))\n",
    "    plt.plot(s, s**2 * mocks_xiell[ill])\n",
    "    # for legend\n",
    "    plt.plot([],[], linestyle='-', color='C'+str(ill), label='$\\ell = {:d}$'.format(ell))\n",
    "    plt.grid(True)\n",
    "\n",
    "plt.plot([],[], linestyle='--', color='black', label='Abacus (2 Gpc)')\n",
    "plt.plot([],[], linestyle='-', color='black', label='Gaussian mock')\n",
    "plt.xlabel(r'$s$ [$\\mathrm{Mpc}/h$]')\n",
    "plt.ylabel(r'$s^2 \\xi_{\\ell}(s)$ [$(\\mathrm{Mpc}/h)^{2}$]')\n",
    "\n",
    "plt.legend()\n",
    "plt.show()"
   ]
  }
 ],
 "metadata": {
  "kernelspec": {
   "display_name": "cosmodesi-1.0.0",
   "language": "python",
   "name": "cosmodesi-1.0.0"
  },
  "language_info": {
   "codemirror_mode": {
    "name": "ipython",
    "version": 3
   },
   "file_extension": ".py",
   "mimetype": "text/x-python",
   "name": "python",
   "nbconvert_exporter": "python",
   "pygments_lexer": "ipython3",
   "version": "3.9.10"
  }
 },
 "nbformat": 4,
 "nbformat_minor": 5
}
