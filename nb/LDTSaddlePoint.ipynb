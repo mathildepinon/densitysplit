{
 "cells": [
  {
   "attachments": {},
   "cell_type": "markdown",
   "id": "9bc31dc3-161a-448b-8394-d6bc64e51a04",
   "metadata": {},
   "source": [
    "# Relationship between $\\delta$ and $\\lambda$ through saddle point approximation"
   ]
  },
  {
   "cell_type": "code",
   "execution_count": 1,
   "id": "5885007d-e59b-4876-ade1-ece90f453f63",
   "metadata": {
    "vscode": {
     "languageId": "python"
    }
   },
   "outputs": [
    {
     "name": "stderr",
     "output_type": "stream",
     "text": [
      "/feynman/work/dphp/adematti/cosmodesiconda/20240626-1.0.0/conda/lib/python3.10/site-packages/pandas/core/computation/expressions.py:21: UserWarning: Pandas requires version '2.8.4' or newer of 'numexpr' (version '2.7.3' currently installed).\n",
      "  from pandas.core.computation.check import NUMEXPR_INSTALLED\n"
     ]
    }
   ],
   "source": [
    "import os\n",
    "import numpy as np\n",
    "from matplotlib import pyplot as plt\n",
    "from matplotlib import colors\n",
    "import scipy\n",
    "from scipy.stats import norm, multivariate_normal\n",
    "import seaborn\n",
    "\n",
    "from densitysplit import DensitySplit\n",
    "from densitysplit.ldt_model import LDT, setup_logging\n",
    "\n",
    "# to automatically reload imported modules when executing cell\n",
    "%load_ext autoreload\n",
    "%autoreload 2\n",
    "\n",
    "setup_logging()\n",
    "    \n",
    "plt.style.use(os.path.join(os.path.abspath(''), 'densitysplit.mplstyle'))\n",
    "plt.rcParams[\"figure.autolayout\"] = False\n",
    "\n",
    "plots_dir = '/feynman/home/dphp/mp270220/plots/density'"
   ]
  },
  {
   "cell_type": "code",
   "execution_count": 2,
   "id": "ff2a9300-b501-4c7a-baaf-0e8239520800",
   "metadata": {
    "vscode": {
     "languageId": "python"
    }
   },
   "outputs": [],
   "source": [
    "z = 0.5\n",
    "smoothing_radius = 10\n",
    "sigma = 0.4\n",
    "nbar = 0.0005"
   ]
  },
  {
   "cell_type": "code",
   "execution_count": 3,
   "id": "f217cf75-9eef-419c-873b-c3f26971be0e",
   "metadata": {
    "vscode": {
     "languageId": "python"
    }
   },
   "outputs": [
    {
     "name": "stdout",
     "output_type": "stream",
     "text": [
      "[000000.04]  11-18 11:27  LDT                          INFO     Initializing LDT\n",
      "[000000.06]  11-18 11:27  LDT                          INFO     Initializing theoretical 1D power spectrum\n",
      "[000002.51]  11-18 11:27  LDT                          INFO     Interpolating sigma for 70 R log-spaced values between -1.535056728662697 and 5.364943271337308\n"
     ]
    }
   ],
   "source": [
    "ldtmodel = LDT(redshift=z, smoothing_scale=smoothing_radius, smoothing_kernel=1, nbar=nbar)\n",
    "ldtmodel.interpolate_sigma()\n",
    "ldtmodel.compute_ldt(sigma)"
   ]
  },
  {
   "cell_type": "code",
   "execution_count": 4,
   "id": "d496faaa",
   "metadata": {
    "vscode": {
     "languageId": "python"
    }
   },
   "outputs": [],
   "source": [
    "dpsi = np.gradient(ldtmodel.psi, ldtmodel.yvals, edge_order=2)"
   ]
  },
  {
   "cell_type": "code",
   "execution_count": 5,
   "id": "b649022c",
   "metadata": {
    "vscode": {
     "languageId": "python"
    }
   },
   "outputs": [
    {
     "data": {
      "text/plain": [
       "-567.5482071262003"
      ]
     },
     "execution_count": 5,
     "metadata": {},
     "output_type": "execute_result"
    }
   ],
   "source": [
    "np.min(dpsi)"
   ]
  },
  {
   "cell_type": "code",
   "execution_count": 6,
   "id": "d9156a74",
   "metadata": {
    "vscode": {
     "languageId": "python"
    }
   },
   "outputs": [
    {
     "data": {
      "text/plain": [
       "0.3388899321979828"
      ]
     },
     "execution_count": 6,
     "metadata": {},
     "output_type": "execute_result"
    }
   ],
   "source": [
    "np.max(dpsi)"
   ]
  },
  {
   "cell_type": "code",
   "execution_count": 7,
   "id": "b2c032f9",
   "metadata": {
    "vscode": {
     "languageId": "python"
    }
   },
   "outputs": [
    {
     "data": {
      "image/png": "[encoded data removed]",
      "text/plain": [
       "<Figure size 400x300 with 1 Axes>"
      ]
     },
     "metadata": {},
     "output_type": "display_data"
    }
   ],
   "source": [
    "plt.figure(figsize=(4, 3))\n",
    "plt.plot(ldtmodel.yvals, dpsi)\n",
    "plt.xlabel(r'$\\rho$')\n",
    "plt.ylabel(r'$\\lambda$')\n",
    "plt.show()"
   ]
  },
  {
   "cell_type": "code",
   "execution_count": 8,
   "id": "f31fecc2-bd4f-44de-896f-2982a20ea76c",
   "metadata": {
    "vscode": {
     "languageId": "python"
    }
   },
   "outputs": [
    {
     "data": {
      "image/png": "[encoded data removed]",
      "text/plain": [
       "<Figure size 400x300 with 1 Axes>"
      ]
     },
     "metadata": {},
     "output_type": "display_data"
    }
   ],
   "source": [
    "plt.figure(figsize=(4, 3))\n",
    "plt.plot(ldtmodel.ldavals, ldtmodel.cgf)\n",
    "plt.xlabel(r'$\\lambda$')\n",
    "plt.ylabel(r'$\\phi(\\lambda)$')\n",
    "plt.show()"
   ]
  },
  {
   "cell_type": "code",
   "execution_count": 8,
   "id": "afde439c",
   "metadata": {
    "vscode": {
     "languageId": "python"
    }
   },
   "outputs": [],
   "source": [
    "def get_lambda_range(delta_range=np.arange(0.01, 5, 0.01)):\n",
    "    nu = 21/13\n",
    "    Tau = lambda y: nu*(1 - (1/y)**(1/nu))\n",
    "    tau = nu*(1 - (1/yvals)**(1/nu))\n",
    "    psi = (1 / 2) * tau**2 / ldtmodel.sigma_interp(delta_range**(1 / 3)*ldtmodel.smoothing_scale)**2 * ldtmodel.sigma_interp(ldtmodel.smoothing_scale)**2\n",
    "    dpsi = np.gradient(psi, delta_range, edge_order=2)"
   ]
  },
  {
   "cell_type": "code",
   "execution_count": 9,
   "id": "e378635e-d004-412c-be52-be43ea751da5",
   "metadata": {
    "vscode": {
     "languageId": "python"
    }
   },
   "outputs": [],
   "source": [
    "sigma_test = 0.77"
   ]
  },
  {
   "cell_type": "code",
   "execution_count": 10,
   "id": "41119263-0684-4bd6-a084-16d0e6b13874",
   "metadata": {
    "vscode": {
     "languageId": "python"
    }
   },
   "outputs": [
    {
     "data": {
      "image/png": "[encoded data removed]",
      "text/plain": [
       "<Figure size 400x300 with 1 Axes>"
      ]
     },
     "metadata": {},
     "output_type": "display_data"
    }
   ],
   "source": [
    "yvals = np.arange(0.1, 3, 0.01)\n",
    "nu = 21/13\n",
    "Tau = lambda y: nu*(1 - (1/y)**(1/nu))\n",
    "tau = nu*(1 - (1/yvals)**(1/nu))\n",
    "psi = (1 / 2) * tau**2 / ldtmodel.sigma_interp(yvals**(1 / 3)*ldtmodel.smoothing_scale)**2 * ldtmodel.sigma_interp(ldtmodel.smoothing_scale)**2\n",
    "dpsi = np.gradient(psi, yvals, edge_order=2)\n",
    "\n",
    "plt.figure(figsize=(4, 3))\n",
    "plt.plot(yvals, sigma_test**2 * dpsi)\n",
    "plt.xlabel(r'$\\rho$')\n",
    "plt.ylabel(r'$\\lambda$')\n",
    "plt.show()"
   ]
  },
  {
   "cell_type": "code",
   "execution_count": 11,
   "id": "a1f1b332-482c-4826-b5e9-713f51b4916d",
   "metadata": {
    "vscode": {
     "languageId": "python"
    }
   },
   "outputs": [
    {
     "data": {
      "text/plain": [
       "0.33888993219797214"
      ]
     },
     "execution_count": 11,
     "metadata": {},
     "output_type": "execute_result"
    }
   ],
   "source": [
    "np.max(dpsi)"
   ]
  }
 ],
 "metadata": {
  "kernelspec": {
   "display_name": "cosmodesi-tex",
   "language": "python",
   "name": "cosmodesi-tex"
  },
  "language_info": {
   "codemirror_mode": {
    "name": "ipython",
    "version": 3
   },
   "file_extension": ".py",
   "mimetype": "text/x-python",
   "name": "python",
   "nbconvert_exporter": "python",
   "pygments_lexer": "ipython3",
   "version": "3.10.12"
  }
 },
 "nbformat": 4,
 "nbformat_minor": 5
}
