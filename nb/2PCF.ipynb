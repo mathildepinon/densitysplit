{
 "cells": [
  {
   "cell_type": "markdown",
   "id": "175753d7-1d03-4c26-8eb4-ed10903dac24",
   "metadata": {},
   "source": [
    "# Generate 2PCF of catalog"
   ]
  },
  {
   "cell_type": "code",
   "execution_count": 1,
   "id": "5039b936-c111-46cc-8644-584ba11724ab",
   "metadata": {},
   "outputs": [],
   "source": [
    "import numpy as np\n",
    "\n",
    "from matplotlib import pyplot as plt\n",
    "plt.rcParams[\"figure.figsize\"] = (8, 6)\n",
    "plt.rcParams.update({'font.size': 14})\n",
    "\n",
    "from pycorr import TwoPointCorrelationFunction, TwoPointEstimator, NaturalTwoPointEstimator, project_to_multipoles, project_to_wp, utils, setup_logging\n",
    "from cosmoprimo import *\n",
    "\n",
    "from densitysplit import catalog_data, density_split\n",
    "from bin.density_split_mocks_functions import split_density, compute_densitySplit_CCF\n",
    "from densitysplit.utils import *\n",
    "from densitysplit.corr_func import *\n",
    "\n",
    "# To activate logging\n",
    "setup_logging()"
   ]
  },
  {
   "cell_type": "markdown",
   "id": "ea1dba62-414f-43ad-84e2-d597cb7ab8f9",
   "metadata": {
    "tags": []
   },
   "source": [
    "## Data and output directories"
   ]
  },
  {
   "cell_type": "code",
   "execution_count": 2,
   "id": "14b0f87f-d972-4354-b854-480e30704f0d",
   "metadata": {},
   "outputs": [],
   "source": [
    "data_dir = '/feynman/work/dphp/mp270220/data/'\n",
    "output_dir = '/feynman/work/dphp/mp270220/outputs/'"
   ]
  },
  {
   "cell_type": "markdown",
   "id": "48422dd7-2f13-4333-b2d5-a887b71ea052",
   "metadata": {},
   "source": [
    "## Get data"
   ]
  },
  {
   "cell_type": "code",
   "execution_count": 3,
   "id": "bb2ce8fe-2477-43b6-b231-324991f02cd3",
   "metadata": {},
   "outputs": [],
   "source": [
    "#catalog_name = 'AbacusSummit_1Gpc_z1.175'\n",
    "catalog_name = 'AbacusSummit_2Gpc_z1.175'\n",
    "#catalog_name = 'AbacusSummit_2Gpc_z0.800'\n",
    "\n",
    "catalog = catalog_data.Data.load(data_dir+catalog_name+'.npy')\n",
    "catalog.shift_boxcenter(-catalog.offset)"
   ]
  },
  {
   "cell_type": "code",
   "execution_count": 4,
   "id": "035dc39e-66b8-4247-9159-e32273b5967a",
   "metadata": {},
   "outputs": [],
   "source": [
    "z = catalog.redshift\n",
    "\n",
    "# Abacus summit base cosmology\n",
    "cosmo_abacus = fiducial.AbacusSummitBase()\n",
    "bg = cosmo_abacus.get_background()\n",
    "f = bg.Omega_m(z)**0.55"
   ]
  },
  {
   "cell_type": "markdown",
   "id": "9bea3e27-2d5c-463f-b8a3-0302080eb63f",
   "metadata": {},
   "source": [
    "## Apply RSD"
   ]
  },
  {
   "cell_type": "code",
   "execution_count": 5,
   "id": "3cb6d0ad-e6d4-48c4-9aeb-0132ee7569ec",
   "metadata": {
    "tags": []
   },
   "outputs": [],
   "source": [
    "hz = bg.hubble_function(catalog.redshift)\n",
    "\n",
    "catalog.set_rsd(hz=hz)"
   ]
  },
  {
   "cell_type": "markdown",
   "id": "b8144376-5cc1-4127-8b41-1b8dec1bbe60",
   "metadata": {
    "tags": []
   },
   "source": [
    "## Compute 2PCF"
   ]
  },
  {
   "cell_type": "code",
   "execution_count": 6,
   "id": "6b248326-ed57-4f1e-b785-276febba3e96",
   "metadata": {},
   "outputs": [],
   "source": [
    "edges = (np.linspace(0., 150., 51), np.linspace(-1, 1, 201))\n",
    "los = 'x'"
   ]
  },
  {
   "cell_type": "code",
   "execution_count": 7,
   "id": "aa9ee9bf-dd89-49d4-aba2-7cd7cb467115",
   "metadata": {},
   "outputs": [
    {
     "name": "stdout",
     "output_type": "stream",
     "text": [
      "[000000.88]  05-16 15:46  TwoPointCorrelationFunction  INFO     Using estimator <class 'pycorr.twopoint_estimator.NaturalTwoPointEstimator'>.\n",
      "[000000.88]  05-16 15:46  TwoPointCorrelationFunction  INFO     Computing two-point counts D1D2.\n",
      "[000370.51]  05-16 15:52  TwoPointCorrelationFunction  INFO     Analytically computing two-point counts R1R2.\n"
     ]
    }
   ],
   "source": [
    "result = TwoPointCorrelationFunction('smu', edges,\n",
    "                                     data_positions1=catalog.positions_rsd,\n",
    "                                     boxsize=catalog.boxsize,\n",
    "                                     engine='corrfunc', nthreads=128,\n",
    "                                     los = los)"
   ]
  },
  {
   "cell_type": "code",
   "execution_count": 8,
   "id": "11696730-38d5-4a99-adec-ce1db713f47d",
   "metadata": {},
   "outputs": [
    {
     "name": "stdout",
     "output_type": "stream",
     "text": [
      "[000370.54]  05-16 15:52  NaturalTwoPointEstimator     INFO     Saving /feynman/work/dphp/mp270220/outputs/AbacusSummit_2Gpc_z1.175_2PCF_RSD.\n"
     ]
    }
   ],
   "source": [
    "result.save(output_dir+catalog.name+'_2PCF_RSD')"
   ]
  }
 ],
 "metadata": {
  "kernelspec": {
   "display_name": "Python 3 (ipykernel)",
   "language": "python",
   "name": "python3"
  },
  "language_info": {
   "codemirror_mode": {
    "name": "ipython",
    "version": 3
   },
   "file_extension": ".py",
   "mimetype": "text/x-python",
   "name": "python",
   "nbconvert_exporter": "python",
   "pygments_lexer": "ipython3",
   "version": "3.9.10"
  }
 },
 "nbformat": 4,
 "nbformat_minor": 5
}
