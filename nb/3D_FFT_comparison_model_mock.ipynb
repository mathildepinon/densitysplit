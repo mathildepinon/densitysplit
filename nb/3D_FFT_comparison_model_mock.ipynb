{
 "cells": [
  {
   "cell_type": "code",
   "execution_count": 1,
   "id": "e46d256a-05fb-48dd-b106-8dd7900665cf",
   "metadata": {},
   "outputs": [],
   "source": [
    "import numpy as np\n",
    "from matplotlib import pyplot as plt\n",
    "\n",
    "from pmesh import ParticleMesh\n",
    "from cosmoprimo.fiducial import DESI\n",
    "from cosmoprimo import *\n",
    "from pycorr import TwoPointCorrelationFunction, setup_logging\n",
    "from mockfactory import EulerianLinearMock, LagrangianLinearMock, RandomBoxCatalog, setup_logging\n",
    "from pypower.fft_power import project_to_basis\n",
    "\n",
    "from densitysplit import catalog_data, density_split"
   ]
  },
  {
   "cell_type": "markdown",
   "id": "a3e887be-d7ab-46cc-bc0d-74047bb3c1e5",
   "metadata": {},
   "source": [
    "## General parameters"
   ]
  },
  {
   "cell_type": "code",
   "execution_count": 2,
   "id": "cacf5c12-a121-4222-bfea-eefb7a198294",
   "metadata": {},
   "outputs": [],
   "source": [
    "# Data and output directories\n",
    "data_dir = '/feynman/work/dphp/mp270220/data/'\n",
    "output_dir = '/feynman/work/dphp/mp270220/outputs/'\n",
    "\n",
    "catalog_name = 'AbacusSummit_1Gpc_z1.175'\n",
    "bias = 1.8\n",
    "catalog = catalog_data.Data.load(data_dir+catalog_name+'.npy')\n",
    "#catalog.shift_boxcenter(-catalog.offset)\n",
    "z = catalog.redshift\n",
    "\n",
    "# Density mesh\n",
    "cellsize = 10\n",
    "resampler = 'tsc'\n",
    "nsplits = 3\n",
    "\n",
    "# Correlation function\n",
    "randoms_size = 4\n",
    "edges = (np.linspace(0., 150., 51), np.linspace(-1, 1, 201))\n",
    "los = 'x'\n",
    "\n",
    "# Mocks\n",
    "nmesh = 512\n",
    "nbar = catalog.size/catalog.boxsize**3\n",
    "boxsize = catalog.boxsize\n",
    "boxcenter = catalog.boxcenter\n",
    "\n",
    "# For RSD\n",
    "cosmology = fiducial.AbacusSummitBase()\n",
    "bg = cosmology.get_background()\n",
    "f = bg.growth_rate(catalog.redshift)"
   ]
  },
  {
   "cell_type": "markdown",
   "id": "8629047e-9fbe-470c-a994-1bb33837923c",
   "metadata": {},
   "source": [
    "## Theoretical linear 2PCF"
   ]
  },
  {
   "cell_type": "code",
   "execution_count": 3,
   "id": "ae133229-7bcf-45ff-821d-6e52cb1fdc86",
   "metadata": {},
   "outputs": [],
   "source": [
    "cosmo = cosmology\n",
    "pk_interp = cosmo.get_fourier().pk_interpolator().to_1d(z=z)\n",
    "\n",
    "# Generate P(k) on the mesh\n",
    "pm = ParticleMesh(BoxSize=[boxsize] * 3, Nmesh=[nmesh] * 3, dtype='f8')\n",
    "cfield = pm.create('complex')\n",
    "norm = bias**2 / pm.BoxSize.prod()\n",
    "for kslab, delta_slab in zip(cfield.slabs.x, cfield.slabs):\n",
    "    # The square of the norm of k on the mesh\n",
    "    k2 = sum(kk**2 for kk in kslab)\n",
    "    k = (k2**0.5).ravel()\n",
    "    mask_nonzero = k != 0.\n",
    "    pk = np.zeros_like(k)\n",
    "    pk[mask_nonzero] = pk_interp(k[mask_nonzero])\n",
    "    delta_slab[...].flat = pk * norm\n",
    "    \n",
    "xifield = cfield.c2r()  # Xi(s)\n",
    "s, mu, xi = project_to_basis(xifield, edges=(np.linspace(0., 200., 51), np.array([-1., 1.])), exclude_zero=True)[0][:3]\n",
    "s, xi = s.ravel(), xi.ravel()"
   ]
  },
  {
   "cell_type": "code",
   "execution_count": 5,
   "id": "ab666f59-5529-4358-8495-1acb90caa7f4",
   "metadata": {},
   "outputs": [
    {
     "data": {
      "text/plain": [
       "array([1000., 1000., 1000.])"
      ]
     },
     "execution_count": 5,
     "metadata": {},
     "output_type": "execute_result"
    }
   ],
   "source": [
    "pm.BoxSize"
   ]
  },
  {
   "cell_type": "code",
   "execution_count": 6,
   "id": "83aff114-5332-4c50-a1a9-984937e9793c",
   "metadata": {},
   "outputs": [],
   "source": [
    "test = np.array([[1, 2, 3], [4, 5, 6]])"
   ]
  },
  {
   "cell_type": "code",
   "execution_count": 10,
   "id": "9d0e4491-b6e6-4e26-84bc-15eb10eaa157",
   "metadata": {},
   "outputs": [
    {
     "data": {
      "text/plain": [
       "array([0.53654947, 0.00511973])"
      ]
     },
     "execution_count": 10,
     "metadata": {},
     "output_type": "execute_result"
    }
   ],
   "source": [
    "(np.sinc(test / 2. / np.pi)).prod(1)"
   ]
  },
  {
   "cell_type": "markdown",
   "id": "d1ee3555-99b7-4e0d-93c1-1c9759a3e4b0",
   "metadata": {},
   "source": [
    "## 2PCF calculated from mock density mesh"
   ]
  },
  {
   "cell_type": "code",
   "execution_count": 15,
   "id": "4ae02296-e1c8-4f49-a671-427dfb5f22e6",
   "metadata": {},
   "outputs": [],
   "source": [
    "def damping_function(k, kN):\n",
    "    k_lambda=0.8*kN\n",
    "    sigma_lambda=0.05*kN\n",
    "\n",
    "    if k < k_lambda:\n",
    "        return 1\n",
    "    else:\n",
    "        return np.exp(-(k-k_lambda)**2/(2*sigma_lambda**2))"
   ]
  },
  {
   "cell_type": "code",
   "execution_count": 16,
   "id": "9c5eff17-f52d-45d3-9b75-2fa097a41725",
   "metadata": {},
   "outputs": [],
   "source": [
    "# Generate mock\n",
    "pklin = cosmology.get_fourier().pk_interpolator().to_1d(z)\n",
    "\n",
    "kN = np.pi*nmesh/boxsize\n",
    "\n",
    "k=np.logspace(-5, 2, 1000000)\n",
    "pklin_array = pklin(k)\n",
    "pkdamped_func = lambda k: pklin(k) * np.array([damping_function(kk, kN) for kk in k])\n",
    "pkdamped = PowerSpectrumInterpolator1D.from_callable(k, pkdamped_func)\n",
    "\n",
    "# unitary_amplitude forces amplitude to 1\n",
    "mock = EulerianLinearMock(pkdamped, nmesh=nmesh, boxsize=boxsize, boxcenter=boxcenter, seed=0, unitary_amplitude=True)\n",
    "\n",
    "mock.set_real_delta_field(bias=bias)\n",
    "mock_rfield = mock.mesh_delta_r\n",
    "mock_cfield = mock_rfield.r2c()\n",
    "mock_cfield[...] = mock_cfield[...] * mock_cfield[...].conj()  # P(k)\n",
    "mock_xifield = mock_cfield.c2r()  # Xi(s)\n",
    "mock_s, mock_mu, mock_xi = project_to_basis(mock_xifield, edges=(np.linspace(0., 200., 51), np.array([-1., 1.])), exclude_zero=True)[0][:3]\n",
    "mock_s, mock_xi = mock_s.ravel(), mock_xi.ravel()"
   ]
  },
  {
   "cell_type": "markdown",
   "id": "153f5340-c742-4ae6-83a3-5fafffad4519",
   "metadata": {},
   "source": [
    "## Plot"
   ]
  },
  {
   "cell_type": "code",
   "execution_count": 17,
   "id": "bc9c3c7e-9824-4c6c-80f5-bdb0d2da68b5",
   "metadata": {},
   "outputs": [
    {
     "data": {
      "image/png": "[encoded data removed]",
      "text/plain": [
       "<Figure size 720x504 with 1 Axes>"
      ]
     },
     "metadata": {
      "needs_background": "light"
     },
     "output_type": "display_data"
    }
   ],
   "source": [
    "plt.rcParams[\"figure.figsize\"] = (10, 7)\n",
    "plt.rcParams.update({'font.size': 14})\n",
    "\n",
    "if xifield.pm.comm.rank == 0:\n",
    "    from matplotlib import pyplot as plt\n",
    "    plt.plot(s, s**2 * xi, label='3D FFT')\n",
    "    xi_interp = pk_interp.to_xi()\n",
    "    plt.plot(s, s**2 * bias**2 * xi_interp(s), label='Hankel')\n",
    "    plt.plot(mock_s, mock_s**2 * mock_xi, label='3D FFT from mock (unitary_amplitude = True)')\n",
    "    plt.xlabel(r'$s$ [$\\mathrm{Mpc}/h$]')\n",
    "    plt.ylabel(r'$s^2 \\xi(s)$ [$(\\mathrm{Mpc}/h)^{2}$]')\n",
    "    plt.legend()\n",
    "    plt.show()"
   ]
  }
 ],
 "metadata": {
  "kernelspec": {
   "display_name": "Python 3 (ipykernel)",
   "language": "python",
   "name": "python3"
  },
  "language_info": {
   "codemirror_mode": {
    "name": "ipython",
    "version": 3
   },
   "file_extension": ".py",
   "mimetype": "text/x-python",
   "name": "python",
   "nbconvert_exporter": "python",
   "pygments_lexer": "ipython3",
   "version": "3.9.13"
  }
 },
 "nbformat": 4,
 "nbformat_minor": 5
}
