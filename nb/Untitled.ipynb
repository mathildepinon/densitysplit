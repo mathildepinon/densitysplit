{
 "cells": [
  {
   "cell_type": "code",
   "execution_count": 1,
   "id": "ead28470-ddf0-439b-bca1-61b66197a9e8",
   "metadata": {},
   "outputs": [
    {
     "name": "stdout",
     "output_type": "stream",
     "text": [
      "[000021.26] [0/1] 06-14 12:37  EulerianLinearMock        INFO     White noise generated.\n",
      "[000276.61] [0/1] 06-14 12:41  EulerianLinearMock        INFO     White noise generated.\n"
     ]
    },
    {
     "ename": "KeyboardInterrupt",
     "evalue": "",
     "output_type": "error",
     "traceback": [
      "\u001b[0;31m---------------------------------------------------------------------------\u001b[0m",
      "\u001b[0;31mKeyboardInterrupt\u001b[0m                         Traceback (most recent call last)",
      "Input \u001b[0;32mIn [1]\u001b[0m, in \u001b[0;36m<cell line: 63>\u001b[0;34m()\u001b[0m\n\u001b[1;32m     60\u001b[0m catalog\u001b[38;5;241m.\u001b[39mset_rsd(hz\u001b[38;5;241m=\u001b[39mhz)\n\u001b[1;32m     62\u001b[0m \u001b[38;5;66;03m# Generate mocks and save them\u001b[39;00m\n\u001b[0;32m---> 63\u001b[0m \u001b[43mgenerate_N_mocks\u001b[49m\u001b[43m(\u001b[49m\u001b[43mcatalog\u001b[49m\u001b[43m,\u001b[49m\u001b[43m \u001b[49m\u001b[43mnmocks\u001b[49m\u001b[38;5;241;43m=\u001b[39;49m\u001b[38;5;241;43m10\u001b[39;49m\u001b[43m,\u001b[49m\u001b[43m \u001b[49m\u001b[43mnmesh\u001b[49m\u001b[38;5;241;43m=\u001b[39;49m\u001b[43mnmesh\u001b[49m\u001b[43m,\u001b[49m\n\u001b[1;32m     64\u001b[0m \u001b[43m                 \u001b[49m\u001b[43mbias\u001b[49m\u001b[38;5;241;43m=\u001b[39;49m\u001b[43mbias\u001b[49m\u001b[43m,\u001b[49m\n\u001b[1;32m     65\u001b[0m \u001b[43m                 \u001b[49m\u001b[43mrsd\u001b[49m\u001b[38;5;241;43m=\u001b[39;49m\u001b[38;5;28;43;01mFalse\u001b[39;49;00m\u001b[43m,\u001b[49m\u001b[43m \u001b[49m\u001b[43mlos\u001b[49m\u001b[38;5;241;43m=\u001b[39;49m\u001b[43mlos\u001b[49m\u001b[43m,\u001b[49m\u001b[43m \u001b[49m\u001b[43mf\u001b[49m\u001b[38;5;241;43m=\u001b[39;49m\u001b[43mf\u001b[49m\u001b[43m,\u001b[49m\u001b[43m \u001b[49m\u001b[43mnbar\u001b[49m\u001b[38;5;241;43m=\u001b[39;49m\u001b[43mnbar\u001b[49m\u001b[43m,\u001b[49m\n\u001b[1;32m     66\u001b[0m \u001b[43m                 \u001b[49m\u001b[43moutput_dir\u001b[49m\u001b[38;5;241;43m=\u001b[39;49m\u001b[43moutput_dir\u001b[49m\u001b[38;5;241;43m+\u001b[39;49m\u001b[38;5;124;43m'\u001b[39;49m\u001b[38;5;124;43mmocks_rsd/\u001b[39;49m\u001b[38;5;124;43m'\u001b[39;49m\u001b[43m,\u001b[49m\u001b[43m \u001b[49m\u001b[43mmpi\u001b[49m\u001b[38;5;241;43m=\u001b[39;49m\u001b[38;5;28;43;01mFalse\u001b[39;49;00m\u001b[43m,\u001b[49m\u001b[43m \u001b[49m\u001b[43moverwrite\u001b[49m\u001b[38;5;241;43m=\u001b[39;49m\u001b[38;5;28;43;01mTrue\u001b[39;49;00m\u001b[43m,\u001b[49m\n\u001b[1;32m     67\u001b[0m \u001b[43m                 \u001b[49m\u001b[38;5;28;43mtype\u001b[39;49m\u001b[43m \u001b[49m\u001b[38;5;241;43m=\u001b[39;49m\u001b[43m \u001b[49m\u001b[38;5;124;43m'\u001b[39;49m\u001b[38;5;124;43mgaussian\u001b[39;49m\u001b[38;5;124;43m'\u001b[39;49m\u001b[43m)\u001b[49m\n",
      "File \u001b[0;32m~/densitysplit/bin/density_split_mocks_functions.py:135\u001b[0m, in \u001b[0;36mgenerate_N_mocks\u001b[0;34m(catalog, nmocks, nmesh, bias, rsd, los, f, nbar, output_dir, mpi, overwrite, type)\u001b[0m\n\u001b[1;32m    129\u001b[0m     generate_mock(nmesh\u001b[38;5;241m=\u001b[39mnmesh, boxsize\u001b[38;5;241m=\u001b[39mcatalog\u001b[38;5;241m.\u001b[39mboxsize, boxcenter\u001b[38;5;241m=\u001b[39mcatalog\u001b[38;5;241m.\u001b[39mboxcenter, seed\u001b[38;5;241m=\u001b[39mi,\n\u001b[1;32m    130\u001b[0m                  cosmology\u001b[38;5;241m=\u001b[39mfiducial\u001b[38;5;241m.\u001b[39mAbacusSummitBase(), nbar\u001b[38;5;241m=\u001b[39mnbar,\n\u001b[1;32m    131\u001b[0m                  z\u001b[38;5;241m=\u001b[39mcatalog\u001b[38;5;241m.\u001b[39mredshift, bias\u001b[38;5;241m=\u001b[39mbias, rsd\u001b[38;5;241m=\u001b[39mrsd, los\u001b[38;5;241m=\u001b[39mlos, f\u001b[38;5;241m=\u001b[39mf,\n\u001b[1;32m    132\u001b[0m                  save\u001b[38;5;241m=\u001b[39m\u001b[38;5;28;01mTrue\u001b[39;00m, output_dir\u001b[38;5;241m=\u001b[39moutput_dir, name\u001b[38;5;241m=\u001b[39mfilename,\n\u001b[1;32m    133\u001b[0m                  mpi\u001b[38;5;241m=\u001b[39mmpi)\n\u001b[1;32m    134\u001b[0m \u001b[38;5;28;01melif\u001b[39;00m \u001b[38;5;28mtype\u001b[39m \u001b[38;5;241m==\u001b[39m \u001b[38;5;124m'\u001b[39m\u001b[38;5;124mgaussian\u001b[39m\u001b[38;5;124m'\u001b[39m:\n\u001b[0;32m--> 135\u001b[0m     \u001b[43mgenerate_gaussian_mock\u001b[49m\u001b[43m(\u001b[49m\u001b[43mnmesh\u001b[49m\u001b[38;5;241;43m=\u001b[39;49m\u001b[43mnmesh\u001b[49m\u001b[43m,\u001b[49m\u001b[43m \u001b[49m\u001b[43mboxsize\u001b[49m\u001b[38;5;241;43m=\u001b[39;49m\u001b[43mcatalog\u001b[49m\u001b[38;5;241;43m.\u001b[39;49m\u001b[43mboxsize\u001b[49m\u001b[43m,\u001b[49m\u001b[43m \u001b[49m\u001b[43mboxcenter\u001b[49m\u001b[38;5;241;43m=\u001b[39;49m\u001b[43mcatalog\u001b[49m\u001b[38;5;241;43m.\u001b[39;49m\u001b[43mboxcenter\u001b[49m\u001b[43m,\u001b[49m\u001b[43m \u001b[49m\u001b[43mseed\u001b[49m\u001b[38;5;241;43m=\u001b[39;49m\u001b[43mi\u001b[49m\u001b[43m,\u001b[49m\n\u001b[1;32m    136\u001b[0m \u001b[43m                         \u001b[49m\u001b[43mcosmology\u001b[49m\u001b[38;5;241;43m=\u001b[39;49m\u001b[43mfiducial\u001b[49m\u001b[38;5;241;43m.\u001b[39;49m\u001b[43mAbacusSummitBase\u001b[49m\u001b[43m(\u001b[49m\u001b[43m)\u001b[49m\u001b[43m,\u001b[49m\u001b[43m \u001b[49m\u001b[43mnbar\u001b[49m\u001b[38;5;241;43m=\u001b[39;49m\u001b[43mnbar\u001b[49m\u001b[43m,\u001b[49m\n\u001b[1;32m    137\u001b[0m \u001b[43m                         \u001b[49m\u001b[43mz\u001b[49m\u001b[38;5;241;43m=\u001b[39;49m\u001b[43mcatalog\u001b[49m\u001b[38;5;241;43m.\u001b[39;49m\u001b[43mredshift\u001b[49m\u001b[43m,\u001b[49m\u001b[43m \u001b[49m\u001b[43mbias\u001b[49m\u001b[38;5;241;43m=\u001b[39;49m\u001b[43mbias\u001b[49m\u001b[43m,\u001b[49m\u001b[43m \u001b[49m\u001b[43mrsd\u001b[49m\u001b[38;5;241;43m=\u001b[39;49m\u001b[43mrsd\u001b[49m\u001b[43m,\u001b[49m\u001b[43m \u001b[49m\u001b[43mlos\u001b[49m\u001b[38;5;241;43m=\u001b[39;49m\u001b[43mlos\u001b[49m\u001b[43m,\u001b[49m\u001b[43m \u001b[49m\u001b[43mf\u001b[49m\u001b[38;5;241;43m=\u001b[39;49m\u001b[43mf\u001b[49m\u001b[43m,\u001b[49m\n\u001b[1;32m    138\u001b[0m \u001b[43m                         \u001b[49m\u001b[43msave\u001b[49m\u001b[38;5;241;43m=\u001b[39;49m\u001b[38;5;28;43;01mTrue\u001b[39;49;00m\u001b[43m,\u001b[49m\u001b[43m \u001b[49m\u001b[43moutput_dir\u001b[49m\u001b[38;5;241;43m=\u001b[39;49m\u001b[43moutput_dir\u001b[49m\u001b[43m,\u001b[49m\u001b[43m \u001b[49m\u001b[43mname\u001b[49m\u001b[38;5;241;43m=\u001b[39;49m\u001b[43mfilename\u001b[49m\u001b[43m,\u001b[49m\n\u001b[1;32m    139\u001b[0m \u001b[43m                         \u001b[49m\u001b[43mmpi\u001b[49m\u001b[38;5;241;43m=\u001b[39;49m\u001b[43mmpi\u001b[49m\u001b[43m)\u001b[49m\n",
      "File \u001b[0;32m~/densitysplit/bin/density_split_mocks_functions.py:78\u001b[0m, in \u001b[0;36mgenerate_gaussian_mock\u001b[0;34m(nmesh, boxsize, boxcenter, seed, cosmology, nbar, z, bias, rsd, los, f, save, output_dir, name, mpi)\u001b[0m\n\u001b[1;32m     75\u001b[0m pkdamped \u001b[38;5;241m=\u001b[39m PowerSpectrumInterpolator1D\u001b[38;5;241m.\u001b[39mfrom_callable(k, pkdamped_func)\n\u001b[1;32m     77\u001b[0m \u001b[38;5;66;03m# unitary_amplitude forces amplitude to 1\u001b[39;00m\n\u001b[0;32m---> 78\u001b[0m mock \u001b[38;5;241m=\u001b[39m \u001b[43mEulerianLinearMock\u001b[49m\u001b[43m(\u001b[49m\u001b[43mpkdamped\u001b[49m\u001b[43m,\u001b[49m\u001b[43m \u001b[49m\u001b[43mnmesh\u001b[49m\u001b[38;5;241;43m=\u001b[39;49m\u001b[43mnmesh\u001b[49m\u001b[43m,\u001b[49m\u001b[43m \u001b[49m\u001b[43mboxsize\u001b[49m\u001b[38;5;241;43m=\u001b[39;49m\u001b[43mboxsize\u001b[49m\u001b[43m,\u001b[49m\u001b[43m \u001b[49m\u001b[43mboxcenter\u001b[49m\u001b[38;5;241;43m=\u001b[39;49m\u001b[43mboxcenter\u001b[49m\u001b[43m,\u001b[49m\u001b[43m \u001b[49m\u001b[43mseed\u001b[49m\u001b[38;5;241;43m=\u001b[39;49m\u001b[43mseed\u001b[49m\u001b[43m,\u001b[49m\u001b[43m \u001b[49m\u001b[43munitary_amplitude\u001b[49m\u001b[38;5;241;43m=\u001b[39;49m\u001b[38;5;28;43;01mFalse\u001b[39;49;00m\u001b[43m)\u001b[49m\n\u001b[1;32m     80\u001b[0m \u001b[38;5;66;03m# this is Lagrangian bias, Eulerian bias - 1\u001b[39;00m\n\u001b[1;32m     81\u001b[0m mock\u001b[38;5;241m.\u001b[39mset_real_delta_field(bias\u001b[38;5;241m=\u001b[39mbias)\n",
      "File \u001b[0;32m/feynman/work/dphp/adematti/cosmodesiconda/20220419-1.0.0/code/mpytools/main/lib/python3.9/site-packages/mpytools/utils.py:36\u001b[0m, in \u001b[0;36mCurrentMPIComm.enable.<locals>.wrapper\u001b[0;34m(*args, **kwargs)\u001b[0m\n\u001b[1;32m     34\u001b[0m     mpicomm \u001b[38;5;241m=\u001b[39m CurrentMPIComm\u001b[38;5;241m.\u001b[39mget()\n\u001b[1;32m     35\u001b[0m kwargs[\u001b[38;5;124m'\u001b[39m\u001b[38;5;124mmpicomm\u001b[39m\u001b[38;5;124m'\u001b[39m] \u001b[38;5;241m=\u001b[39m mpicomm\n\u001b[0;32m---> 36\u001b[0m \u001b[38;5;28;01mreturn\u001b[39;00m \u001b[43mfunc\u001b[49m\u001b[43m(\u001b[49m\u001b[38;5;241;43m*\u001b[39;49m\u001b[43margs\u001b[49m\u001b[43m,\u001b[49m\u001b[43m \u001b[49m\u001b[38;5;241;43m*\u001b[39;49m\u001b[38;5;241;43m*\u001b[39;49m\u001b[43mkwargs\u001b[49m\u001b[43m)\u001b[49m\n",
      "File \u001b[0;32m/feynman/work/dphp/adematti/cosmodesiconda/20220419-1.0.0/code/mockfactory/main/lib/python3.9/site-packages/mockfactory/gaussian_mock.py:183\u001b[0m, in \u001b[0;36mBaseGaussianMock.__init__\u001b[0;34m(self, power, nmesh, boxsize, cellsize, boxcenter, los, seed, unitary_amplitude, inverted_phase, dtype, mpicomm)\u001b[0m\n\u001b[1;32m    181\u001b[0m     los \u001b[38;5;241m=\u001b[39m \u001b[38;5;28mself\u001b[39m\u001b[38;5;241m.\u001b[39m_get_los(los)\n\u001b[1;32m    182\u001b[0m \u001b[38;5;28mself\u001b[39m\u001b[38;5;241m.\u001b[39mattrs[\u001b[38;5;124m'\u001b[39m\u001b[38;5;124mlos\u001b[39m\u001b[38;5;124m'\u001b[39m] \u001b[38;5;241m=\u001b[39m los\n\u001b[0;32m--> 183\u001b[0m \u001b[38;5;28;43mself\u001b[39;49m\u001b[38;5;241;43m.\u001b[39;49m\u001b[43mset_complex_delta_field\u001b[49m\u001b[43m(\u001b[49m\u001b[43m)\u001b[49m\n",
      "File \u001b[0;32m/feynman/work/dphp/adematti/cosmodesiconda/20220419-1.0.0/code/mockfactory/main/lib/python3.9/site-packages/mockfactory/gaussian_mock.py:211\u001b[0m, in \u001b[0;36mBaseGaussianMock.set_complex_delta_field\u001b[0;34m(self)\u001b[0m\n\u001b[1;32m    208\u001b[0m \u001b[38;5;28;01mdef\u001b[39;00m \u001b[38;5;21mset_complex_delta_field\u001b[39m(\u001b[38;5;28mself\u001b[39m):\n\u001b[1;32m    209\u001b[0m     \u001b[38;5;124;03m\"\"\"Set :attr:`mesh_delta_k`; the end-user does not neet to call this method.\"\"\"\u001b[39;00m\n\u001b[0;32m--> 211\u001b[0m     mesh_delta_k \u001b[38;5;241m=\u001b[39m \u001b[38;5;28;43mself\u001b[39;49m\u001b[38;5;241;43m.\u001b[39;49m\u001b[43mpm\u001b[49m\u001b[38;5;241;43m.\u001b[39;49m\u001b[43mgenerate_whitenoise\u001b[49m\u001b[43m(\u001b[49m\u001b[38;5;28;43mself\u001b[39;49m\u001b[38;5;241;43m.\u001b[39;49m\u001b[43mattrs\u001b[49m\u001b[43m[\u001b[49m\u001b[38;5;124;43m'\u001b[39;49m\u001b[38;5;124;43mseed\u001b[39;49m\u001b[38;5;124;43m'\u001b[39;49m\u001b[43m]\u001b[49m\u001b[43m,\u001b[49m\u001b[43m \u001b[49m\u001b[38;5;28;43mtype\u001b[39;49m\u001b[38;5;241;43m=\u001b[39;49m\u001b[38;5;124;43m'\u001b[39;49m\u001b[38;5;124;43muntransposedcomplex\u001b[39;49m\u001b[38;5;124;43m'\u001b[39;49m\u001b[43m,\u001b[49m\u001b[43m \u001b[49m\u001b[43munitary\u001b[49m\u001b[38;5;241;43m=\u001b[39;49m\u001b[38;5;28;43mself\u001b[39;49m\u001b[38;5;241;43m.\u001b[39;49m\u001b[43mattrs\u001b[49m\u001b[43m[\u001b[49m\u001b[38;5;124;43m'\u001b[39;49m\u001b[38;5;124;43munitary_amplitude\u001b[39;49m\u001b[38;5;124;43m'\u001b[39;49m\u001b[43m]\u001b[49m\u001b[43m)\u001b[49m\n\u001b[1;32m    212\u001b[0m     \u001b[38;5;28;01mif\u001b[39;00m \u001b[38;5;28mself\u001b[39m\u001b[38;5;241m.\u001b[39mis_mpi_root():\n\u001b[1;32m    213\u001b[0m         \u001b[38;5;28mself\u001b[39m\u001b[38;5;241m.\u001b[39mlog_info(\u001b[38;5;124m'\u001b[39m\u001b[38;5;124mWhite noise generated.\u001b[39m\u001b[38;5;124m'\u001b[39m)\n",
      "File \u001b[0;32m/feynman/work/dphp/adematti/cosmodesiconda/20220419-1.0.0/conda/lib/python3.9/site-packages/pmesh/pm.py:1670\u001b[0m, in \u001b[0;36mParticleMesh.generate_whitenoise\u001b[0;34m(self, seed, unitary, mean, type, mode, base)\u001b[0m\n\u001b[1;32m   1667\u001b[0m     complex_type \u001b[38;5;241m=\u001b[39m \u001b[38;5;28mtype\u001b[39m\n\u001b[1;32m   1669\u001b[0m \u001b[38;5;28mcomplex\u001b[39m \u001b[38;5;241m=\u001b[39m \u001b[38;5;28mself\u001b[39m\u001b[38;5;241m.\u001b[39mcreate(\u001b[38;5;28mtype\u001b[39m\u001b[38;5;241m=\u001b[39mcomplex_type, base\u001b[38;5;241m=\u001b[39mbase)\n\u001b[0;32m-> 1670\u001b[0m \u001b[43mgenerate\u001b[49m\u001b[43m(\u001b[49m\u001b[38;5;28;43mcomplex\u001b[39;49m\u001b[38;5;241;43m.\u001b[39;49m\u001b[43mvalue\u001b[49m\u001b[43m,\u001b[49m\u001b[43m \u001b[49m\u001b[38;5;28;43mcomplex\u001b[39;49m\u001b[38;5;241;43m.\u001b[39;49m\u001b[43mstart\u001b[49m\u001b[43m,\u001b[49m\u001b[43m \u001b[49m\u001b[38;5;28;43mcomplex\u001b[39;49m\u001b[38;5;241;43m.\u001b[39;49m\u001b[43mNmesh\u001b[49m\u001b[43m,\u001b[49m\u001b[43m \u001b[49m\u001b[43mseed\u001b[49m\u001b[43m,\u001b[49m\u001b[43m \u001b[49m\u001b[38;5;28;43mbool\u001b[39;49m\u001b[43m(\u001b[49m\u001b[43munitary\u001b[49m\u001b[43m)\u001b[49m\u001b[43m)\u001b[49m\n\u001b[1;32m   1672\u001b[0m \u001b[38;5;66;03m# add mean\u001b[39;00m\n\u001b[1;32m   1673\u001b[0m \u001b[38;5;28;01mdef\u001b[39;00m \u001b[38;5;21mfilter\u001b[39m(k, v):\n",
      "File \u001b[0;32m/feynman/work/dphp/adematti/cosmodesiconda/20220419-1.0.0/conda/lib/python3.9/site-packages/pmesh/whitenoise.py:22\u001b[0m, in \u001b[0;36mgenerate\u001b[0;34m(complex, start, Nmesh, seed, unitary)\u001b[0m\n\u001b[1;32m     19\u001b[0m _Nmesh[:] \u001b[38;5;241m=\u001b[39m Nmesh\n\u001b[1;32m     21\u001b[0m \u001b[38;5;28;01mif\u001b[39;00m \u001b[38;5;28mcomplex\u001b[39m\u001b[38;5;241m.\u001b[39mndim \u001b[38;5;241m==\u001b[39m \u001b[38;5;241m3\u001b[39m:\n\u001b[0;32m---> 22\u001b[0m     \u001b[43m_whitenoise\u001b[49m\u001b[38;5;241;43m.\u001b[39;49m\u001b[43mgenerate\u001b[49m\u001b[43m(\u001b[49m\u001b[38;5;28;43mcomplex\u001b[39;49m\u001b[43m,\u001b[49m\u001b[43m \u001b[49m\u001b[43m_start\u001b[49m\u001b[43m,\u001b[49m\u001b[43m \u001b[49m\u001b[43m_Nmesh\u001b[49m\u001b[43m,\u001b[49m\u001b[43m \u001b[49m\u001b[43mseed\u001b[49m\u001b[43m,\u001b[49m\u001b[43m \u001b[49m\u001b[43munitary\u001b[49m\u001b[43m)\u001b[49m\n\u001b[1;32m     23\u001b[0m \u001b[38;5;28;01melif\u001b[39;00m \u001b[38;5;28mcomplex\u001b[39m\u001b[38;5;241m.\u001b[39mndim \u001b[38;5;241m<\u001b[39m\u001b[38;5;241m=\u001b[39m \u001b[38;5;241m2\u001b[39m:\n\u001b[1;32m     24\u001b[0m     \u001b[38;5;66;03m# FIXME: this is not scale invariant though it is at least invariant\u001b[39;00m\n\u001b[1;32m     25\u001b[0m     \u001b[38;5;66;03m# against partition. Since 2d and 1d is only used for testing this\u001b[39;00m\n\u001b[1;32m     26\u001b[0m     \u001b[38;5;66;03m# may be good enough.\u001b[39;00m\n\u001b[1;32m     27\u001b[0m     rng \u001b[38;5;241m=\u001b[39m numpy\u001b[38;5;241m.\u001b[39mrandom\u001b[38;5;241m.\u001b[39mRandomState(seed)\n",
      "\u001b[0;31mKeyboardInterrupt\u001b[0m: "
     ]
    }
   ],
   "source": [
    "import sys\n",
    "import numpy as np\n",
    "\n",
    "from cosmoprimo import *\n",
    "from pycorr import TwoPointCorrelationFunction, setup_logging\n",
    "from mockfactory import EulerianLinearMock, LagrangianLinearMock, RandomBoxCatalog, setup_logging\n",
    "\n",
    "from densitysplit import catalog_data, density_split\n",
    "from bin.density_split_mocks_functions import generate_N_mocks, generate_batch_2PCF, generate_batch_densitySplit_CCF\n",
    "\n",
    "# Set up logging\n",
    "setup_logging()\n",
    "\n",
    "# Mock batch\n",
    "#batch_index = int(sys.argv[1])\n",
    "#batch_index = 0\n",
    "\n",
    "# Data and output directories\n",
    "data_dir = '/feynman/work/dphp/mp270220/data/'\n",
    "output_dir = '/feynman/work/dphp/mp270220/outputs/'\n",
    "\n",
    "\n",
    "# Get data\n",
    "catalog_name = 'AbacusSummit_1Gpc_z1.175'\n",
    "bias = 1.8\n",
    "\n",
    "#catalog_name = 'AbacusSummit_2Gpc_z1.175'\n",
    "#bias = 3.\n",
    "\n",
    "#catalog_name = 'AbacusSummit_2Gpc_z0.800'\n",
    "#catalog_name = 'mock'\n",
    "\n",
    "catalog = catalog_data.Data.load(data_dir+catalog_name+'.npy')\n",
    "catalog.shift_boxcenter(-catalog.offset)\n",
    "\n",
    "# Parameters\n",
    "\n",
    "# Density mesh\n",
    "cellsize = 10\n",
    "resampler = 'tsc'\n",
    "nsplits = 3\n",
    "\n",
    "# Correlation function\n",
    "randoms_size = 4\n",
    "edges = (np.linspace(0., 150., 51), np.linspace(-1, 1, 201))\n",
    "los = 'x'\n",
    "\n",
    "# Mocks\n",
    "nmocks = 4000\n",
    "nmesh = 512\n",
    "nbar = catalog.size/catalog.boxsize**3\n",
    "\n",
    "# For RSD\n",
    "cosmology=fiducial.AbacusSummitBase()\n",
    "bg = cosmology.get_background()\n",
    "f = bg.growth_rate(catalog.redshift)\n",
    "\n",
    "# Set RSD\n",
    "hz = 100*bg.efunc(catalog.redshift)\n",
    "catalog.set_rsd(hz=hz)\n",
    "\n",
    "# Generate mocks and save them\n",
    "generate_N_mocks(catalog, nmocks=10, nmesh=nmesh,\n",
    "                 bias=bias,\n",
    "                 rsd=False, los=los, f=f, nbar=nbar,\n",
    "                 output_dir=output_dir+'mocks_rsd/', mpi=False, overwrite=True,\n",
    "                 type = 'gaussian')"
   ]
  }
 ],
 "metadata": {
  "kernelspec": {
   "display_name": "cosmodesi-main",
   "language": "python",
   "name": "cosmodesi-main"
  },
  "language_info": {
   "codemirror_mode": {
    "name": "ipython",
    "version": 3
   },
   "file_extension": ".py",
   "mimetype": "text/x-python",
   "name": "python",
   "nbconvert_exporter": "python",
   "pygments_lexer": "ipython3",
   "version": "3.9.10"
  }
 },
 "nbformat": 4,
 "nbformat_minor": 5
}
