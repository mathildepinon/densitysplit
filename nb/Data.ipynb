{
 "cells": [
  {
   "cell_type": "markdown",
   "id": "f4bab542-1d3d-4221-8419-cb89788eb234",
   "metadata": {
    "tags": []
   },
   "source": [
    "# Create instances of Data from Abacus simulations"
   ]
  },
  {
   "cell_type": "code",
   "execution_count": 1,
   "id": "d0faecb6-a4e7-4f2b-925a-b41d0cec8d71",
   "metadata": {},
   "outputs": [],
   "source": [
    "import numpy as np\n",
    "\n",
    "from abacusnbody.data.compaso_halo_catalog import CompaSOHaloCatalog\n",
    "from densitysplit import catalog_data"
   ]
  },
  {
   "cell_type": "markdown",
   "id": "49ada82d-3916-4113-b439-72e4f3d1ef19",
   "metadata": {},
   "source": [
    "## Output directory"
   ]
  },
  {
   "cell_type": "code",
   "execution_count": 11,
   "id": "499b25a8-5c05-4b47-a863-65a6b82b9607",
   "metadata": {},
   "outputs": [],
   "source": [
    "output_dir = '/feynman/work/dphp/mp270220/data/'"
   ]
  },
  {
   "cell_type": "markdown",
   "id": "f38b37d5-1dfa-4e39-b597-dab72cdeaed7",
   "metadata": {
    "tags": []
   },
   "source": [
    "### Get halo catalog"
   ]
  },
  {
   "cell_type": "code",
   "execution_count": 15,
   "id": "f8ce9def-d40a-4580-9f1b-87cbcfe578e1",
   "metadata": {},
   "outputs": [],
   "source": [
    "# 1 Gpc/h\n",
    "path_to_sim1 = '/feynman/scratch/dphp/ar264273/Abacus/AbacusSummit_highbase_c000_ph100/halos/z1.175'\n",
    "\n",
    "# 2 Gpc/h\n",
    "path_to_sim2_z1 = '/feynman/scratch/dphp/ar264273/Abacus/AbacusSummit_base_c000_ph003/halos/z1.175'\n",
    "path_to_sim2_z2 = '/feynman/scratch/dphp/ar264273/Abacus/AbacusSummit_base_c000_ph000/halos/z0.800'\n",
    "\n",
    "path_to_sim = [path_to_sim1,\n",
    "               path_to_sim2_z1,\n",
    "               path_to_sim2_z2]\n",
    "\n",
    "catalog_names = ['AbacusSummit_1Gpc_z1.175',\n",
    "                 'AbacusSummit_2Gpc_z1.175_ph003',\n",
    "                 'AbacusSummit_2Gpc_z0.800']\n",
    "\n",
    "sim_z = [1.175, \n",
    "         1.175, \n",
    "         0.800]\n",
    "\n",
    "sim_boxsizes = [1000, \n",
    "                2000, \n",
    "                2000]\n",
    "\n",
    "for i in range(1, 2):\n",
    "    halo_catalog = CompaSOHaloCatalog(path_to_sim[i], cleaned=True, fields=['id', 'x_L2com','v_L2com','N'])\n",
    "    name = catalog_names[i]\n",
    "    boxsize = sim_boxsizes[i]\n",
    "    z = sim_z[i]\n",
    "    positions = halo_catalog.halos['x_L2com']\n",
    "    velocities = halo_catalog.halos['v_L2com']\n",
    "    weights = halo_catalog.halos['N']\n",
    "    \n",
    "    # Transpose arrays\n",
    "    positions_reshaped = np.array(positions.T, dtype='f8')\n",
    "    weights_reshaped = np.array(weights.T, dtype='f8')\n",
    "    velocities_reshaped = np.array(velocities.T, dtype='f8')\n",
    "\n",
    "    # Create Data instance\n",
    "    data_catalog = catalog_data.Data(positions_reshaped, z, boxsize, boxcenter=0, name=name, \n",
    "                                     weights=weights_reshaped, velocities=velocities_reshaped,\n",
    "                                     mass_cut=500)\n",
    "    \n",
    "    # Save Data instance\n",
    "    data_catalog.save(output_dir+name)"
   ]
  },
  {
   "cell_type": "code",
   "execution_count": 18,
   "id": "5cb3a9ed-22c0-49f4-be88-b8b4710e48a4",
   "metadata": {},
   "outputs": [
    {
     "ename": "RuntimeError",
     "evalue": "RuntimeError occurred",
     "output_type": "error",
     "traceback": [
      "\u001b[0;31m---------------------------------------------------------------------------\u001b[0m",
      "\u001b[0;31mRuntimeError\u001b[0m                              Traceback (most recent call last)",
      "Input \u001b[0;32mIn [18]\u001b[0m, in \u001b[0;36m<cell line: 6>\u001b[0;34m()\u001b[0m\n\u001b[1;32m      4\u001b[0m los \u001b[38;5;241m=\u001b[39m \u001b[38;5;124m'\u001b[39m\u001b[38;5;124mx\u001b[39m\u001b[38;5;124m'\u001b[39m\n\u001b[1;32m      5\u001b[0m \u001b[38;5;28;01mfrom\u001b[39;00m \u001b[38;5;21;01mpycorr\u001b[39;00m \u001b[38;5;28;01mimport\u001b[39;00m TwoPointCorrelationFunction\n\u001b[0;32m----> 6\u001b[0m result \u001b[38;5;241m=\u001b[39m \u001b[43mTwoPointCorrelationFunction\u001b[49m\u001b[43m(\u001b[49m\u001b[38;5;124;43m'\u001b[39;49m\u001b[38;5;124;43msmu\u001b[39;49m\u001b[38;5;124;43m'\u001b[39;49m\u001b[43m,\u001b[49m\u001b[43m \u001b[49m\u001b[43medges\u001b[49m\u001b[43m,\u001b[49m\n\u001b[1;32m      7\u001b[0m \u001b[43m                                     \u001b[49m\u001b[43mdata_positions1\u001b[49m\u001b[38;5;241;43m=\u001b[39;49m\u001b[43mdata_catalog\u001b[49m\u001b[38;5;241;43m.\u001b[39;49m\u001b[43mpositions\u001b[49m\u001b[43m,\u001b[49m\n\u001b[1;32m      8\u001b[0m \u001b[43m                                     \u001b[49m\u001b[43mboxsize\u001b[49m\u001b[38;5;241;43m=\u001b[39;49m\u001b[43mdata_catalog\u001b[49m\u001b[38;5;241;43m.\u001b[39;49m\u001b[43mboxsize\u001b[49m\u001b[43m,\u001b[49m\n\u001b[1;32m      9\u001b[0m \u001b[43m                                     \u001b[49m\u001b[43mengine\u001b[49m\u001b[38;5;241;43m=\u001b[39;49m\u001b[38;5;124;43m'\u001b[39;49m\u001b[38;5;124;43mcorrfunc\u001b[39;49m\u001b[38;5;124;43m'\u001b[39;49m\u001b[43m,\u001b[49m\u001b[43m \u001b[49m\u001b[43mnthreads\u001b[49m\u001b[38;5;241;43m=\u001b[39;49m\u001b[38;5;241;43m128\u001b[39;49m\u001b[43m,\u001b[49m\n\u001b[1;32m     10\u001b[0m \u001b[43m                                     \u001b[49m\u001b[43mlos\u001b[49m\u001b[43m \u001b[49m\u001b[38;5;241;43m=\u001b[39;49m\u001b[43m \u001b[49m\u001b[43mlos\u001b[49m\u001b[43m)\u001b[49m\n\u001b[1;32m     11\u001b[0m result\u001b[38;5;241m.\u001b[39msave(output_dir\u001b[38;5;241m+\u001b[39mcatalog\u001b[38;5;241m.\u001b[39mname\u001b[38;5;241m+\u001b[39m\u001b[38;5;124m'\u001b[39m\u001b[38;5;124m_2PCF\u001b[39m\u001b[38;5;124m'\u001b[39m)\n",
      "File \u001b[0;32m/feynman/work/dphp/adematti/cosmodesiconda/20220713-1.0.0/code/pycorr/1.0.0/lib/python3.9/site-packages/pycorr/correlation_function.py:322\u001b[0m, in \u001b[0;36mTwoPointCorrelationFunction\u001b[0;34m(mode, edges, data_positions1, data_positions2, randoms_positions1, randoms_positions2, shifted_positions1, shifted_positions2, data_weights1, data_weights2, randoms_weights1, randoms_weights2, shifted_weights1, shifted_weights2, data_samples1, data_samples2, randoms_samples1, randoms_samples2, shifted_samples1, shifted_samples2, D1D2_weight_type, D1R2_weight_type, R1D2_weight_type, R1R2_weight_type, S1S2_weight_type, D1S2_weight_type, S1D2_weight_type, S1R2_weight_type, D1D2_twopoint_weights, D1R2_twopoint_weights, R1D2_twopoint_weights, R1R2_twopoint_weights, S1S2_twopoint_weights, D1S2_twopoint_weights, S1D2_twopoint_weights, S1R2_twopoint_weights, estimator, boxsize, mpicomm, mpiroot, **kwargs)\u001b[0m\n\u001b[1;32m    319\u001b[0m     \u001b[38;5;28;01mfor\u001b[39;00m label \u001b[38;5;129;01min\u001b[39;00m [label1] \u001b[38;5;241m+\u001b[39m ([label2] \u001b[38;5;28;01mif\u001b[39;00m label2 \u001b[38;5;129;01mis\u001b[39;00m \u001b[38;5;129;01mnot\u001b[39;00m \u001b[38;5;28;01mNone\u001b[39;00m \u001b[38;5;28;01melse\u001b[39;00m []):\n\u001b[1;32m    320\u001b[0m         \u001b[38;5;28;01mif\u001b[39;00m is_none(positions[label]): \u001b[38;5;28;01mraise\u001b[39;00m \u001b[38;5;167;01mValueError\u001b[39;00m(\u001b[38;5;124m'\u001b[39m\u001b[38;5;132;01m{}\u001b[39;00m\u001b[38;5;124m must be provided\u001b[39m\u001b[38;5;124m'\u001b[39m\u001b[38;5;241m.\u001b[39mformat(label))\n\u001b[0;32m--> 322\u001b[0m     counts[label12] \u001b[38;5;241m=\u001b[39m \u001b[43mCounter\u001b[49m\u001b[43m(\u001b[49m\u001b[43mmode\u001b[49m\u001b[43m,\u001b[49m\u001b[43m \u001b[49m\u001b[43medges\u001b[49m\u001b[43m,\u001b[49m\u001b[43m \u001b[49m\u001b[43mpositions\u001b[49m\u001b[43m[\u001b[49m\u001b[43mlabel1\u001b[49m\u001b[43m]\u001b[49m\u001b[43m,\u001b[49m\u001b[43m \u001b[49m\u001b[43mpositions2\u001b[49m\u001b[38;5;241;43m=\u001b[39;49m\u001b[43mpositions\u001b[49m\u001b[43m[\u001b[49m\u001b[43mlabel2\u001b[49m\u001b[43m]\u001b[49m\u001b[43m \u001b[49m\u001b[38;5;28;43;01mif\u001b[39;49;00m\u001b[43m \u001b[49m\u001b[43mlabel2\u001b[49m\u001b[43m \u001b[49m\u001b[38;5;129;43;01mis\u001b[39;49;00m\u001b[43m \u001b[49m\u001b[38;5;129;43;01mnot\u001b[39;49;00m\u001b[43m \u001b[49m\u001b[38;5;28;43;01mNone\u001b[39;49;00m\u001b[43m \u001b[49m\u001b[38;5;28;43;01melse\u001b[39;49;00m\u001b[43m \u001b[49m\u001b[38;5;28;43;01mNone\u001b[39;49;00m\u001b[43m,\u001b[49m\n\u001b[1;32m    323\u001b[0m \u001b[43m                              \u001b[49m\u001b[43mweights1\u001b[49m\u001b[38;5;241;43m=\u001b[39;49m\u001b[43mweights\u001b[49m\u001b[43m[\u001b[49m\u001b[43mlabel1\u001b[49m\u001b[43m]\u001b[49m\u001b[43m,\u001b[49m\u001b[43m \u001b[49m\u001b[43mweights2\u001b[49m\u001b[38;5;241;43m=\u001b[39;49m\u001b[43mweights\u001b[49m\u001b[43m[\u001b[49m\u001b[43mlabel2\u001b[49m\u001b[43m]\u001b[49m\u001b[43m \u001b[49m\u001b[38;5;28;43;01mif\u001b[39;49;00m\u001b[43m \u001b[49m\u001b[43mlabel2\u001b[49m\u001b[43m \u001b[49m\u001b[38;5;129;43;01mis\u001b[39;49;00m\u001b[43m \u001b[49m\u001b[38;5;129;43;01mnot\u001b[39;49;00m\u001b[43m \u001b[49m\u001b[38;5;28;43;01mNone\u001b[39;49;00m\u001b[43m \u001b[49m\u001b[38;5;28;43;01melse\u001b[39;49;00m\u001b[43m \u001b[49m\u001b[38;5;28;43;01mNone\u001b[39;49;00m\u001b[43m,\u001b[49m\n\u001b[1;32m    324\u001b[0m \u001b[43m                              \u001b[49m\u001b[43mboxsize\u001b[49m\u001b[38;5;241;43m=\u001b[39;49m\u001b[43mboxsize\u001b[49m\u001b[43m,\u001b[49m\u001b[43m \u001b[49m\u001b[43mmpicomm\u001b[49m\u001b[38;5;241;43m=\u001b[39;49m\u001b[43mmpicomm\u001b[49m\u001b[43m,\u001b[49m\u001b[43m \u001b[49m\u001b[43mmpiroot\u001b[49m\u001b[38;5;241;43m=\u001b[39;49m\u001b[43mmpiroot\u001b[49m\u001b[43m,\u001b[49m\n\u001b[1;32m    325\u001b[0m \u001b[43m                              \u001b[49m\u001b[38;5;241;43m*\u001b[39;49m\u001b[38;5;241;43m*\u001b[39;49m\u001b[43mjackknife_kwargs\u001b[49m\u001b[43m,\u001b[49m\u001b[43m \u001b[49m\u001b[38;5;241;43m*\u001b[39;49m\u001b[38;5;241;43m*\u001b[39;49m\u001b[43mtwopoint_weights_kwargs\u001b[49m\u001b[43m,\u001b[49m\u001b[43m \u001b[49m\u001b[38;5;241;43m*\u001b[39;49m\u001b[38;5;241;43m*\u001b[39;49m\u001b[43mkwargs\u001b[49m\u001b[43m)\u001b[49m\n\u001b[1;32m    326\u001b[0m \u001b[38;5;28;01mreturn\u001b[39;00m Estimator(\u001b[38;5;241m*\u001b[39m\u001b[38;5;241m*\u001b[39mcounts)\n",
      "File \u001b[0;32m/feynman/work/dphp/adematti/cosmodesiconda/20220713-1.0.0/code/pycorr/1.0.0/lib/python3.9/site-packages/pycorr/twopoint_counter.py:61\u001b[0m, in \u001b[0;36mMetaTwoPointCounter.__call__\u001b[0;34m(cls, engine, *args, **kwargs)\u001b[0m\n\u001b[1;32m     60\u001b[0m \u001b[38;5;28;01mdef\u001b[39;00m \u001b[38;5;21m__call__\u001b[39m(\u001b[38;5;28mcls\u001b[39m, \u001b[38;5;241m*\u001b[39margs, engine\u001b[38;5;241m=\u001b[39m\u001b[38;5;124m'\u001b[39m\u001b[38;5;124mcorrfunc\u001b[39m\u001b[38;5;124m'\u001b[39m, \u001b[38;5;241m*\u001b[39m\u001b[38;5;241m*\u001b[39mkwargs):\n\u001b[0;32m---> 61\u001b[0m     \u001b[38;5;28;01mreturn\u001b[39;00m \u001b[43mget_twopoint_counter\u001b[49m\u001b[43m(\u001b[49m\u001b[43mengine\u001b[49m\u001b[43m)\u001b[49m\u001b[43m(\u001b[49m\u001b[38;5;241;43m*\u001b[39;49m\u001b[43margs\u001b[49m\u001b[43m,\u001b[49m\u001b[43m \u001b[49m\u001b[38;5;241;43m*\u001b[39;49m\u001b[38;5;241;43m*\u001b[39;49m\u001b[43mkwargs\u001b[49m\u001b[43m)\u001b[49m\n",
      "File \u001b[0;32m/feynman/work/dphp/adematti/cosmodesiconda/20220713-1.0.0/code/pycorr/1.0.0/lib/python3.9/site-packages/pycorr/twopoint_counter.py:428\u001b[0m, in \u001b[0;36mBaseTwoPointCounter.__init__\u001b[0;34m(self, mode, edges, positions1, positions2, weights1, weights2, bin_type, position_type, weight_type, weight_attrs, twopoint_weights, los, boxsize, compute_sepsavg, dtype, nthreads, mpicomm, mpiroot, **kwargs)\u001b[0m\n\u001b[1;32m    426\u001b[0m \u001b[38;5;28mself\u001b[39m\u001b[38;5;241m.\u001b[39mwnorm \u001b[38;5;241m=\u001b[39m \u001b[38;5;28mself\u001b[39m\u001b[38;5;241m.\u001b[39mnormalization()\n\u001b[1;32m    427\u001b[0m t0 \u001b[38;5;241m=\u001b[39m time\u001b[38;5;241m.\u001b[39mtime()\n\u001b[0;32m--> 428\u001b[0m \u001b[38;5;28;43mself\u001b[39;49m\u001b[38;5;241;43m.\u001b[39;49m\u001b[43mrun\u001b[49m\u001b[43m(\u001b[49m\u001b[43m)\u001b[49m\n\u001b[1;32m    429\u001b[0m t1 \u001b[38;5;241m=\u001b[39m time\u001b[38;5;241m.\u001b[39mtime()\n\u001b[1;32m    430\u001b[0m \u001b[38;5;28;01mif\u001b[39;00m \u001b[38;5;129;01mnot\u001b[39;00m \u001b[38;5;28mself\u001b[39m\u001b[38;5;241m.\u001b[39mwith_mpi \u001b[38;5;129;01mor\u001b[39;00m \u001b[38;5;28mself\u001b[39m\u001b[38;5;241m.\u001b[39mmpicomm\u001b[38;5;241m.\u001b[39mrank \u001b[38;5;241m==\u001b[39m \u001b[38;5;241m0\u001b[39m:\n",
      "File \u001b[0;32m/feynman/work/dphp/adematti/cosmodesiconda/20220713-1.0.0/code/pycorr/1.0.0/lib/python3.9/site-packages/pycorr/corrfunc.py:158\u001b[0m, in \u001b[0;36mCorrfuncTwoPointCounter.run\u001b[0;34m(self)\u001b[0m\n\u001b[1;32m    156\u001b[0m \u001b[38;5;28;01mif\u001b[39;00m \u001b[38;5;28mself\u001b[39m\u001b[38;5;241m.\u001b[39mlos_type \u001b[38;5;129;01min\u001b[39;00m [\u001b[38;5;124m'\u001b[39m\u001b[38;5;124mx\u001b[39m\u001b[38;5;124m'\u001b[39m, \u001b[38;5;124m'\u001b[39m\u001b[38;5;124my\u001b[39m\u001b[38;5;124m'\u001b[39m, \u001b[38;5;124m'\u001b[39m\u001b[38;5;124mz\u001b[39m\u001b[38;5;124m'\u001b[39m]:\n\u001b[1;32m    157\u001b[0m     positions1, positions2 \u001b[38;5;241m=\u001b[39m rotated_positions()\n\u001b[0;32m--> 158\u001b[0m     result \u001b[38;5;241m=\u001b[39m \u001b[43mcall_corrfunc\u001b[49m\u001b[43m(\u001b[49m\u001b[43mtheory\u001b[49m\u001b[38;5;241;43m.\u001b[39;49m\u001b[43mDDsmu\u001b[49m\u001b[43m,\u001b[49m\u001b[43m \u001b[49m\u001b[43mautocorr\u001b[49m\u001b[43m,\u001b[49m\u001b[43m \u001b[49m\u001b[43mnthreads\u001b[49m\u001b[38;5;241;43m=\u001b[39;49m\u001b[38;5;28;43mself\u001b[39;49m\u001b[38;5;241;43m.\u001b[39;49m\u001b[43mnthreads\u001b[49m\u001b[43m,\u001b[49m\n\u001b[1;32m    159\u001b[0m \u001b[43m                           \u001b[49m\u001b[43mbinfile\u001b[49m\u001b[38;5;241;43m=\u001b[39;49m\u001b[38;5;28;43mself\u001b[39;49m\u001b[38;5;241;43m.\u001b[39;49m\u001b[43medges\u001b[49m\u001b[43m[\u001b[49m\u001b[38;5;241;43m0\u001b[39;49m\u001b[43m]\u001b[49m\u001b[43m,\u001b[49m\u001b[43m \u001b[49m\u001b[43mmumax\u001b[49m\u001b[38;5;241;43m=\u001b[39;49m\u001b[38;5;28;43mself\u001b[39;49m\u001b[38;5;241;43m.\u001b[39;49m\u001b[43medges\u001b[49m\u001b[43m[\u001b[49m\u001b[38;5;241;43m1\u001b[39;49m\u001b[43m]\u001b[49m\u001b[43m[\u001b[49m\u001b[38;5;241;43m-\u001b[39;49m\u001b[38;5;241;43m1\u001b[39;49m\u001b[43m]\u001b[49m\u001b[43m,\u001b[49m\u001b[43m \u001b[49m\u001b[43mnmubins\u001b[49m\u001b[38;5;241;43m=\u001b[39;49m\u001b[38;5;28;43mlen\u001b[39;49m\u001b[43m(\u001b[49m\u001b[38;5;28;43mself\u001b[39;49m\u001b[38;5;241;43m.\u001b[39;49m\u001b[43medges\u001b[49m\u001b[43m[\u001b[49m\u001b[38;5;241;43m1\u001b[39;49m\u001b[43m]\u001b[49m\u001b[43m)\u001b[49m\u001b[43m \u001b[49m\u001b[38;5;241;43m-\u001b[39;49m\u001b[43m \u001b[49m\u001b[38;5;241;43m1\u001b[39;49m\u001b[43m,\u001b[49m\n\u001b[1;32m    160\u001b[0m \u001b[43m                           \u001b[49m\u001b[43mX1\u001b[49m\u001b[38;5;241;43m=\u001b[39;49m\u001b[43mpositions1\u001b[49m\u001b[43m[\u001b[49m\u001b[38;5;241;43m0\u001b[39;49m\u001b[43m]\u001b[49m\u001b[43m,\u001b[49m\u001b[43m \u001b[49m\u001b[43mY1\u001b[49m\u001b[38;5;241;43m=\u001b[39;49m\u001b[43mpositions1\u001b[49m\u001b[43m[\u001b[49m\u001b[38;5;241;43m1\u001b[39;49m\u001b[43m]\u001b[49m\u001b[43m,\u001b[49m\u001b[43m \u001b[49m\u001b[43mZ1\u001b[49m\u001b[38;5;241;43m=\u001b[39;49m\u001b[43mpositions1\u001b[49m\u001b[43m[\u001b[49m\u001b[38;5;241;43m2\u001b[39;49m\u001b[43m]\u001b[49m\u001b[43m,\u001b[49m\n\u001b[1;32m    161\u001b[0m \u001b[43m                           \u001b[49m\u001b[43mX2\u001b[49m\u001b[38;5;241;43m=\u001b[39;49m\u001b[43mpositions2\u001b[49m\u001b[43m[\u001b[49m\u001b[38;5;241;43m0\u001b[39;49m\u001b[43m]\u001b[49m\u001b[43m,\u001b[49m\u001b[43m \u001b[49m\u001b[43mY2\u001b[49m\u001b[38;5;241;43m=\u001b[39;49m\u001b[43mpositions2\u001b[49m\u001b[43m[\u001b[49m\u001b[38;5;241;43m1\u001b[39;49m\u001b[43m]\u001b[49m\u001b[43m,\u001b[49m\u001b[43m \u001b[49m\u001b[43mZ2\u001b[49m\u001b[38;5;241;43m=\u001b[39;49m\u001b[43mpositions2\u001b[49m\u001b[43m[\u001b[49m\u001b[38;5;241;43m2\u001b[39;49m\u001b[43m]\u001b[49m\u001b[43m,\u001b[49m\n\u001b[1;32m    162\u001b[0m \u001b[43m                           \u001b[49m\u001b[43mperiodic\u001b[49m\u001b[38;5;241;43m=\u001b[39;49m\u001b[38;5;28;43mself\u001b[39;49m\u001b[38;5;241;43m.\u001b[39;49m\u001b[43mperiodic\u001b[49m\u001b[43m,\u001b[49m\u001b[43m \u001b[49m\u001b[43mboxsize\u001b[49m\u001b[38;5;241;43m=\u001b[39;49m\u001b[43mboxsize\u001b[49m\u001b[43m(\u001b[49m\u001b[43m)\u001b[49m\u001b[43m,\u001b[49m\n\u001b[1;32m    163\u001b[0m \u001b[43m                           \u001b[49m\u001b[43moutput_savg\u001b[49m\u001b[38;5;241;43m=\u001b[39;49m\u001b[38;5;28;43mself\u001b[39;49m\u001b[38;5;241;43m.\u001b[39;49m\u001b[43mcompute_sepavg\u001b[49m\u001b[43m,\u001b[49m\u001b[43m \u001b[49m\u001b[38;5;241;43m*\u001b[39;49m\u001b[38;5;241;43m*\u001b[39;49m\u001b[43mkwargs\u001b[49m\u001b[43m)\u001b[49m\n\u001b[1;32m    164\u001b[0m \u001b[38;5;28;01melse\u001b[39;00m:\n\u001b[1;32m    165\u001b[0m     positions1, positions2 \u001b[38;5;241m=\u001b[39m sky_positions()\n",
      "File \u001b[0;32m/feynman/work/dphp/adematti/cosmodesiconda/20220713-1.0.0/code/pycorr/1.0.0/lib/python3.9/site-packages/pycorr/corrfunc.py:130\u001b[0m, in \u001b[0;36mCorrfuncTwoPointCounter.run.<locals>.call_corrfunc\u001b[0;34m(method, *args, **kwargs)\u001b[0m\n\u001b[1;32m    128\u001b[0m \u001b[38;5;28;01mdef\u001b[39;00m \u001b[38;5;21mcall_corrfunc\u001b[39m(method, \u001b[38;5;241m*\u001b[39margs, \u001b[38;5;241m*\u001b[39m\u001b[38;5;241m*\u001b[39mkwargs):\n\u001b[1;32m    129\u001b[0m     \u001b[38;5;28;01mtry\u001b[39;00m:\n\u001b[0;32m--> 130\u001b[0m         \u001b[38;5;28;01mreturn\u001b[39;00m \u001b[43mmethod\u001b[49m\u001b[43m(\u001b[49m\u001b[38;5;241;43m*\u001b[39;49m\u001b[43margs\u001b[49m\u001b[43m,\u001b[49m\u001b[43m \u001b[49m\u001b[38;5;241;43m*\u001b[39;49m\u001b[38;5;241;43m*\u001b[39;49m\u001b[43mkwargs\u001b[49m\u001b[43m)\u001b[49m\n\u001b[1;32m    131\u001b[0m     \u001b[38;5;28;01mexcept\u001b[39;00m \u001b[38;5;167;01mTypeError\u001b[39;00m \u001b[38;5;28;01mas\u001b[39;00m exc:\n\u001b[1;32m    132\u001b[0m         \u001b[38;5;28;01mraise\u001b[39;00m TwoPointCounterError(\u001b[38;5;124m'\u001b[39m\u001b[38;5;124mPlease reinstall relevant Corrfunc branch (including PIP weights):\u001b[39m\u001b[38;5;130;01m\\n\u001b[39;00m\u001b[38;5;130;01m\\\u001b[39;00m\n\u001b[1;32m    133\u001b[0m \u001b[38;5;124m                                    > pip uninstall Corrfunc\u001b[39m\u001b[38;5;130;01m\\n\u001b[39;00m\u001b[38;5;130;01m\\\u001b[39;00m\n\u001b[1;32m    134\u001b[0m \u001b[38;5;124m                                    > pip install git+https://github.com/adematti/Corrfunc@desi\u001b[39m\u001b[38;5;130;01m\\n\u001b[39;00m\u001b[38;5;124m'\u001b[39m) \u001b[38;5;28;01mfrom\u001b[39;00m \u001b[38;5;21;01mexc\u001b[39;00m\n",
      "File \u001b[0;32m/feynman/work/dphp/adematti/cosmodesiconda/20220713-1.0.0/code/Corrfunc/desi/lib/python3.9/site-packages/Corrfunc/theory/DDsmu.py:364\u001b[0m, in \u001b[0;36mDDsmu\u001b[0;34m(autocorr, nthreads, binfile, mumax, nmubins, X1, Y1, Z1, weights1, periodic, boxsize, X2, Y2, Z2, weights2, verbose, output_savg, fast_divide_and_NR_steps, xbin_refine_factor, ybin_refine_factor, zbin_refine_factor, max_cells_per_dim, copy_particles, enable_min_sep_opt, c_api_timer, isa, weight_type, bin_type, pair_weights, sep_pair_weights, attrs_pair_weights)\u001b[0m\n\u001b[1;32m    362\u001b[0m \u001b[38;5;28;01mif\u001b[39;00m extn_results \u001b[38;5;129;01mis\u001b[39;00m \u001b[38;5;28;01mNone\u001b[39;00m:\n\u001b[1;32m    363\u001b[0m     msg \u001b[38;5;241m=\u001b[39m \u001b[38;5;124m\"\u001b[39m\u001b[38;5;124mRuntimeError occurred\u001b[39m\u001b[38;5;124m\"\u001b[39m\n\u001b[0;32m--> 364\u001b[0m     \u001b[38;5;28;01mraise\u001b[39;00m \u001b[38;5;167;01mRuntimeError\u001b[39;00m(msg)\n\u001b[1;32m    365\u001b[0m \u001b[38;5;28;01melse\u001b[39;00m:\n\u001b[1;32m    366\u001b[0m     extn_results, api_time \u001b[38;5;241m=\u001b[39m extn_results\n",
      "\u001b[0;31mRuntimeError\u001b[0m: RuntimeError occurred"
     ]
    }
   ],
   "source": [
    "output_dir = '/feynman/work/dphp/mp270220/outputs/correlation_functions/'\n",
    "data_catalog.shift_boxcenter(-data_catalog.offset)\n",
    "edges = (np.linspace(0., 150., 51), np.linspace(-1, 1, 201))\n",
    "los = 'x'\n",
    "from pycorr import TwoPointCorrelationFunction\n",
    "result = TwoPointCorrelationFunction('smu', edges,\n",
    "                                     data_positions1=data_catalog.positions,\n",
    "                                     boxsize=data_catalog.boxsize,\n",
    "                                     engine='corrfunc', nthreads=128,\n",
    "                                     los = los)\n",
    "result.save(output_dir+catalog.name+'_2PCF')"
   ]
  },
  {
   "cell_type": "code",
   "execution_count": 10,
   "id": "ba3ea049-c501-4b7d-b05c-51868c68e87a",
   "metadata": {},
   "outputs": [],
   "source": [
    "result.save(output_dir+data_catalog.name+'_nocut_2PCF')"
   ]
  },
  {
   "cell_type": "code",
   "execution_count": 7,
   "id": "feb398ca-289a-487c-bb36-51ccb79d4960",
   "metadata": {},
   "outputs": [
    {
     "data": {
      "text/plain": [
       "<pycorr.twopoint_estimator.NaturalTwoPointEstimator at 0x7ffff018c970>"
      ]
     },
     "execution_count": 7,
     "metadata": {},
     "output_type": "execute_result"
    }
   ],
   "source": [
    "result"
   ]
  },
  {
   "cell_type": "code",
   "execution_count": 27,
   "id": "3f348bf1-44c6-43df-84f1-d4a152800b4a",
   "metadata": {},
   "outputs": [
    {
     "data": {
      "text/plain": [
       "0.048493062"
      ]
     },
     "execution_count": 27,
     "metadata": {},
     "output_type": "execute_result"
    }
   ],
   "source": [
    "data_catalog.size / data_catalog.boxsize**3"
   ]
  },
  {
   "cell_type": "markdown",
   "id": "66c3e2d5-35b6-47f0-941b-abb35a08ea36",
   "metadata": {},
   "source": [
    "### Get all particles"
   ]
  },
  {
   "cell_type": "code",
   "execution_count": 49,
   "id": "3bda90a5-09b5-416d-bdb7-69f0de7d33f3",
   "metadata": {},
   "outputs": [
    {
     "name": "stderr",
     "output_type": "stream",
     "text": [
      "/tmp/ipykernel_3710552/1205069590.py:11: DeprecationWarning: `np.int` is a deprecated alias for the builtin `int`. To silence this warning, use `int` by itself. Doing this will not modify any behavior and is safe. When replacing `np.int`, you may wish to use e.g. `np.int64` or `np.int32` to specify the precision. If you wish to review your current use, check the release note link for additional information.\n",
      "Deprecated in NumPy 1.20; for more details and guidance: https://numpy.org/devdocs/release/1.20.0-notes.html#deprecations\n",
      "  sample = np.random.randint(0, batch_size, np.int(batch_size/10))\n"
     ]
    }
   ],
   "source": [
    "from pathlib import Path\n",
    "from abacusnbody.data import read_abacus\n",
    "import astropy.table\n",
    "\n",
    "path_to_sim = '/feynman/scratch/dphp/ar264273/Abacus/AbacusSummit_base_c000_ph000/halos/z0.800/'\n",
    "\n",
    "allp = []\n",
    "for fn in Path(path_to_sim).glob('*_rv_*/*.asdf'):\n",
    "    batch = read_abacus.read_asdf(fn, load=['pos', 'vel'])\n",
    "    batch_size = len(batch)\n",
    "    sample = np.random.randint(0, batch_size, np.int(batch_size/10))\n",
    "    allp += [batch[sample]]\n",
    "allp = astropy.table.vstack(allp)"
   ]
  },
  {
   "cell_type": "code",
   "execution_count": 50,
   "id": "9fb36e4e-22f5-4064-8023-b272b9d38c0e",
   "metadata": {},
   "outputs": [],
   "source": [
    "output_dir = '/feynman/work/dphp/mp270220/data/'\n",
    "name = 'AbacusSummit_2Gpc_z0.800_downsampled_particles'\n",
    "boxsize = 2000\n",
    "z = 0.8\n",
    "positions = allp['pos']\n",
    "velocities = allp['vel']\n",
    "\n",
    "# Transpose arrays\n",
    "positions_reshaped = np.array(positions.T, dtype='f8')\n",
    "velocities_reshaped = np.array(velocities.T, dtype='f8')\n",
    "\n",
    "# Create Data instance\n",
    "data_catalog = catalog_data.Data(positions_reshaped, z, boxsize, boxcenter=0, name=name, \n",
    "                                 weights=None, velocities=velocities_reshaped,\n",
    "                                 mass_cut=None)"
   ]
  },
  {
   "cell_type": "code",
   "execution_count": 51,
   "id": "24794ff4-0589-4ced-8722-f344d533ce89",
   "metadata": {},
   "outputs": [],
   "source": [
    "nbar = data_catalog.size / 2000**3"
   ]
  },
  {
   "cell_type": "code",
   "execution_count": 52,
   "id": "b713b8a3-9bda-4ea1-a7b9-5004341942a9",
   "metadata": {},
   "outputs": [
    {
     "data": {
      "text/plain": [
       "0.123835594375"
      ]
     },
     "execution_count": 52,
     "metadata": {},
     "output_type": "execute_result"
    }
   ],
   "source": [
    "nbar"
   ]
  },
  {
   "cell_type": "code",
   "execution_count": 53,
   "id": "67e4db4b-cf4c-4503-81fa-6b354b304d7d",
   "metadata": {},
   "outputs": [],
   "source": [
    "# Save Data instance\n",
    "#data_catalog.save(output_dir+name+'_nbar{:.3f}'.format(nbar))"
   ]
  },
  {
   "cell_type": "code",
   "execution_count": 2,
   "id": "15be0db4-8984-4272-b78a-c2c35e6bfe10",
   "metadata": {},
   "outputs": [],
   "source": [
    "def compute_cic_density(data, smoothing_radius, cellsize=None, use_rsd=False, use_weights=False):\n",
    "    boxsize = data.boxsize\n",
    "    offset = data.boxcenter - data.boxsize/2.\n",
    "    \n",
    "    if use_rsd and data.positions_rsd is not None:\n",
    "        positions = data.positions_rsd\n",
    "    else:\n",
    "        positions = data.positions\n",
    "        \n",
    "    if use_weights and data.weights is not None:\n",
    "        weights = data.weights\n",
    "        norm = np.sum(weights) * (4/3 * np.pi * smoothing_radius**3) / boxsize**3\n",
    "    else:\n",
    "        weights = None\n",
    "        norm = data.size * (4/3 * np.pi * smoothing_radius**3) / boxsize**3\n",
    "\n",
    "    if cellsize is None:\n",
    "        cellsize = smoothing_radius * 2\n",
    "    else:\n",
    "        if cellsize < 2 * smoothing_radius:\n",
    "            print(\"Cellsize must be bigger than twice the smoothing radius.\")\n",
    "    \n",
    "    def compute_density_mesh(pos):\n",
    "        indices_in_grid = ((pos - offset) / cellsize + 0.5).astype('i4')\n",
    "        grid_pos = indices_in_grid * cellsize + offset\n",
    "        dist_to_nearest_node = np.sum((grid_pos - pos)**2, axis=0)**0.5\n",
    "        mask_particles = dist_to_nearest_node < smoothing_radius\n",
    "\n",
    "        nmesh = np.int32(boxsize / cellsize)\n",
    "        mask_particles &= np.all((indices_in_grid > 0) & (indices_in_grid < nmesh), axis=0)\n",
    "        mesh = np.zeros((nmesh - 1,)*3, dtype='f8')\n",
    "        np.add.at(mesh, tuple(indices_in_grid[:, mask_particles] - 1), weights[mask_particles] if use_weights else 1.)\n",
    "        return mesh\n",
    "\n",
    "    data_mesh = compute_density_mesh(positions)\n",
    "    mesh = data_mesh / norm - 1\n",
    "\n",
    "    return mesh"
   ]
  },
  {
   "cell_type": "code",
   "execution_count": 3,
   "id": "d5cdff57-5ddb-4eb4-8130-f070c06e283e",
   "metadata": {},
   "outputs": [
    {
     "ename": "NameError",
     "evalue": "name 'data_catalog' is not defined",
     "output_type": "error",
     "traceback": [
      "\u001b[0;31m---------------------------------------------------------------------------\u001b[0m",
      "\u001b[0;31mNameError\u001b[0m                                 Traceback (most recent call last)",
      "Input \u001b[0;32mIn [3]\u001b[0m, in \u001b[0;36m<cell line: 7>\u001b[0;34m()\u001b[0m\n\u001b[1;32m      4\u001b[0m \u001b[38;5;66;03m#data_name = 'AbacusSummit_2Gpc_z0.800'\u001b[39;00m\n\u001b[1;32m      5\u001b[0m data_name \u001b[38;5;241m=\u001b[39m \u001b[38;5;124m'\u001b[39m\u001b[38;5;124mAbacusSummit_2Gpc_z0.800_downsampled_particles_nbar0.124\u001b[39m\u001b[38;5;124m'\u001b[39m\n\u001b[0;32m----> 7\u001b[0m density_cic \u001b[38;5;241m=\u001b[39m compute_cic_density(\u001b[43mdata_catalog\u001b[49m, R, cellsize\u001b[38;5;241m=\u001b[39mcellsize)\n\u001b[1;32m      9\u001b[0m output_dir \u001b[38;5;241m=\u001b[39m \u001b[38;5;124m'\u001b[39m\u001b[38;5;124m/feynman/work/dphp/mp270220/outputs/\u001b[39m\u001b[38;5;124m'\u001b[39m\n\u001b[1;32m     10\u001b[0m \u001b[38;5;66;03m#np.save(output_dir+data_name+'_density_cic_R{:02d}Mpc'.format(R), density_cic)\u001b[39;00m\n",
      "\u001b[0;31mNameError\u001b[0m: name 'data_catalog' is not defined"
     ]
    }
   ],
   "source": [
    "cellsize = 20\n",
    "R = 10\n",
    "\n",
    "#data_name = 'AbacusSummit_2Gpc_z0.800'\n",
    "data_name = 'AbacusSummit_2Gpc_z0.800_downsampled_particles_nbar0.124'\n",
    "\n",
    "density_cic = compute_cic_density(data_catalog, R, cellsize=cellsize)\n",
    "\n",
    "output_dir = '/feynman/work/dphp/mp270220/outputs/'\n",
    "#np.save(output_dir+data_name+'_density_cic_R{:02d}Mpc'.format(R), density_cic)\n",
    "np.save(output_dir+data_name+'_density_contrast_cic_R{:02d}Mpc'.format(R), density_cic)"
   ]
  },
  {
   "cell_type": "code",
   "execution_count": null,
   "id": "797183f8-b4fd-4194-95e8-6bd8571659fe",
   "metadata": {},
   "outputs": [],
   "source": []
  }
 ],
 "metadata": {
  "kernelspec": {
   "display_name": "cosmodesi-1.0.0",
   "language": "python",
   "name": "cosmodesi-1.0.0"
  },
  "language_info": {
   "codemirror_mode": {
    "name": "ipython",
    "version": 3
   },
   "file_extension": ".py",
   "mimetype": "text/x-python",
   "name": "python",
   "nbconvert_exporter": "python",
   "pygments_lexer": "ipython3",
   "version": "3.9.13"
  }
 },
 "nbformat": 4,
 "nbformat_minor": 5
}
