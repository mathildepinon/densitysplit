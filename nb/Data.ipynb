{
 "cells": [
  {
   "cell_type": "markdown",
   "id": "f4bab542-1d3d-4221-8419-cb89788eb234",
   "metadata": {},
   "source": [
    "# Create instances of Data from Abacus simulations"
   ]
  },
  {
   "cell_type": "code",
   "execution_count": 1,
   "id": "d0faecb6-a4e7-4f2b-925a-b41d0cec8d71",
   "metadata": {},
   "outputs": [],
   "source": [
    "import numpy as np\n",
    "\n",
    "from abacusnbody.data.compaso_halo_catalog import CompaSOHaloCatalog\n",
    "import catalog_data"
   ]
  },
  {
   "cell_type": "markdown",
   "id": "49ada82d-3916-4113-b439-72e4f3d1ef19",
   "metadata": {},
   "source": [
    "## Output directory"
   ]
  },
  {
   "cell_type": "code",
   "execution_count": 2,
   "id": "499b25a8-5c05-4b47-a863-65a6b82b9607",
   "metadata": {},
   "outputs": [],
   "source": [
    "output_dir = '/feynman/work/dphp/mp270220/data/'"
   ]
  },
  {
   "cell_type": "markdown",
   "id": "f38b37d5-1dfa-4e39-b597-dab72cdeaed7",
   "metadata": {
    "tags": []
   },
   "source": [
    "### Get halo catalog"
   ]
  },
  {
   "cell_type": "code",
   "execution_count": 3,
   "id": "f8ce9def-d40a-4580-9f1b-87cbcfe578e1",
   "metadata": {},
   "outputs": [
    {
     "name": "stdout",
     "output_type": "stream",
     "text": [
      "500.0\n",
      "1000.0\n"
     ]
    },
    {
     "ename": "KeyboardInterrupt",
     "evalue": "",
     "output_type": "error",
     "traceback": [
      "\u001b[0;31m---------------------------------------------------------------------------\u001b[0m",
      "\u001b[0;31mKeyboardInterrupt\u001b[0m                         Traceback (most recent call last)",
      "Input \u001b[0;32mIn [3]\u001b[0m, in \u001b[0;36m<cell line: 24>\u001b[0;34m()\u001b[0m\n\u001b[1;32m     31\u001b[0m weights \u001b[38;5;241m=\u001b[39m halo_catalog\u001b[38;5;241m.\u001b[39mhalos[\u001b[38;5;124m'\u001b[39m\u001b[38;5;124mN\u001b[39m\u001b[38;5;124m'\u001b[39m]\n\u001b[1;32m     33\u001b[0m \u001b[38;5;66;03m# Transpose arrays\u001b[39;00m\n\u001b[0;32m---> 34\u001b[0m positions_reshaped \u001b[38;5;241m=\u001b[39m \u001b[43mnp\u001b[49m\u001b[38;5;241;43m.\u001b[39;49m\u001b[43marray\u001b[49m\u001b[43m(\u001b[49m\u001b[43mpositions\u001b[49m\u001b[38;5;241;43m.\u001b[39;49m\u001b[43mT\u001b[49m\u001b[43m,\u001b[49m\u001b[43m \u001b[49m\u001b[43mdtype\u001b[49m\u001b[38;5;241;43m=\u001b[39;49m\u001b[38;5;124;43m'\u001b[39;49m\u001b[38;5;124;43mf8\u001b[39;49m\u001b[38;5;124;43m'\u001b[39;49m\u001b[43m)\u001b[49m\n\u001b[1;32m     35\u001b[0m weights_reshaped \u001b[38;5;241m=\u001b[39m np\u001b[38;5;241m.\u001b[39marray(weights\u001b[38;5;241m.\u001b[39mT, dtype\u001b[38;5;241m=\u001b[39m\u001b[38;5;124m'\u001b[39m\u001b[38;5;124mf8\u001b[39m\u001b[38;5;124m'\u001b[39m)\n\u001b[1;32m     36\u001b[0m velocities_reshaped \u001b[38;5;241m=\u001b[39m np\u001b[38;5;241m.\u001b[39marray(velocities\u001b[38;5;241m.\u001b[39mT, dtype\u001b[38;5;241m=\u001b[39m\u001b[38;5;124m'\u001b[39m\u001b[38;5;124mf8\u001b[39m\u001b[38;5;124m'\u001b[39m)\n",
      "\u001b[0;31mKeyboardInterrupt\u001b[0m: "
     ]
    }
   ],
   "source": [
    "# 1 Gpc/h\n",
    "path_to_sim1 = '/feynman/scratch/dphp/ar264273/Abacus/AbacusSummit_highbase_c000_ph100/halos/z1.175'\n",
    "\n",
    "# 2 Gpc/h\n",
    "path_to_sim2_z1 = '/feynman/scratch/dphp/ar264273/Abacus/AbacusSummit_base_c000_ph000/halos/z1.175'\n",
    "path_to_sim2_z2 = '/feynman/scratch/dphp/ar264273/Abacus/AbacusSummit_base_c000_ph000/halos/z0.800'\n",
    "\n",
    "path_to_sim = [path_to_sim1,\n",
    "               path_to_sim2_z1,\n",
    "               path_to_sim2_z2]\n",
    "\n",
    "catalog_names = ['AbacusSummit_1Gpc_z1.175',\n",
    "                 'AbacusSummit_2Gpc_z1.175',\n",
    "                 'AbacusSummit_2Gpc_z0.800']\n",
    "\n",
    "sim_z = [1.175, \n",
    "         1.175, \n",
    "         0.800]\n",
    "\n",
    "sim_boxsizes = [1000, \n",
    "                2000, \n",
    "                2000]\n",
    "\n",
    "for i in range(0, 3):\n",
    "    halo_catalog = CompaSOHaloCatalog(path_to_sim[i], cleaned=True, fields=['id', 'x_L2com','v_L2com','N'])\n",
    "    name = catalog_names[i]\n",
    "    boxsize = sim_boxsizes[i]\n",
    "    z = sim_z[i]\n",
    "    positions = halo_catalog.halos['x_L2com']\n",
    "    velocities = halo_catalog.halos['v_L2com']\n",
    "    weights = halo_catalog.halos['N']\n",
    "    \n",
    "    # Transpose arrays\n",
    "    positions_reshaped = np.array(positions.T, dtype='f8')\n",
    "    weights_reshaped = np.array(weights.T, dtype='f8')\n",
    "    velocities_reshaped = np.array(velocities.T, dtype='f8')\n",
    "\n",
    "    # Create Data instance\n",
    "    data_catalog = catalog_data.Data(positions_reshaped, z, boxsize, boxcenter=0, name=name, \n",
    "                                     weights=weights_reshaped, velocities=velocities_reshaped,\n",
    "                                     mass_cut=500)\n",
    "    \n",
    "    # Save Data instance\n",
    "    data_catalog.save(output_dir+name)"
   ]
  }
 ],
 "metadata": {
  "kernelspec": {
   "display_name": "cosmodesi-1.0.0",
   "language": "python",
   "name": "cosmodesi-1.0.0"
  },
  "language_info": {
   "codemirror_mode": {
    "name": "ipython",
    "version": 3
   },
   "file_extension": ".py",
   "mimetype": "text/x-python",
   "name": "python",
   "nbconvert_exporter": "python",
   "pygments_lexer": "ipython3",
   "version": "3.9.10"
  }
 },
 "nbformat": 4,
 "nbformat_minor": 5
}
