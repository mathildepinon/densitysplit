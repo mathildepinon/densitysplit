{
 "cells": [
  {
   "cell_type": "code",
   "execution_count": 1,
   "id": "c03a42d3-3105-414a-b488-dceebd2f538e",
   "metadata": {},
   "outputs": [],
   "source": [
    "import numpy as np\n",
    "from matplotlib import pyplot as plt\n",
    "\n",
    "plt.rcParams[\"figure.figsize\"] = (10, 8)\n",
    "plt.rcParams.update({'font.size': 14})\n",
    "\n",
    "from cosmoprimo import *\n",
    "\n",
    "from densitysplit import catalog_data, density_split\n",
    "from densitysplit.split_model import *\n",
    "from densitysplit.corr_func_utils import *\n",
    "\n",
    "# To activate logging\n",
    "setup_logging()"
   ]
  },
  {
   "cell_type": "markdown",
   "id": "66214022-46ca-40f7-8358-3057c19d088f",
   "metadata": {},
   "source": [
    "## Cosmology"
   ]
  },
  {
   "cell_type": "code",
   "execution_count": 2,
   "id": "3cb6d0ad-e6d4-48c4-9aeb-0132ee7569ec",
   "metadata": {},
   "outputs": [],
   "source": [
    "z = 1.175\n",
    "\n",
    "# Abacus summit base cosmology\n",
    "cosmo_abacus = fiducial.AbacusSummitBase()\n",
    "bg = cosmo_abacus.get_background()\n",
    "\n",
    "k=np.logspace(-5, 2, 100000)"
   ]
  },
  {
   "cell_type": "markdown",
   "id": "cc51b0ee-fe6e-41ca-b8df-150ecaab8b8b",
   "metadata": {},
   "source": [
    "## Gaussian mock to compare to model"
   ]
  },
  {
   "cell_type": "code",
   "execution_count": 3,
   "id": "cf90df00-692b-4e3b-929e-8a80e716d126",
   "metadata": {},
   "outputs": [],
   "source": [
    "output_dir = '/feynman/work/dphp/mp270220/outputs/'\n",
    "\n",
    "mock_catalog = catalog_data.Data.load(output_dir+'AbacusSummit_1Gpc_z1.175_gaussianMock.npy')\n",
    "mock_catalog_nbarx5 = catalog_data.Data.load(output_dir+'AbacusSummit_1Gpc_z1.175_gaussianMock_nbarx5.npy')\n",
    "\n",
    "nbar = mock_catalog.size/mock_catalog.boxsize**3\n",
    "nbarx5 = mock_catalog_nbarx5.size/mock_catalog_nbarx5.boxsize**3"
   ]
  },
  {
   "cell_type": "code",
   "execution_count": 4,
   "id": "0cc863dd-5e47-403d-a25b-5b311951c3cb",
   "metadata": {},
   "outputs": [],
   "source": [
    "cellsize = 10\n",
    "resampler = 'tsc'"
   ]
  },
  {
   "cell_type": "code",
   "execution_count": 5,
   "id": "1444f465-169c-4a15-a3fe-95b1b5476469",
   "metadata": {},
   "outputs": [
    {
     "name": "stdout",
     "output_type": "stream",
     "text": [
      "[000002.40]  06-09 15:30  CatalogMesh                  INFO     Slab 0 ~ 4194304 / 14674610.\n",
      "[000003.56]  06-09 15:30  CatalogMesh                  INFO     Painted 4194304 out of 14674610 objects to mesh.\n",
      "[000003.56]  06-09 15:30  CatalogMesh                  INFO     Slab 4194304 ~ 8388608 / 14674610.\n",
      "[000004.71]  06-09 15:30  CatalogMesh                  INFO     Painted 8388608 out of 14674610 objects to mesh.\n",
      "[000004.71]  06-09 15:30  CatalogMesh                  INFO     Slab 8388608 ~ 12582912 / 14674610.\n",
      "[000005.87]  06-09 15:30  CatalogMesh                  INFO     Painted 12582912 out of 14674610 objects to mesh.\n",
      "[000005.87]  06-09 15:30  CatalogMesh                  INFO     Slab 12582912 ~ 16777216 / 14674610.\n",
      "[000006.46]  06-09 15:30  CatalogMesh                  INFO     Painted 14674610 out of 14674610 objects to mesh.\n",
      "[000012.09]  06-09 15:30  CatalogMesh                  INFO     Slab 0 ~ 4194304 / 14674610.\n",
      "[000013.30]  06-09 15:30  CatalogMesh                  INFO     Painted 4194304 out of 14674610 objects to mesh.\n",
      "[000013.30]  06-09 15:30  CatalogMesh                  INFO     Slab 4194304 ~ 8388608 / 14674610.\n",
      "[000014.47]  06-09 15:30  CatalogMesh                  INFO     Painted 8388608 out of 14674610 objects to mesh.\n",
      "[000014.47]  06-09 15:30  CatalogMesh                  INFO     Slab 8388608 ~ 12582912 / 14674610.\n",
      "[000015.59]  06-09 15:30  CatalogMesh                  INFO     Painted 12582912 out of 14674610 objects to mesh.\n",
      "[000015.59]  06-09 15:30  CatalogMesh                  INFO     Slab 12582912 ~ 16777216 / 14674610.\n",
      "[000016.16]  06-09 15:30  CatalogMesh                  INFO     Painted 14674610 out of 14674610 objects to mesh.\n",
      "[000021.07]  06-09 15:30  CatalogMesh                  INFO     Slab 0 ~ 4194304 / 14674610.\n",
      "[000022.24]  06-09 15:30  CatalogMesh                  INFO     Painted 4194304 out of 14674610 objects to mesh.\n",
      "[000022.24]  06-09 15:30  CatalogMesh                  INFO     Slab 4194304 ~ 8388608 / 14674610.\n",
      "[000023.38]  06-09 15:30  CatalogMesh                  INFO     Painted 8388608 out of 14674610 objects to mesh.\n",
      "[000023.38]  06-09 15:30  CatalogMesh                  INFO     Slab 8388608 ~ 12582912 / 14674610.\n",
      "[000024.56]  06-09 15:30  CatalogMesh                  INFO     Painted 12582912 out of 14674610 objects to mesh.\n",
      "[000024.56]  06-09 15:30  CatalogMesh                  INFO     Slab 12582912 ~ 16777216 / 14674610.\n",
      "[000025.16]  06-09 15:30  CatalogMesh                  INFO     Painted 14674610 out of 14674610 objects to mesh.\n",
      "[000030.68]  06-09 15:30  CatalogMesh                  INFO     Slab 0 ~ 4194304 / 14674610.\n",
      "[000032.02]  06-09 15:30  CatalogMesh                  INFO     Painted 4194304 out of 14674610 objects to mesh.\n",
      "[000032.02]  06-09 15:30  CatalogMesh                  INFO     Slab 4194304 ~ 8388608 / 14674610.\n",
      "[000035.30]  06-09 15:31  CatalogMesh                  INFO     Painted 8388608 out of 14674610 objects to mesh.\n",
      "[000035.30]  06-09 15:31  CatalogMesh                  INFO     Slab 8388608 ~ 12582912 / 14674610.\n",
      "[000037.75]  06-09 15:31  CatalogMesh                  INFO     Painted 12582912 out of 14674610 objects to mesh.\n",
      "[000037.76]  06-09 15:31  CatalogMesh                  INFO     Slab 12582912 ~ 16777216 / 14674610.\n",
      "[000038.80]  06-09 15:31  CatalogMesh                  INFO     Painted 14674610 out of 14674610 objects to mesh.\n",
      "[000045.09]  06-09 15:31  CatalogMesh                  INFO     Slab 0 ~ 4194304 / 14674610.\n",
      "[000046.87]  06-09 15:31  CatalogMesh                  INFO     Painted 4194304 out of 14674610 objects to mesh.\n",
      "[000046.87]  06-09 15:31  CatalogMesh                  INFO     Slab 4194304 ~ 8388608 / 14674610.\n",
      "[000048.65]  06-09 15:31  CatalogMesh                  INFO     Painted 8388608 out of 14674610 objects to mesh.\n",
      "[000048.65]  06-09 15:31  CatalogMesh                  INFO     Slab 8388608 ~ 12582912 / 14674610.\n",
      "[000050.60]  06-09 15:31  CatalogMesh                  INFO     Painted 12582912 out of 14674610 objects to mesh.\n",
      "[000050.60]  06-09 15:31  CatalogMesh                  INFO     Slab 12582912 ~ 16777216 / 14674610.\n",
      "[000051.55]  06-09 15:31  CatalogMesh                  INFO     Painted 14674610 out of 14674610 objects to mesh.\n",
      "[000059.61]  06-09 15:31  CatalogMesh                  INFO     Slab 0 ~ 4194304 / 14674610.\n",
      "[000061.52]  06-09 15:31  CatalogMesh                  INFO     Painted 4194304 out of 14674610 objects to mesh.\n",
      "[000061.52]  06-09 15:31  CatalogMesh                  INFO     Slab 4194304 ~ 8388608 / 14674610.\n",
      "[000064.83]  06-09 15:31  CatalogMesh                  INFO     Painted 8388608 out of 14674610 objects to mesh.\n",
      "[000064.83]  06-09 15:31  CatalogMesh                  INFO     Slab 8388608 ~ 12582912 / 14674610.\n",
      "[000067.87]  06-09 15:31  CatalogMesh                  INFO     Painted 12582912 out of 14674610 objects to mesh.\n",
      "[000067.87]  06-09 15:31  CatalogMesh                  INFO     Slab 12582912 ~ 16777216 / 14674610.\n",
      "[000070.06]  06-09 15:31  CatalogMesh                  INFO     Painted 14674610 out of 14674610 objects to mesh.\n",
      "[000078.60]  06-09 15:31  CatalogMesh                  INFO     Slab 0 ~ 4194304 / 14674610.\n",
      "[000080.26]  06-09 15:31  CatalogMesh                  INFO     Painted 4194304 out of 14674610 objects to mesh.\n",
      "[000080.26]  06-09 15:31  CatalogMesh                  INFO     Slab 4194304 ~ 8388608 / 14674610.\n",
      "[000082.29]  06-09 15:31  CatalogMesh                  INFO     Painted 8388608 out of 14674610 objects to mesh.\n",
      "[000082.29]  06-09 15:31  CatalogMesh                  INFO     Slab 8388608 ~ 12582912 / 14674610.\n",
      "[000083.53]  06-09 15:31  CatalogMesh                  INFO     Painted 12582912 out of 14674610 objects to mesh.\n",
      "[000083.53]  06-09 15:31  CatalogMesh                  INFO     Slab 12582912 ~ 16777216 / 14674610.\n",
      "[000084.17]  06-09 15:31  CatalogMesh                  INFO     Painted 14674610 out of 14674610 objects to mesh.\n",
      "[000090.62]  06-09 15:31  CatalogMesh                  INFO     Slab 0 ~ 4194304 / 14674610.\n",
      "[000091.80]  06-09 15:31  CatalogMesh                  INFO     Painted 4194304 out of 14674610 objects to mesh.\n",
      "[000091.80]  06-09 15:31  CatalogMesh                  INFO     Slab 4194304 ~ 8388608 / 14674610.\n",
      "[000092.97]  06-09 15:32  CatalogMesh                  INFO     Painted 8388608 out of 14674610 objects to mesh.\n",
      "[000092.97]  06-09 15:32  CatalogMesh                  INFO     Slab 8388608 ~ 12582912 / 14674610.\n",
      "[000094.14]  06-09 15:32  CatalogMesh                  INFO     Painted 12582912 out of 14674610 objects to mesh.\n",
      "[000094.14]  06-09 15:32  CatalogMesh                  INFO     Slab 12582912 ~ 16777216 / 14674610.\n",
      "[000094.75]  06-09 15:32  CatalogMesh                  INFO     Painted 14674610 out of 14674610 objects to mesh.\n",
      "[000100.18]  06-09 15:32  CatalogMesh                  INFO     Slab 0 ~ 4194304 / 14674610.\n",
      "[000102.93]  06-09 15:32  CatalogMesh                  INFO     Painted 4194304 out of 14674610 objects to mesh.\n",
      "[000102.93]  06-09 15:32  CatalogMesh                  INFO     Slab 4194304 ~ 8388608 / 14674610.\n",
      "[000105.62]  06-09 15:32  CatalogMesh                  INFO     Painted 8388608 out of 14674610 objects to mesh.\n",
      "[000105.62]  06-09 15:32  CatalogMesh                  INFO     Slab 8388608 ~ 12582912 / 14674610.\n",
      "[000107.94]  06-09 15:32  CatalogMesh                  INFO     Painted 12582912 out of 14674610 objects to mesh.\n",
      "[000107.94]  06-09 15:32  CatalogMesh                  INFO     Slab 12582912 ~ 16777216 / 14674610.\n",
      "[000108.56]  06-09 15:32  CatalogMesh                  INFO     Painted 14674610 out of 14674610 objects to mesh.\n",
      "[000114.60]  06-09 15:32  CatalogMesh                  INFO     Slab 0 ~ 4194304 / 14674610.\n",
      "[000115.78]  06-09 15:32  CatalogMesh                  INFO     Painted 4194304 out of 14674610 objects to mesh.\n",
      "[000115.78]  06-09 15:32  CatalogMesh                  INFO     Slab 4194304 ~ 8388608 / 14674610.\n",
      "[000116.96]  06-09 15:32  CatalogMesh                  INFO     Painted 8388608 out of 14674610 objects to mesh.\n",
      "[000116.96]  06-09 15:32  CatalogMesh                  INFO     Slab 8388608 ~ 12582912 / 14674610.\n",
      "[000118.55]  06-09 15:32  CatalogMesh                  INFO     Painted 12582912 out of 14674610 objects to mesh.\n",
      "[000118.55]  06-09 15:32  CatalogMesh                  INFO     Slab 12582912 ~ 16777216 / 14674610.\n",
      "[000119.45]  06-09 15:32  CatalogMesh                  INFO     Painted 14674610 out of 14674610 objects to mesh.\n"
     ]
    }
   ],
   "source": [
    "mocks_list = list()\n",
    "mocks_density_list = list()\n",
    "density_bins_list = list()\n",
    "\n",
    "for i in range(10):\n",
    "    mock_catalog = catalog_data.Data.load(output_dir+'mocks_rsd/AbacusSummit_1Gpc_z1.175_gaussianMock{}_nbar0.01467461.npy'.format(i))\n",
    "    mocks_list.append(mock_catalog)\n",
    "    mock_density = density_split.DensitySplit(mock_catalog)\n",
    "    mock_density.compute_density(cellsize=cellsize, resampler=resampler, use_rsd=False, use_weights=True)\n",
    "    mock_density.split_density(3)\n",
    "    mocks_density_list.append(mock_density)\n",
    "    density_bins_list.append(mock_density.split_bins)"
   ]
  },
  {
   "cell_type": "code",
   "execution_count": 6,
   "id": "48225b53-2aac-4cd5-bf5c-7d4cdb5d7b26",
   "metadata": {},
   "outputs": [],
   "source": [
    "mean_density_bins = np.mean(np.array(density_bins_list), axis=0)"
   ]
  },
  {
   "cell_type": "code",
   "execution_count": 7,
   "id": "856dfede-f1dd-4acb-b37d-ba369b7c252d",
   "metadata": {},
   "outputs": [
    {
     "data": {
      "text/plain": [
       "array([-2.80055491, -0.22859596,  0.2432934 ,  3.00685794])"
      ]
     },
     "execution_count": 7,
     "metadata": {},
     "output_type": "execute_result"
    }
   ],
   "source": [
    "mean_density_bins"
   ]
  },
  {
   "cell_type": "markdown",
   "id": "3b00ea75-696e-4df4-a8bd-be6ee1b387bb",
   "metadata": {
    "tags": []
   },
   "source": [
    "### Compute density"
   ]
  },
  {
   "cell_type": "code",
   "execution_count": null,
   "id": "e6fc2a60-1866-4bcb-b504-e0e3f9dbcaad",
   "metadata": {},
   "outputs": [
    {
     "name": "stdout",
     "output_type": "stream",
     "text": [
      "[000124.78]  06-09 15:32  CatalogMesh                  INFO     Slab 0 ~ 4194304 / 14674610.\n",
      "[000125.97]  06-09 15:32  CatalogMesh                  INFO     Painted 4194304 out of 14674610 objects to mesh.\n",
      "[000125.97]  06-09 15:32  CatalogMesh                  INFO     Slab 4194304 ~ 8388608 / 14674610.\n",
      "[000127.15]  06-09 15:32  CatalogMesh                  INFO     Painted 8388608 out of 14674610 objects to mesh.\n",
      "[000127.15]  06-09 15:32  CatalogMesh                  INFO     Slab 8388608 ~ 12582912 / 14674610.\n",
      "[000128.33]  06-09 15:32  CatalogMesh                  INFO     Painted 12582912 out of 14674610 objects to mesh.\n",
      "[000128.33]  06-09 15:32  CatalogMesh                  INFO     Slab 12582912 ~ 16777216 / 14674610.\n",
      "[000128.94]  06-09 15:32  CatalogMesh                  INFO     Painted 14674610 out of 14674610 objects to mesh.\n",
      "[000134.04]  06-09 15:32  CatalogMesh                  INFO     Slab 0 ~ 4194304 / 14674610.\n",
      "[000136.18]  06-09 15:32  CatalogMesh                  INFO     Painted 4194304 out of 14674610 objects to mesh.\n",
      "[000136.18]  06-09 15:32  CatalogMesh                  INFO     Slab 4194304 ~ 8388608 / 14674610.\n",
      "[000137.57]  06-09 15:32  CatalogMesh                  INFO     Painted 8388608 out of 14674610 objects to mesh.\n",
      "[000137.57]  06-09 15:32  CatalogMesh                  INFO     Slab 8388608 ~ 12582912 / 14674610.\n"
     ]
    }
   ],
   "source": [
    "# Compute density without weights\n",
    "mock_density = density_split.DensitySplit(mock_catalog)\n",
    "mock_density.compute_density(cellsize=cellsize, resampler=resampler, use_rsd=False, use_weights=True)\n",
    "\n",
    "mock_density_nbarx5 = density_split.DensitySplit(mock_catalog_nbarx5)\n",
    "mock_density_nbarx5.compute_density(cellsize=cellsize, resampler=resampler, use_rsd=False, use_weights=True)"
   ]
  },
  {
   "cell_type": "markdown",
   "id": "bd30a166-c026-4e36-98ef-514d9ea1483d",
   "metadata": {},
   "source": [
    "### Plot density distribution"
   ]
  },
  {
   "cell_type": "code",
   "execution_count": null,
   "id": "40c53067-c239-45d1-9eb7-73820151d3ab",
   "metadata": {},
   "outputs": [],
   "source": [
    "plt.hist(mock_density.data_densities, bins=60, density=True, alpha=0.5, label = r'10 Gaussian mocks ($\\bar{{n}}$ = {})'.format(0.003))\n",
    "plt.hist(mock_density_nbarx5.data_densities, bins=60, density=True, alpha=0.5, label = r'10 Gaussian mocks ($\\bar{{n}}$ = {})'.format(0.015))\n",
    "plt.xlabel(\"$\\delta$\")\n",
    "plt.ylabel(\"Normalized counts\")\n",
    "plt.show()"
   ]
  },
  {
   "cell_type": "markdown",
   "id": "a5c6710a-99b5-45e9-8347-b3dba63d70fb",
   "metadata": {},
   "source": [
    "## Split model"
   ]
  },
  {
   "cell_type": "code",
   "execution_count": null,
   "id": "d6c134c4-741c-49b8-babf-146234a1ee7a",
   "metadata": {},
   "outputs": [],
   "source": [
    "model1 = SplitCCFModel(k, redshift=z, cosmology=cosmo_abacus, bias=1.8, nsplits=1)\n",
    "model = SplitCCFModel(k, redshift=z, cosmology=cosmo_abacus, bias=1.8, nsplits=1, nbar=nbarx5)"
   ]
  },
  {
   "cell_type": "code",
   "execution_count": null,
   "id": "04b0c955-2a50-407e-93e6-88493afe02d4",
   "metadata": {},
   "outputs": [],
   "source": [
    "sep = np.linspace(1., 150., 150)\n",
    "\n",
    "plt.plot(sep, sep**2 * model.xi(sep), label='R = 0 Mpc/h')\n",
    "\n",
    "for smoothing_scale in [5, 10, 15]:\n",
    "    model.set_smoothing_scale(smoothing_scale)\n",
    "    model.compute_xi_R(sep=sep)\n",
    "    plt.plot(sep, sep**2 * model.xi_R(sep), label='R = {} Mpc/h'.format(smoothing_scale))\n",
    "\n",
    "plt.xlabel(r'$s$ [$\\mathrm{Mpc}/h$]')\n",
    "plt.ylabel(r'$s^2 \\xi_R(s)$ [$(\\mathrm{Mpc}/h)^{2}$]')\n",
    "plt.legend()\n",
    "plt.show()"
   ]
  },
  {
   "cell_type": "code",
   "execution_count": null,
   "id": "8e6e6b63-79a9-409c-b47f-0d9f1cf9e8b7",
   "metadata": {},
   "outputs": [],
   "source": [
    "model.set_smoothing_scale(smoothing_scale=10)"
   ]
  },
  {
   "cell_type": "code",
   "execution_count": null,
   "id": "6ed37bd2-830f-4983-a1c4-2f22dbc4948c",
   "metadata": {},
   "outputs": [],
   "source": [
    "mock_sigma_RR = np.std(mock_density_nbarx5.data_densities)\n",
    "mock_sigma_RR"
   ]
  },
  {
   "cell_type": "code",
   "execution_count": null,
   "id": "9968b8bc-66c0-480e-afba-62c2156549eb",
   "metadata": {},
   "outputs": [],
   "source": [
    "model.sigma_RR"
   ]
  },
  {
   "cell_type": "code",
   "execution_count": null,
   "id": "94ea84f3-00f2-4459-9fac-750b694c725a",
   "metadata": {},
   "outputs": [],
   "source": [
    "model.sigma_R"
   ]
  },
  {
   "cell_type": "code",
   "execution_count": null,
   "id": "b75a527e-b401-47bf-a735-82363376018f",
   "metadata": {},
   "outputs": [],
   "source": [
    "mock_density_nbarx5.split_density(3)"
   ]
  },
  {
   "cell_type": "code",
   "execution_count": null,
   "id": "0d4427b4-e700-4c7a-b91d-ca35a8989e2b",
   "metadata": {},
   "outputs": [],
   "source": [
    "mock_density_nbarx5.split_bins"
   ]
  },
  {
   "cell_type": "code",
   "execution_count": null,
   "id": "271a09e7-df08-4b28-ab86-d4b107868e02",
   "metadata": {},
   "outputs": [],
   "source": [
    "mean_density_bins"
   ]
  },
  {
   "cell_type": "markdown",
   "id": "beb3064d-4c71-4ceb-845a-450fb759a822",
   "metadata": {},
   "source": [
    "## Compute density split CCFs (randoms-tracers)"
   ]
  },
  {
   "cell_type": "code",
   "execution_count": null,
   "id": "e58496ae-7561-4815-b00d-83ef707bc8da",
   "metadata": {},
   "outputs": [],
   "source": [
    "ccf_randoms_tracers = model.ccf_randoms_tracers(density_bins=mean_density_bins)\n",
    "ccf_randoms_tracers1 = model1.ccf_randoms_tracers(density_bins=mean_density_bins)"
   ]
  },
  {
   "cell_type": "code",
   "execution_count": null,
   "id": "dcb84bad-2ec1-4d7b-9b4a-889d58b596b9",
   "metadata": {},
   "outputs": [],
   "source": [
    "plt.rcParams[\"figure.figsize\"] = (20, 5)\n",
    "fig, axes = plt.subplots(1, 3, sharex=False, sharey=False)\n",
    "\n",
    "s = model.sep\n",
    "\n",
    "for i in range(model.nsplits):\n",
    "    axes[i].plot(s, s**2 * ccf_randoms_tracers[i], label='With shot noise')\n",
    "    axes[i].plot(s, s**2 * ccf_randoms_tracers1[i], label='No shot noise')\n",
    "    axes[i].grid(True)\n",
    "    axes[i].set_title('DS{}'.format(i+1))    \n",
    "    axes[i].set_xlabel(r'$s$ [$\\mathrm{Mpc}/h$]')\n",
    "\n",
    "axes[0].set_ylabel(r'$s^2 \\xi_{\\ell}(s)$ [$(\\mathrm{Mpc}/h)^{2}$]')\n",
    "axes[2].legend()\n",
    "\n",
    "plt.suptitle('Cross-correlation randoms-halos', y=1.05)\n",
    "plt.show()"
   ]
  },
  {
   "cell_type": "code",
   "execution_count": null,
   "id": "7efb39a8-d87b-49dd-a2e5-c23ff4408ad4",
   "metadata": {},
   "outputs": [],
   "source": [
    "mocks_split_results = np.load(output_dir+'AbacusSummit_1Gpc_z1.175'+'_10_gaussianMocks_densitySplit_rh_CCF_cellsize10_randomsize4.npy', allow_pickle=True)\n",
    "mocks_split_results_nbarx5 = np.load(output_dir+'AbacusSummit_1Gpc_z1.175'+'_10_gaussianMocks_nbarx5_densitySplit_rh_CCF_cellsize10_randomsize4.npy', allow_pickle=True)\n",
    "mocks_xiell_rh, cov_rh = get_split_poles(mocks_split_results, ells=[0], nsplits=model.nsplits)\n",
    "mocks_xiell_rh_nbarx5, cov_rh_nbarx5 = get_split_poles(mocks_split_results_nbarx5, ells=[0], nsplits=model.nsplits)\n",
    "std_rh = np.array_split(np.array(np.array_split(np.diag(cov_rh)**0.5, 1)), model.nsplits, axis=1)\n",
    "std_rh_nbarx5 = np.array_split(np.array(np.array_split(np.diag(cov_rh_nbarx5)**0.5, 1)), model.nsplits, axis=1)"
   ]
  },
  {
   "cell_type": "code",
   "execution_count": null,
   "id": "8a13f867-c59c-4dc6-af80-aba86bc3ae17",
   "metadata": {},
   "outputs": [],
   "source": [
    "plt.rcParams[\"figure.figsize\"] = (20, 5)\n",
    "fig, axes = plt.subplots(1, 3, sharex=False, sharey=False)\n",
    "\n",
    "s, _, res = mocks_split_results[0][0].get_corr(return_sep=True)\n",
    "sep = model.sep\n",
    "\n",
    "for i in range(model.nsplits):\n",
    "    axes[i].plot(sep, sep**2 * ccf_randoms_tracers[i], label = 'Split model (with shot noise)')\n",
    "    axes[i].plot(sep, sep**2 * ccf_randoms_tracers1[i], label = 'Split model (no shot noise)')\n",
    "    #axes[i].errorbar(s, s**2 * mocks_xiell_rh[i][0], s**2 * std_rh[0], label = r'10 Gaussian mocks ($\\bar{{n}}$ = {})'.format(0.003))\n",
    "    axes[i].errorbar(s, s**2 * mocks_xiell_rh_nbarx5[i][0], s**2 * std_rh_nbarx5[0], label = r'10 Gaussian mocks ($\\bar{{n}}$ = {})'.format(0.015))\n",
    "    axes[i].grid(True)\n",
    "    axes[i].set_title('DS{}'.format(i+1))    \n",
    "    axes[i].set_xlabel(r'$s$ [$\\mathrm{Mpc}/h$]')\n",
    "\n",
    "axes[0].set_ylabel(r'$s^2 \\xi(s)$ [$(\\mathrm{Mpc}/h)^{2}$]')\n",
    "axes[2].legend()\n",
    "\n",
    "plt.suptitle('Cross-correlation randoms-halos', y=1.05)\n",
    "plt.show()"
   ]
  },
  {
   "cell_type": "markdown",
   "id": "707b3227-eae0-4cfd-9549-f787584ed0af",
   "metadata": {},
   "source": [
    "## Compute density split CCFs (tracers-tracers)"
   ]
  },
  {
   "cell_type": "code",
   "execution_count": null,
   "id": "c88bdb40-8dfa-444d-90e4-10663bf17324",
   "metadata": {},
   "outputs": [],
   "source": [
    "ccf_tracers = model.ccf_tracers(density_bins=mean_density_bins)\n",
    "ccf_tracers1 = model1.ccf_tracers(density_bins=mean_density_bins)"
   ]
  },
  {
   "cell_type": "code",
   "execution_count": null,
   "id": "cb04f6ee-9326-4e30-9a90-98bcdbb104a0",
   "metadata": {},
   "outputs": [],
   "source": [
    "plt.rcParams[\"figure.figsize\"] = (20, 5)\n",
    "fig, axes = plt.subplots(1, 3, sharex=False, sharey=False)\n",
    "\n",
    "sep = model.sep\n",
    "\n",
    "for i in range(model.nsplits):\n",
    "    axes[i].plot(sep, sep**2 * ccf_tracers[i], label='With shot noise')\n",
    "    axes[i].plot(sep, sep**2 * ccf_tracers1[i], label='No shot noise')\n",
    "    axes[i].grid(True)\n",
    "    axes[i].set_title('DS{}'.format(i+1))    \n",
    "    axes[i].set_xlabel(r'$s$ [$\\mathrm{Mpc}/h$]')\n",
    "\n",
    "axes[0].set_ylabel(r'$s^2 \\xi_{\\ell}(s)$ [$(\\mathrm{Mpc}/h)^{2}$]')\n",
    "axes[2].legend()\n",
    "\n",
    "plt.suptitle('Cross-correlation halos-halos', y=1.05)\n",
    "plt.show()"
   ]
  },
  {
   "cell_type": "code",
   "execution_count": null,
   "id": "7697a678-b1b4-4096-a5e8-382bc4301946",
   "metadata": {},
   "outputs": [],
   "source": [
    "mocks_split_results = np.load(output_dir+'AbacusSummit_1Gpc_z1.175'+'_10_gaussianMocks_densitySplit_hh_CCF_cellsize10_randomsize4.npy', allow_pickle=True)\n",
    "mocks_split_results_nbarx5 = np.load(output_dir+'AbacusSummit_1Gpc_z1.175'+'_10_gaussianMocks_nbarx5_densitySplit_hh_CCF_cellsize10_randomsize4.npy', allow_pickle=True)\n",
    "mocks_xiell_hh, cov_hh = get_split_poles(mocks_split_results, ells=[0], nsplits=model.nsplits)\n",
    "mocks_xiell_hh_nbarx5, cov_hh_nbarx5 = get_split_poles(mocks_split_results_nbarx5, ells=[0], nsplits=model.nsplits)\n",
    "std_hh = np.array_split(np.array(np.array_split(np.diag(cov_hh)**0.5, 1)), model.nsplits, axis=1)\n",
    "std_hh_nbarx5 = np.array_split(np.array(np.array_split(np.diag(cov_hh_nbarx5)**0.5, 1)), model.nsplits, axis=1)"
   ]
  },
  {
   "cell_type": "code",
   "execution_count": null,
   "id": "e9131558-a40f-43b1-9252-eca1f6a91fab",
   "metadata": {},
   "outputs": [],
   "source": [
    "plt.rcParams[\"figure.figsize\"] = (20, 5)\n",
    "fig, axes = plt.subplots(1, 3, sharex=False, sharey=False)\n",
    "\n",
    "s, _, res = mocks_split_results[0][0].get_corr(return_sep=True)\n",
    "sep = model.sep\n",
    "\n",
    "for i in range(model.nsplits):\n",
    "    axes[i].plot(sep, sep**2 * ccf_tracers[i], label = 'Split model (with shot noise)')\n",
    "    axes[i].plot(sep, sep**2 * ccf_tracers1[i], label = 'Split model (no shot noise)')\n",
    "    #axes[i].errorbar(s, s**2 * mocks_xiell_hh[i][0], s**2 * std_hh[0], label = r'10 Gaussian mocks ($\\bar{{n}}$ = {})'.format(0.003))\n",
    "    axes[i].errorbar(s, s**2 * mocks_xiell_hh_nbarx5[i][0], s**2 * std_hh_nbarx5[0], label = r'10 Gaussian mocks ($\\bar{{n}}$ = {})'.format(0.015))\n",
    "    axes[i].grid(True)\n",
    "    axes[i].set_title('DS{}'.format(i+1))    \n",
    "    axes[i].set_xlabel(r'$s$ [$\\mathrm{Mpc}/h$]')\n",
    "\n",
    "axes[0].set_ylabel(r'$s^2 \\xi(s)$ [$(\\mathrm{Mpc}/h)^{2}$]')\n",
    "axes[2].legend()\n",
    "\n",
    "plt.suptitle('Cross-correlation halos-halos', y=1.05)\n",
    "plt.show()"
   ]
  }
 ],
 "metadata": {
  "kernelspec": {
   "display_name": "cosmodesi-1.0.0",
   "language": "python",
   "name": "cosmodesi-1.0.0"
  },
  "language_info": {
   "codemirror_mode": {
    "name": "ipython",
    "version": 3
   },
   "file_extension": ".py",
   "mimetype": "text/x-python",
   "name": "python",
   "nbconvert_exporter": "python",
   "pygments_lexer": "ipython3",
   "version": "3.9.10"
  }
 },
 "nbformat": 4,
 "nbformat_minor": 5
}
