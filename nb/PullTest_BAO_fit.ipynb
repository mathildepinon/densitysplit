{
 "cells": [
  {
   "cell_type": "markdown",
   "id": "81abb1d2-e000-4991-b2d0-2ef2f23ed229",
   "metadata": {},
   "source": [
    "# Fit BAO peak from input correlation function"
   ]
  },
  {
   "cell_type": "code",
   "execution_count": 108,
   "id": "0d8de13f-d3a5-491b-aa83-fa88481bb4dc",
   "metadata": {},
   "outputs": [],
   "source": [
    "import numpy as np\n",
    "\n",
    "from matplotlib import pyplot as plt\n",
    "plt.rcParams[\"figure.figsize\"] = (10, 8)\n",
    "plt.rcParams.update({'font.size': 14})\n",
    "\n",
    "from pycorr import TwoPointCorrelationFunction, TwoPointEstimator, NaturalTwoPointEstimator, project_to_multipoles, project_to_wp, utils, setup_logging\n",
    "from cosmoprimo import *\n",
    "\n",
    "from densitysplit import catalog_data, density_split\n",
    "from bin.density_split_mocks_functions import split_density, compute_densitySplit_CCF\n",
    "from densitysplit.pk_model import *\n",
    "from densitysplit.utils import *\n",
    "from densitysplit.corr_func import *\n",
    "\n",
    "# To activate logging\n",
    "setup_logging()"
   ]
  },
  {
   "cell_type": "markdown",
   "id": "fc3c00c4-77f4-4c0f-bcab-bbef76e1cc6e",
   "metadata": {
    "tags": []
   },
   "source": [
    "## Data and output directories"
   ]
  },
  {
   "cell_type": "code",
   "execution_count": 2,
   "id": "9f76851b-39cf-4d83-a52d-aabb29a8a2cd",
   "metadata": {},
   "outputs": [],
   "source": [
    "data_dir = '/feynman/work/dphp/mp270220/data/'\n",
    "output_dir = '/feynman/work/dphp/mp270220/outputs/'"
   ]
  },
  {
   "cell_type": "markdown",
   "id": "9a4ef48a-182d-4800-90f6-a74c71351846",
   "metadata": {},
   "source": [
    "## Get data"
   ]
  },
  {
   "cell_type": "code",
   "execution_count": 3,
   "id": "f2e3663f-ebcd-4c90-b968-b425005c4423",
   "metadata": {},
   "outputs": [],
   "source": [
    "#catalog_name = 'AbacusSummit_1Gpc_z1.175'\n",
    "#bias = 1.8\n",
    "\n",
    "catalog_name = 'AbacusSummit_2Gpc_z1.175'\n",
    "#bias = 3.\n",
    "\n",
    "#catalog_name = 'AbacusSummit_2Gpc_z0.800'\n",
    "#catalog_name = 'mock'\n",
    "\n",
    "catalog = catalog_data.Data.load(data_dir+catalog_name+'.npy')\n",
    "catalog.shift_boxcenter(-catalog.offset)"
   ]
  },
  {
   "cell_type": "code",
   "execution_count": 4,
   "id": "d28c270c-a380-4378-b4a8-018e26f2ebdb",
   "metadata": {},
   "outputs": [],
   "source": [
    "z = catalog.redshift\n",
    "\n",
    "# Abacus summit base cosmology\n",
    "cosmo_abacus = fiducial.AbacusSummitBase()\n",
    "bg = cosmo_abacus.get_background()\n",
    "f = bg.Omega_m(z)**0.55"
   ]
  },
  {
   "cell_type": "markdown",
   "id": "51529f5b-171c-413a-a465-185768499b46",
   "metadata": {},
   "source": [
    "## Load correlation function poles"
   ]
  },
  {
   "cell_type": "code",
   "execution_count": 5,
   "id": "d7819f49-7573-4e35-b825-7f2436277187",
   "metadata": {},
   "outputs": [],
   "source": [
    "ells = [0]\n",
    "nells = len(ells)"
   ]
  },
  {
   "cell_type": "markdown",
   "id": "f579a9f7-b78d-40eb-a3f3-fbf5db8b11d6",
   "metadata": {},
   "source": [
    "### 2PCF"
   ]
  },
  {
   "cell_type": "code",
   "execution_count": 6,
   "id": "17d4aba4-b26f-4500-a95f-6810e4553927",
   "metadata": {},
   "outputs": [],
   "source": [
    "mocks_results = np.load(output_dir+'AbacusSummit_1Gpc_z1.175'+'_1000_mocks_2PCF.npy', allow_pickle=True)\n",
    "\n",
    "_, cov = get_poles(mocks_results, ells)"
   ]
  },
  {
   "cell_type": "markdown",
   "id": "53a9825e-5366-4a22-8ae3-d8df3f3a4ce6",
   "metadata": {},
   "source": [
    "## Pull test"
   ]
  },
  {
   "cell_type": "code",
   "execution_count": 7,
   "id": "69055d64-3c93-4223-85e4-c10249ef0b73",
   "metadata": {},
   "outputs": [],
   "source": [
    "def bao_fit(s, xiell, ells, cov):\n",
    "    pk_model = PkModel(sep=s, ells=ells, xiell=xiell, cov=cov, redshift=z, cosmology=cosmo_abacus, k=np.logspace(-3,2,1000), split=False)\n",
    "    pk_model.set_pk_model()\n",
    "    default_params = {'f': 0., 'b': 2., 'alpha_par': 1., 'alpha_perp': 1., 'sigma_par': 5., 'sigma_perp': 5., 'sigma_s': 0.}\n",
    "    pk_model.set_default_params(**default_params)\n",
    "\n",
    "    # Remove small scales (linear model not valid at small scales)\n",
    "    s_lower_limit = 50 # Mpc/h\n",
    "\n",
    "    # initialize parameters\n",
    "    broadband_coeffs = np.tile([0., 0., 0.], nells)\n",
    "    params_init = {'b': 2., 'alpha_par': 1., 'sigma_par': 5., 'broadband_coeffs': broadband_coeffs}\n",
    "\n",
    "    popt, pcov = pk_model.fit(fit_params_init=params_init, s_lower_limit=s_lower_limit, print_output=False)\n",
    "    \n",
    "    return popt, pcov"
   ]
  },
  {
   "cell_type": "code",
   "execution_count": 8,
   "id": "b11de30a-46b9-4677-8016-053c4b2e0f89",
   "metadata": {},
   "outputs": [
    {
     "data": {
      "application/vnd.jupyter.widget-view+json": {
       "model_id": "0a05a779b7194202a61c617cfc43939f",
       "version_major": 2,
       "version_minor": 0
      },
      "text/plain": [
       "  0%|          | 0/1000 [00:00<?, ?it/s]"
      ]
     },
     "metadata": {},
     "output_type": "display_data"
    },
    {
     "name": "stderr",
     "output_type": "stream",
     "text": [
      "/feynman/work/dphp/adematti/cosmodesiconda/20220419-1.0.0/conda/lib/python3.9/site-packages/scipy/optimize/_minpack_py.py:833: OptimizeWarning: Covariance of the parameters could not be estimated\n",
      "  warnings.warn('Covariance of the parameters could not be estimated',\n"
     ]
    }
   ],
   "source": [
    "alphas = list()\n",
    "alphas_err = list()\n",
    "\n",
    "from tqdm.notebook import tqdm\n",
    "\n",
    "for result in tqdm(mocks_results):\n",
    "    s, xiell = result.get_corr(ells=ells, return_sep=True)\n",
    "    \n",
    "    popt, pcov = bao_fit(s, xiell, ells, cov)\n",
    "    alpha_index = np.argwhere(np.array(list(popt.keys())) == 'alpha_par')[0][0]\n",
    "    std = np.diag(pcov)**0.5\n",
    "    alpha_err = std[alpha_index]\n",
    "    \n",
    "    alphas.append(popt['alpha_par'])\n",
    "    alphas_err.append(alpha_err)"
   ]
  },
  {
   "cell_type": "code",
   "execution_count": 11,
   "id": "153f6414-131a-4cdf-a1ea-1a3830001762",
   "metadata": {},
   "outputs": [],
   "source": [
    "alphas_arr = np.array(alphas)\n",
    "alphas_err_arr = np.array(alphas_err)"
   ]
  },
  {
   "cell_type": "code",
   "execution_count": 24,
   "id": "4db58d12-1dcc-4b36-a0a5-b810739e00aa",
   "metadata": {},
   "outputs": [],
   "source": [
    "np.save(output_dir+'pull_test_alphas', alphas_arr)\n",
    "np.save(output_dir+'pull_test_alphas_errors', alphas_err_arr)"
   ]
  },
  {
   "cell_type": "code",
   "execution_count": 12,
   "id": "a6da92e2-41d1-416e-bab8-971e6b9dc60f",
   "metadata": {},
   "outputs": [],
   "source": [
    "test = (alphas_arr - np.mean(alphas_arr)) / alphas_err_arr"
   ]
  },
  {
   "cell_type": "code",
   "execution_count": 84,
   "id": "1b643b5e-4c47-495f-bb88-87151bb290f4",
   "metadata": {},
   "outputs": [],
   "source": [
    "from scipy.stats import norm\n",
    "\n",
    "(mu, sigma) = norm.fit(test)"
   ]
  },
  {
   "cell_type": "code",
   "execution_count": 85,
   "id": "045bfaf2-b494-47f9-a436-a20a4f42f9cd",
   "metadata": {},
   "outputs": [
    {
     "name": "stdout",
     "output_type": "stream",
     "text": [
      "-0.017416760504959876\n",
      "1.0073268083291667\n"
     ]
    }
   ],
   "source": [
    "print(mu)\n",
    "print(sigma)"
   ]
  },
  {
   "cell_type": "code",
   "execution_count": 86,
   "id": "f940564f-ad96-4069-acc9-ef6a3c79cd59",
   "metadata": {},
   "outputs": [],
   "source": [
    "x = np.linspace(-3, 3, 50)\n",
    "model = norm.pdf(x, mu, sigma)"
   ]
  },
  {
   "cell_type": "code",
   "execution_count": 112,
   "id": "f0757205-43d6-4d6a-b266-ede7e9c8086e",
   "metadata": {},
   "outputs": [
    {
     "data": {
      "image/png": "[encoded data removed]",
      "text/plain": [
       "<Figure size 720x576 with 1 Axes>"
      ]
     },
     "metadata": {
      "needs_background": "light"
     },
     "output_type": "display_data"
    }
   ],
   "source": [
    "plt.hist(test, bins=15, density=True)\n",
    "plt.plot(x, model, label=r'Gaussian ($\\mu$ = {:.1e}, $\\sigma$ = {:.3e})'.format(mu, sigma))\n",
    "plt.xlabel(r'$\\frac{\\alpha - \\langle \\alpha \\rangle}{\\sigma_{\\alpha}}$')\n",
    "plt.ylabel('counts')\n",
    "plt.legend()\n",
    "plt.show()"
   ]
  },
  {
   "cell_type": "code",
   "execution_count": null,
   "id": "bad5d659-a046-4054-947d-bded2f403a35",
   "metadata": {},
   "outputs": [],
   "source": []
  }
 ],
 "metadata": {
  "kernelspec": {
   "display_name": "cosmodesi-1.0.0",
   "language": "python",
   "name": "cosmodesi-1.0.0"
  },
  "language_info": {
   "codemirror_mode": {
    "name": "ipython",
    "version": 3
   },
   "file_extension": ".py",
   "mimetype": "text/x-python",
   "name": "python",
   "nbconvert_exporter": "python",
   "pygments_lexer": "ipython3",
   "version": "3.9.10"
  }
 },
 "nbformat": 4,
 "nbformat_minor": 5
}
