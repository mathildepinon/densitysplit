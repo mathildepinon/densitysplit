{
 "cells": [
  {
   "cell_type": "code",
   "execution_count": 10,
   "id": "be46fcce-37bb-49fd-9e19-3e4c8e4cc00a",
   "metadata": {},
   "outputs": [],
   "source": [
    "import numpy as np\n",
    "from matplotlib import pyplot as plt\n",
    "from scipy.stats import norm, moment\n",
    "from scipy.optimize import minimize, curve_fit\n",
    "\n",
    "from cosmoprimo import *\n",
    "\n",
    "from densitysplit import catalog_data, density_split\n",
    "from densitysplit.split_model import *\n",
    "from densitysplit.corr_func_utils import *\n",
    "from densitysplit.utils import *\n",
    "\n",
    "plt.style.use(os.path.join(os.path.abspath(''), 'densitysplit.mplstyle'))\n",
    "\n",
    "# To activate logging\n",
    "setup_logging()"
   ]
  },
  {
   "cell_type": "code",
   "execution_count": 11,
   "id": "89c8626a-43a8-4af3-8eb2-dc2c7afc30f5",
   "metadata": {},
   "outputs": [],
   "source": [
    "plt.rcParams[\"figure.figsize\"] = (5, 4)\n",
    "plt.rcParams['figure.dpi'] = 100"
   ]
  },
  {
   "cell_type": "markdown",
   "id": "5da102a6-12e5-4abf-aa49-9623f7824b38",
   "metadata": {},
   "source": [
    "## Global parameters"
   ]
  },
  {
   "cell_type": "code",
   "execution_count": 3,
   "id": "cc5c9386-908b-40b0-8a08-4ee5d659c2db",
   "metadata": {},
   "outputs": [],
   "source": [
    "# Mock parameters\n",
    "boxsize = 2000\n",
    "boxcenter = 0\n",
    "cosmology = fiducial.AbacusSummitBase()\n",
    "z = 0.8\n",
    "\n",
    "# Mocks\n",
    "nmocks = 10\n",
    "\n",
    "# Density smoothing parameters\n",
    "cellsize = 10\n",
    "resampler = 'tsc'"
   ]
  },
  {
   "cell_type": "markdown",
   "id": "a2cb1f9d-8e37-43a0-92f8-8baad69c1933",
   "metadata": {},
   "source": [
    "## Average density"
   ]
  },
  {
   "cell_type": "code",
   "execution_count": 4,
   "id": "1b6885b7-80d4-4488-ba30-09e1fbf83283",
   "metadata": {},
   "outputs": [],
   "source": [
    "abacus_halos = catalog_data.Data.load('/feynman/work/dphp/mp270220/data/AbacusSummit_2Gpc_z{:.3f}.npy'.format(z))\n",
    "abacus_particles = catalog_data.Data.load('/feynman/scratch/dphp/mp270220/abacus/AbacusSummit_2Gpc_z{:.3f}_ph000_downsampled_particles_nbar0.0034.npy'.format(z))\n",
    "nbar = abacus_halos.size/(boxsize**3)"
   ]
  },
  {
   "cell_type": "code",
   "execution_count": 5,
   "id": "c48fe733-f866-41e6-b439-0980ddeba663",
   "metadata": {},
   "outputs": [],
   "source": [
    "rng = np.random.RandomState(seed=0)\n",
    "randoms_positions = np.array([rng.uniform(0., 1., abacus_halos.size)*b for b in (boxsize,)*3])"
   ]
  },
  {
   "cell_type": "code",
   "execution_count": 6,
   "id": "5ec26a11-a5d8-44ab-98c4-8ed2803b0ea0",
   "metadata": {},
   "outputs": [
    {
     "name": "stdout",
     "output_type": "stream",
     "text": [
      "[000007.60]  03-25 13:30  CatalogMesh                  INFO     Slab 0 ~ 4194304 / 27541685.\n",
      "[000009.04]  03-25 13:30  CatalogMesh                  INFO     Painted 4194304 out of 27541685 objects to mesh.\n",
      "[000009.04]  03-25 13:30  CatalogMesh                  INFO     Slab 4194304 ~ 8388608 / 27541685.\n",
      "[000010.35]  03-25 13:30  CatalogMesh                  INFO     Painted 8388608 out of 27541685 objects to mesh.\n",
      "[000010.35]  03-25 13:30  CatalogMesh                  INFO     Slab 8388608 ~ 12582912 / 27541685.\n",
      "[000011.73]  03-25 13:30  CatalogMesh                  INFO     Painted 12582912 out of 27541685 objects to mesh.\n",
      "[000011.73]  03-25 13:30  CatalogMesh                  INFO     Slab 12582912 ~ 16777216 / 27541685.\n",
      "[000013.02]  03-25 13:30  CatalogMesh                  INFO     Painted 16777216 out of 27541685 objects to mesh.\n",
      "[000013.02]  03-25 13:30  CatalogMesh                  INFO     Slab 16777216 ~ 20971520 / 27541685.\n",
      "[000014.29]  03-25 13:31  CatalogMesh                  INFO     Painted 20971520 out of 27541685 objects to mesh.\n",
      "[000014.29]  03-25 13:31  CatalogMesh                  INFO     Slab 20971520 ~ 25165824 / 27541685.\n",
      "[000015.61]  03-25 13:31  CatalogMesh                  INFO     Painted 25165824 out of 27541685 objects to mesh.\n",
      "[000015.61]  03-25 13:31  CatalogMesh                  INFO     Slab 25165824 ~ 29360128 / 27541685.\n",
      "[000016.43]  03-25 13:31  CatalogMesh                  INFO     Painted 27541685 out of 27541685 objects to mesh.\n"
     ]
    }
   ],
   "source": [
    "from pypower import CatalogMesh\n",
    "\n",
    "halos_mesh = CatalogMesh(data_positions=abacus_halos.positions, interlacing=0,\n",
    "                         boxsize=boxsize, boxcenter=boxcenter, resampler=resampler, cellsize=cellsize)\n",
    "\n",
    "norm = abacus_halos.size\n",
    "halos_painted_mesh = halos_mesh.to_mesh(field='data')\n",
    "halos_density_mesh = halos_painted_mesh/(norm/(halos_mesh.nmesh[0]**3)) - 1\n",
    "halos_densities = halos_density_mesh.readout(randoms_positions.T, resampler=resampler)"
   ]
  },
  {
   "cell_type": "code",
   "execution_count": 7,
   "id": "5c302d16-cc57-4e3a-a131-01800664c6cd",
   "metadata": {},
   "outputs": [
    {
     "name": "stdout",
     "output_type": "stream",
     "text": [
      "[000026.51]  03-25 13:31  CatalogMesh                  INFO     Slab 0 ~ 4194304 / 27542676.\n",
      "[000027.92]  03-25 13:31  CatalogMesh                  INFO     Painted 4194304 out of 27542676 objects to mesh.\n",
      "[000027.92]  03-25 13:31  CatalogMesh                  INFO     Slab 4194304 ~ 8388608 / 27542676.\n",
      "[000029.28]  03-25 13:31  CatalogMesh                  INFO     Painted 8388608 out of 27542676 objects to mesh.\n",
      "[000029.28]  03-25 13:31  CatalogMesh                  INFO     Slab 8388608 ~ 12582912 / 27542676.\n",
      "[000030.62]  03-25 13:31  CatalogMesh                  INFO     Painted 12582912 out of 27542676 objects to mesh.\n",
      "[000030.62]  03-25 13:31  CatalogMesh                  INFO     Slab 12582912 ~ 16777216 / 27542676.\n",
      "[000031.98]  03-25 13:31  CatalogMesh                  INFO     Painted 16777216 out of 27542676 objects to mesh.\n",
      "[000031.98]  03-25 13:31  CatalogMesh                  INFO     Slab 16777216 ~ 20971520 / 27542676.\n",
      "[000033.37]  03-25 13:31  CatalogMesh                  INFO     Painted 20971520 out of 27542676 objects to mesh.\n",
      "[000033.37]  03-25 13:31  CatalogMesh                  INFO     Slab 20971520 ~ 25165824 / 27542676.\n",
      "[000034.77]  03-25 13:31  CatalogMesh                  INFO     Painted 25165824 out of 27542676 objects to mesh.\n",
      "[000034.77]  03-25 13:31  CatalogMesh                  INFO     Slab 25165824 ~ 29360128 / 27542676.\n",
      "[000035.64]  03-25 13:31  CatalogMesh                  INFO     Painted 27542676 out of 27542676 objects to mesh.\n"
     ]
    }
   ],
   "source": [
    "particles_mesh = CatalogMesh(data_positions=abacus_particles.positions, interlacing=0,\n",
    "                             boxsize=boxsize, boxcenter=boxcenter, resampler=resampler, cellsize=cellsize)\n",
    "\n",
    "norm = abacus_particles.size\n",
    "particles_painted_mesh = particles_mesh.to_mesh(field='data')\n",
    "particles_density_mesh = particles_painted_mesh/(norm/(particles_mesh.nmesh[0]**3)) - 1\n",
    "particles_densities = particles_density_mesh.readout(randoms_positions.T, resampler=resampler)\n",
    "\n",
    "fourier_density_mesh = particles_density_mesh.r2c()"
   ]
  },
  {
   "cell_type": "code",
   "execution_count": 8,
   "id": "97d8bc78-78a3-4a1b-90a2-ec9666971030",
   "metadata": {},
   "outputs": [],
   "source": [
    "def compute_tidal_field(fourier_delta_field, return_deriv=True):\n",
    "    s = 0\n",
    "    s_deriv = 0\n",
    "    delta = fourier_delta_field.copy()\n",
    "    k = fourier_delta_field.x\n",
    "    k2 = sum(kk**2 for kk in k)\n",
    "    mask_nonzero = k2 != 0.\n",
    "    k2_nonzero = np.where(mask_nonzero, k2, 1)\n",
    "    delta.value = np.where(mask_nonzero, fourier_delta_field.value, 0)\n",
    "    for i, ki in enumerate(k):\n",
    "        tmp = (ki**2/k2_nonzero - 1/3) * delta\n",
    "        s += tmp.c2r()**2\n",
    "        #s_deriv += tmp.c2r()**2\n",
    "        for j, kj in enumerate(k):\n",
    "            if j!=i:\n",
    "                tmp = ki*kj/k2_nonzero * delta\n",
    "                s += tmp.c2r()**2\n",
    "    return s\n",
    "\n",
    "particles_s2 = compute_tidal_field(fourier_density_mesh)"
   ]
  },
  {
   "cell_type": "code",
   "execution_count": 9,
   "id": "fad30e09-8d58-4e21-8e81-81e176c04484",
   "metadata": {},
   "outputs": [],
   "source": [
    "tidal_field_particles = particles_s2.readout(randoms_positions.T, resampler=resampler)"
   ]
  },
  {
   "cell_type": "code",
   "execution_count": 23,
   "id": "5a21e1fe-2037-4bf2-892c-884d1f4e98a3",
   "metadata": {},
   "outputs": [],
   "source": [
    "def bias_model(deltam, sm2=None, b1=1., b2=None, bs=None, b3=None):\n",
    "    res = b1 * deltam\n",
    "    if b2 is not None:\n",
    "        deltam2 = np.mean(deltam**2)\n",
    "        res += b2 * (deltam**2 - deltam2)\n",
    "    if bs is not None and sm2 is not None:\n",
    "        res += bs * (sm2 - np.mean(sm2))\n",
    "    if b3 is not None:\n",
    "        res += b3 * (deltam**3 - np.mean(deltam**3))\n",
    "    return res\n",
    "\n",
    "def fit_bias_params(deltam, deltah, b1init=1.5, order=3, sm2=None):\n",
    "    x = deltah\n",
    "    pdf1, bins1 = np.histogram(x, bins=200, density=True)\n",
    "\n",
    "    def to_min(*params):\n",
    "        y = bias_model(deltam, sm2, *params)\n",
    "        pdf2 = np.histogram(y, bins=bins1, density=True)[0]\n",
    "        return np.sum((pdf1-pdf2)**2)\n",
    "\n",
    "    if order==1:\n",
    "        x0 = np.array([b1init])\n",
    "    if order==2:\n",
    "        if sm2 is None:\n",
    "            x0 = np.array([b1init, 0.])\n",
    "        else:\n",
    "            x0 = np.array([b1init, 0., 0.])\n",
    "    if order==3:\n",
    "        x0 = np.array([b1init, 0., 0., 0.])\n",
    "\n",
    "    from iminuit import Minuit\n",
    "    #res = minimize(to_min, x0=x0, tol=1e-3)\n",
    "    m = Minuit(to_min, *x0)\n",
    "    m.migrad()\n",
    "    #imin = m.hesse()\n",
    "\n",
    "    print(m)\n",
    "    #return res.x\n",
    "    return m"
   ]
  },
  {
   "cell_type": "code",
   "execution_count": 24,
   "id": "9923b63d-3940-4147-8de5-a8bec544e26a",
   "metadata": {},
   "outputs": [
    {
     "name": "stdout",
     "output_type": "stream",
     "text": [
      "┌─────────────────────────────────────────────────────────────────────────┐\n",
      "│                                Migrad                                   │\n",
      "├──────────────────────────────────┬──────────────────────────────────────┤\n",
      "│ FCN = 0.03862                    │              Nfcn = 45               │\n",
      "│ EDM = 3.09e-08 (Goal: 0.0002)    │           time = 82.7 sec            │\n",
      "├──────────────────────────────────┼──────────────────────────────────────┤\n",
      "│          Valid Minimum           │   Below EDM threshold (goal x 10)    │\n",
      "├──────────────────────────────────┼──────────────────────────────────────┤\n",
      "│      No parameters at limit      │           Below call limit           │\n",
      "├──────────────────────────────────┼──────────────────────────────────────┤\n",
      "│             Hesse ok             │         Covariance accurate          │\n",
      "└──────────────────────────────────┴──────────────────────────────────────┘\n",
      "┌───┬──────┬───────────┬───────────┬────────────┬────────────┬─────────┬─────────┬───────┐\n",
      "│   │ Name │   Value   │ Hesse Err │ Minos Err- │ Minos Err+ │ Limit-  │ Limit+  │ Fixed │\n",
      "├───┼──────┼───────────┼───────────┼────────────┼────────────┼─────────┼─────────┼───────┤\n",
      "│ 0 │ x0   │   1.529   │   0.034   │            │            │         │         │       │\n",
      "└───┴──────┴───────────┴───────────┴────────────┴────────────┴─────────┴─────────┴───────┘\n",
      "┌────┬─────────┐\n",
      "│    │      x0 │\n",
      "├────┼─────────┤\n",
      "│ x0 │ 0.00112 │\n",
      "└────┴─────────┘\n"
     ]
    }
   ],
   "source": [
    "res1 = fit_bias_params(particles_densities, halos_densities, b1init=1.5, order=1, sm2=None)"
   ]
  },
  {
   "cell_type": "code",
   "execution_count": 29,
   "id": "73409703-7c6f-4134-8665-735421e4b0ea",
   "metadata": {},
   "outputs": [
    {
     "data": {
      "text/plain": [
       "1.5289501966020824"
      ]
     },
     "execution_count": 29,
     "metadata": {},
     "output_type": "execute_result"
    }
   ],
   "source": [
    "res1.params['x0'].value"
   ]
  },
  {
   "cell_type": "code",
   "execution_count": null,
   "id": "61c4b035-e3ce-46db-b3a1-9d294caa362f",
   "metadata": {},
   "outputs": [],
   "source": [
    "res2 = fit_bias_params(particles_densities, halos_densities, b1init=1.5, order=2, sm2=None)"
   ]
  },
  {
   "cell_type": "code",
   "execution_count": 31,
   "id": "df48211f-5321-4d92-9715-fae17e3a4f9f",
   "metadata": {},
   "outputs": [
    {
     "data": {
      "text/html": [
       "<table>\n",
       "    <tr>\n",
       "        <th colspan=\"2\" style=\"text-align:center\" title=\"Minimizer\"> Migrad </th>\n",
       "    </tr>\n",
       "    <tr>\n",
       "        <td style=\"text-align:left\" title=\"Minimum value of function\"> FCN = 0.03613 </td>\n",
       "        <td style=\"text-align:center\" title=\"Total number of function and (optional) gradient evaluations\"> Nfcn = 128 </td>\n",
       "    </tr>\n",
       "    <tr>\n",
       "        <td style=\"text-align:left\" title=\"Estimated distance to minimum and goal\"> EDM = 5.35e-08 (Goal: 0.0002) </td>\n",
       "        <td style=\"text-align:center\" title=\"Total run time of algorithms\"> time = 250.6 sec </td>\n",
       "    </tr>\n",
       "    <tr>\n",
       "        <td style=\"text-align:center;background-color:#92CCA6;color:black\"> Valid Minimum </td>\n",
       "        <td style=\"text-align:center;background-color:#92CCA6;color:black\"> Below EDM threshold (goal x 10) </td>\n",
       "    </tr>\n",
       "    <tr>\n",
       "        <td style=\"text-align:center;background-color:#92CCA6;color:black\"> No parameters at limit </td>\n",
       "        <td style=\"text-align:center;background-color:#92CCA6;color:black\"> Below call limit </td>\n",
       "    </tr>\n",
       "    <tr>\n",
       "        <td style=\"text-align:center;background-color:#92CCA6;color:black\"> Hesse ok </td>\n",
       "        <td style=\"text-align:center;background-color:#92CCA6;color:black\"> Covariance accurate </td>\n",
       "    </tr>\n",
       "</table><table>\n",
       "    <tr>\n",
       "        <td></td>\n",
       "        <th title=\"Variable name\"> Name </th>\n",
       "        <th title=\"Value of parameter\"> Value </th>\n",
       "        <th title=\"Hesse error\"> Hesse Error </th>\n",
       "        <th title=\"Minos lower error\"> Minos Error- </th>\n",
       "        <th title=\"Minos upper error\"> Minos Error+ </th>\n",
       "        <th title=\"Lower limit of the parameter\"> Limit- </th>\n",
       "        <th title=\"Upper limit of the parameter\"> Limit+ </th>\n",
       "        <th title=\"Is the parameter fixed in the fit\"> Fixed </th>\n",
       "    </tr>\n",
       "    <tr>\n",
       "        <th> 0 </th>\n",
       "        <td> x0 </td>\n",
       "        <td> 1.53 </td>\n",
       "        <td> 0.04 </td>\n",
       "        <td>  </td>\n",
       "        <td>  </td>\n",
       "        <td>  </td>\n",
       "        <td>  </td>\n",
       "        <td>  </td>\n",
       "    </tr>\n",
       "    <tr>\n",
       "        <th> 1 </th>\n",
       "        <td> x1 </td>\n",
       "        <td> 0.0393 </td>\n",
       "        <td> 0.0016 </td>\n",
       "        <td>  </td>\n",
       "        <td>  </td>\n",
       "        <td>  </td>\n",
       "        <td>  </td>\n",
       "        <td>  </td>\n",
       "    </tr>\n",
       "</table><table>\n",
       "    <tr>\n",
       "        <td></td>\n",
       "        <th> x0 </th>\n",
       "        <th> x1 </th>\n",
       "    </tr>\n",
       "    <tr>\n",
       "        <th> x0 </th>\n",
       "        <td> 0.00132 </td>\n",
       "        <td style=\"background-color:rgb(250,226,226);color:black\"> 9.2e-6 <strong>(0.158)</strong> </td>\n",
       "    </tr>\n",
       "    <tr>\n",
       "        <th> x1 </th>\n",
       "        <td style=\"background-color:rgb(250,226,226);color:black\"> 9.2e-6 <strong>(0.158)</strong> </td>\n",
       "        <td> 2.56e-06 </td>\n",
       "    </tr>\n",
       "</table>"
      ],
      "text/plain": [
       "┌─────────────────────────────────────────────────────────────────────────┐\n",
       "│                                Migrad                                   │\n",
       "├──────────────────────────────────┬──────────────────────────────────────┤\n",
       "│ FCN = 0.03613                    │              Nfcn = 128              │\n",
       "│ EDM = 5.35e-08 (Goal: 0.0002)    │           time = 250.6 sec           │\n",
       "├──────────────────────────────────┼──────────────────────────────────────┤\n",
       "│          Valid Minimum           │   Below EDM threshold (goal x 10)    │\n",
       "├──────────────────────────────────┼──────────────────────────────────────┤\n",
       "│      No parameters at limit      │           Below call limit           │\n",
       "├──────────────────────────────────┼──────────────────────────────────────┤\n",
       "│             Hesse ok             │         Covariance accurate          │\n",
       "└──────────────────────────────────┴──────────────────────────────────────┘\n",
       "┌───┬──────┬───────────┬───────────┬────────────┬────────────┬─────────┬─────────┬───────┐\n",
       "│   │ Name │   Value   │ Hesse Err │ Minos Err- │ Minos Err+ │ Limit-  │ Limit+  │ Fixed │\n",
       "├───┼──────┼───────────┼───────────┼────────────┼────────────┼─────────┼─────────┼───────┤\n",
       "│ 0 │ x0   │   1.53    │   0.04    │            │            │         │         │       │\n",
       "│ 1 │ x1   │  0.0393   │  0.0016   │            │            │         │         │       │\n",
       "└───┴──────┴───────────┴───────────┴────────────┴────────────┴─────────┴─────────┴───────┘\n",
       "┌────┬───────────────────┐\n",
       "│    │       x0       x1 │\n",
       "├────┼───────────────────┤\n",
       "│ x0 │  0.00132   9.2e-6 │\n",
       "│ x1 │   9.2e-6 2.56e-06 │\n",
       "└────┴───────────────────┘"
      ]
     },
     "execution_count": 31,
     "metadata": {},
     "output_type": "execute_result"
    }
   ],
   "source": [
    "res2"
   ]
  },
  {
   "cell_type": "code",
   "execution_count": 34,
   "id": "52c2413a-727e-4833-8b19-23e4b737f577",
   "metadata": {},
   "outputs": [
    {
     "name": "stdout",
     "output_type": "stream",
     "text": [
      "┌─────────────────────────────────────────────────────────────────────────┐\n",
      "│                                Migrad                                   │\n",
      "├──────────────────────────────────┬──────────────────────────────────────┤\n",
      "│ FCN = 0.03622                    │              Nfcn = 184              │\n",
      "│ EDM = 0.000144 (Goal: 0.0002)    │           time = 385.6 sec           │\n",
      "├──────────────────────────────────┼──────────────────────────────────────┤\n",
      "│          Valid Minimum           │   Below EDM threshold (goal x 10)    │\n",
      "├──────────────────────────────────┼──────────────────────────────────────┤\n",
      "│      No parameters at limit      │           Below call limit           │\n",
      "├──────────────────────────────────┼──────────────────────────────────────┤\n",
      "│             Hesse ok             │     Covariance FORCED pos. def.      │\n",
      "└──────────────────────────────────┴──────────────────────────────────────┘\n",
      "┌───┬──────┬───────────┬───────────┬────────────┬────────────┬─────────┬─────────┬───────┐\n",
      "│   │ Name │   Value   │ Hesse Err │ Minos Err- │ Minos Err+ │ Limit-  │ Limit+  │ Fixed │\n",
      "├───┼──────┼───────────┼───────────┼────────────┼────────────┼─────────┼─────────┼───────┤\n",
      "│ 0 │ x0   │   1.51    │   0.06    │            │            │         │         │       │\n",
      "│ 1 │ x1   │    0.0    │    2.4    │            │            │         │         │       │\n",
      "│ 2 │ x2   │   0.11    │   0.23    │            │            │         │         │       │\n",
      "└───┴──────┴───────────┴───────────┴────────────┴────────────┴─────────┴─────────┴───────┘\n",
      "┌────┬─────────────────────────┐\n",
      "│    │      x0      x1      x2 │\n",
      "├────┼─────────────────────────┤\n",
      "│ x0 │ 0.00362  -0.146  -0.014 │\n",
      "│ x1 │  -0.146    5.98    0.57 │\n",
      "│ x2 │  -0.014    0.57  0.0553 │\n",
      "└────┴─────────────────────────┘\n"
     ]
    }
   ],
   "source": [
    "res3 = fit_bias_params(particles_densities, halos_densities, b1init=1.5, order=2, sm2=tidal_field_particles)"
   ]
  },
  {
   "cell_type": "code",
   "execution_count": 35,
   "id": "cf693600-638a-4a00-9a8a-08cca38b1373",
   "metadata": {},
   "outputs": [
    {
     "name": "stdout",
     "output_type": "stream",
     "text": [
      "┌─────────────────────────────────────────────────────────────────────────┐\n",
      "│                                Migrad                                   │\n",
      "├──────────────────────────────────┬──────────────────────────────────────┤\n",
      "│ FCN = 0.03108                    │              Nfcn = 355              │\n",
      "│ EDM = 1.45e-08 (Goal: 0.0002)    │          time = 1652.2 sec           │\n",
      "├──────────────────────────────────┼──────────────────────────────────────┤\n",
      "│         INVALID Minimum          │   Below EDM threshold (goal x 10)    │\n",
      "├──────────────────────────────────┼──────────────────────────────────────┤\n",
      "│      No parameters at limit      │           Below call limit           │\n",
      "├──────────────────────────────────┼──────────────────────────────────────┤\n",
      "│           Hesse FAILED           │       Covariance NOT pos. def.       │\n",
      "└──────────────────────────────────┴──────────────────────────────────────┘\n",
      "┌───┬──────┬───────────┬───────────┬────────────┬────────────┬─────────┬─────────┬───────┐\n",
      "│   │ Name │   Value   │ Hesse Err │ Minos Err- │ Minos Err+ │ Limit-  │ Limit+  │ Fixed │\n",
      "├───┼──────┼───────────┼───────────┼────────────┼────────────┼─────────┼─────────┼───────┤\n",
      "│ 0 │ x0   │  1.5339   │  0.0000   │            │            │         │         │       │\n",
      "│ 1 │ x1   │ 4.8699e-2 │ 0.0000e-2 │            │            │         │         │       │\n",
      "│ 2 │ x2   │     0     │     0     │            │            │         │         │       │\n",
      "│ 3 │ x3   │-3.3094e-2 │ 0.0000e-2 │            │            │         │         │       │\n",
      "└───┴──────┴───────────┴───────────┴────────────┴────────────┴─────────┴─────────┴───────┘\n"
     ]
    }
   ],
   "source": [
    "res4 = fit_bias_params(particles_densities, halos_densities, b1init=1.5, order=3)"
   ]
  },
  {
   "cell_type": "code",
   "execution_count": 36,
   "id": "9381ae03-274f-417c-a5d7-a2b36096dce8",
   "metadata": {},
   "outputs": [
    {
     "data": {
      "text/html": [
       "<table>\n",
       "    <tr>\n",
       "        <th colspan=\"2\" style=\"text-align:center\" title=\"Minimizer\"> Migrad </th>\n",
       "    </tr>\n",
       "    <tr>\n",
       "        <td style=\"text-align:left\" title=\"Minimum value of function\"> FCN = 0.03108 </td>\n",
       "        <td style=\"text-align:center\" title=\"Total number of function and (optional) gradient evaluations\"> Nfcn = 355 </td>\n",
       "    </tr>\n",
       "    <tr>\n",
       "        <td style=\"text-align:left\" title=\"Estimated distance to minimum and goal\"> EDM = 1.45e-08 (Goal: 0.0002) </td>\n",
       "        <td style=\"text-align:center\" title=\"Total run time of algorithms\"> time = 1652.2 sec </td>\n",
       "    </tr>\n",
       "    <tr>\n",
       "        <td style=\"text-align:center;background-color:#c15ef7;color:black\"> INVALID Minimum </td>\n",
       "        <td style=\"text-align:center;background-color:#92CCA6;color:black\"> Below EDM threshold (goal x 10) </td>\n",
       "    </tr>\n",
       "    <tr>\n",
       "        <td style=\"text-align:center;background-color:#92CCA6;color:black\"> No parameters at limit </td>\n",
       "        <td style=\"text-align:center;background-color:#92CCA6;color:black\"> Below call limit </td>\n",
       "    </tr>\n",
       "    <tr>\n",
       "        <td style=\"text-align:center;background-color:#c15ef7;color:black\"> Hesse FAILED </td>\n",
       "        <td style=\"text-align:center;background-color:#c15ef7;color:black\"> Covariance NOT pos. def. </td>\n",
       "    </tr>\n",
       "</table><table>\n",
       "    <tr>\n",
       "        <td></td>\n",
       "        <th title=\"Variable name\"> Name </th>\n",
       "        <th title=\"Value of parameter\"> Value </th>\n",
       "        <th title=\"Hesse error\"> Hesse Error </th>\n",
       "        <th title=\"Minos lower error\"> Minos Error- </th>\n",
       "        <th title=\"Minos upper error\"> Minos Error+ </th>\n",
       "        <th title=\"Lower limit of the parameter\"> Limit- </th>\n",
       "        <th title=\"Upper limit of the parameter\"> Limit+ </th>\n",
       "        <th title=\"Is the parameter fixed in the fit\"> Fixed </th>\n",
       "    </tr>\n",
       "    <tr>\n",
       "        <th> 0 </th>\n",
       "        <td> x0 </td>\n",
       "        <td> 1.5339 </td>\n",
       "        <td> 0.0000 </td>\n",
       "        <td>  </td>\n",
       "        <td>  </td>\n",
       "        <td>  </td>\n",
       "        <td>  </td>\n",
       "        <td>  </td>\n",
       "    </tr>\n",
       "    <tr>\n",
       "        <th> 1 </th>\n",
       "        <td> x1 </td>\n",
       "        <td> 4.8699e-2 </td>\n",
       "        <td> 0.0000e-2 </td>\n",
       "        <td>  </td>\n",
       "        <td>  </td>\n",
       "        <td>  </td>\n",
       "        <td>  </td>\n",
       "        <td>  </td>\n",
       "    </tr>\n",
       "    <tr>\n",
       "        <th> 2 </th>\n",
       "        <td> x2 </td>\n",
       "        <td> 0 </td>\n",
       "        <td> 0 </td>\n",
       "        <td>  </td>\n",
       "        <td>  </td>\n",
       "        <td>  </td>\n",
       "        <td>  </td>\n",
       "        <td>  </td>\n",
       "    </tr>\n",
       "    <tr>\n",
       "        <th> 3 </th>\n",
       "        <td> x3 </td>\n",
       "        <td> -3.3094e-2 </td>\n",
       "        <td> 0.0000e-2 </td>\n",
       "        <td>  </td>\n",
       "        <td>  </td>\n",
       "        <td>  </td>\n",
       "        <td>  </td>\n",
       "        <td>  </td>\n",
       "    </tr>\n",
       "</table>"
      ],
      "text/plain": [
       "┌─────────────────────────────────────────────────────────────────────────┐\n",
       "│                                Migrad                                   │\n",
       "├──────────────────────────────────┬──────────────────────────────────────┤\n",
       "│ FCN = 0.03108                    │              Nfcn = 355              │\n",
       "│ EDM = 1.45e-08 (Goal: 0.0002)    │          time = 1652.2 sec           │\n",
       "├──────────────────────────────────┼──────────────────────────────────────┤\n",
       "│         INVALID Minimum          │   Below EDM threshold (goal x 10)    │\n",
       "├──────────────────────────────────┼──────────────────────────────────────┤\n",
       "│      No parameters at limit      │           Below call limit           │\n",
       "├──────────────────────────────────┼──────────────────────────────────────┤\n",
       "│           Hesse FAILED           │       Covariance NOT pos. def.       │\n",
       "└──────────────────────────────────┴──────────────────────────────────────┘\n",
       "┌───┬──────┬───────────┬───────────┬────────────┬────────────┬─────────┬─────────┬───────┐\n",
       "│   │ Name │   Value   │ Hesse Err │ Minos Err- │ Minos Err+ │ Limit-  │ Limit+  │ Fixed │\n",
       "├───┼──────┼───────────┼───────────┼────────────┼────────────┼─────────┼─────────┼───────┤\n",
       "│ 0 │ x0   │  1.5339   │  0.0000   │            │            │         │         │       │\n",
       "│ 1 │ x1   │ 4.8699e-2 │ 0.0000e-2 │            │            │         │         │       │\n",
       "│ 2 │ x2   │     0     │     0     │            │            │         │         │       │\n",
       "│ 3 │ x3   │-3.3094e-2 │ 0.0000e-2 │            │            │         │         │       │\n",
       "└───┴──────┴───────────┴───────────┴────────────┴────────────┴─────────┴─────────┴───────┘"
      ]
     },
     "execution_count": 36,
     "metadata": {},
     "output_type": "execute_result"
    }
   ],
   "source": [
    "res4"
   ]
  },
  {
   "cell_type": "code",
   "execution_count": 37,
   "id": "bf62b751-3699-4655-a5a4-b7b6aa0e7be5",
   "metadata": {},
   "outputs": [],
   "source": [
    "bias_model1 = bias_model(particles_densities, sm2=None, b1=res1.params['x0'].value)\n",
    "model1, delta1 = np.histogram(bias_model1, density=True, bins=200)\n",
    "\n",
    "bias_model2 = bias_model(particles_densities, sm2=None, b1=res2.params['x0'].value, b2=res2.params['x1'].value)\n",
    "model2, delta2 = np.histogram(bias_model2, density=True, bins=200)\n",
    "\n",
    "bias_model3 = bias_model(particles_densities, sm2=tidal_field_particles, b1=res3.params['x0'].value, b2=res3.params['x1'].value, bs=res3.params['x2'].value)\n",
    "model3, delta3 = np.histogram(bias_model3, density=True, bins=200)"
   ]
  },
  {
   "cell_type": "code",
   "execution_count": 40,
   "id": "03783f4e-6081-4db0-97fd-66c23cfd54e8",
   "metadata": {},
   "outputs": [
    {
     "data": {
      "image/png": "[encoded data removed]",
      "text/plain": [
       "<Figure size 500x400 with 1 Axes>"
      ]
     },
     "metadata": {},
     "output_type": "display_data"
    }
   ],
   "source": [
    "from matplotlib.colors import BoundaryNorm\n",
    "cmap = plt.cm.cool\n",
    "\n",
    "plt.plot((delta1[1:]+delta1[:-1])/2., model1, 'C1', ls='--', alpha=0.6, label=r'$b_1$')\n",
    "plt.plot((delta2[1:]+delta2[:-1])/2., model2, 'C1', ls='--', alpha=1, label=r'$b_1$, $b_2$')\n",
    "plt.plot((delta3[1:]+delta3[:-1])/2., model3, 'C3', ls='--', alpha=1, label=r'$b_1$, $b_2$, $b_s$')\n",
    "plt.hist(halos_densities, bins=200, density=True, alpha=0.4, color='C0', label=r'Abacus halos')\n",
    "plt.xlabel(r'$\\delta_R$')\n",
    "plt.xlim((-1, 3))\n",
    "plt.legend()\n",
    "plt.savefig('../../plots/density_bias_model.png')\n",
    "plt.show()"
   ]
  }
 ],
 "metadata": {
  "kernelspec": {
   "display_name": "cosmodesi-main",
   "language": "python",
   "name": "cosmodesi-main"
  },
  "language_info": {
   "codemirror_mode": {
    "name": "ipython",
    "version": 3
   },
   "file_extension": ".py",
   "mimetype": "text/x-python",
   "name": "python",
   "nbconvert_exporter": "python",
   "pygments_lexer": "ipython3",
   "version": "3.10.12"
  }
 },
 "nbformat": 4,
 "nbformat_minor": 5
}
