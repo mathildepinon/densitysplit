{
 "cells": [
  {
   "cell_type": "code",
   "execution_count": 1,
   "id": "b5e67636-45f5-4dfa-a84c-99fc0f666b96",
   "metadata": {},
   "outputs": [],
   "source": [
    "import numpy as np\n",
    "from sympy import *"
   ]
  },
  {
   "cell_type": "markdown",
   "id": "c51ff7f0-c11a-401b-a5de-526cca073394",
   "metadata": {},
   "source": [
    "## Cross-correlation halos-halos with smoothing"
   ]
  },
  {
   "cell_type": "code",
   "execution_count": 2,
   "id": "d77c0b2e-0037-495f-8c6d-c3f50a4512aa",
   "metadata": {},
   "outputs": [],
   "source": [
    "delta, deltaR = symbols('delta delta_R', real=True)\n",
    "sigma, sigmaR, sigmaRR, rhoR0 = symbols('sigma sigma_R sigma_RR rho_R^0', real=True, positive=True)"
   ]
  },
  {
   "cell_type": "code",
   "execution_count": 3,
   "id": "65642bd5-1a33-42e5-bc92-505c69f1dd63",
   "metadata": {},
   "outputs": [],
   "source": [
    "integrand1 = exp(- (delta**2 / sigma**2 + deltaR**2/sigmaRR**2 - 2 * rhoR0 * delta / sigma * deltaR / sigmaRR) / (2 * (1 - rhoR0**2)))\n",
    "integrand2 = delta * exp(- (delta**2 / sigma**2 + deltaR**2/sigmaRR**2 - 2 * rhoR0 * delta / sigma * deltaR / sigmaRR) / (2 * (1 - rhoR0**2)))"
   ]
  },
  {
   "cell_type": "code",
   "execution_count": 4,
   "id": "e0ad1dec-bcdc-4c49-b42f-2fac9e8d9117",
   "metadata": {},
   "outputs": [],
   "source": [
    "integral1 = integrate(integrand1, (delta, -oo, oo))\n",
    "integral2 = integrate(integrand2, (delta, -oo, oo))"
   ]
  },
  {
   "cell_type": "code",
   "execution_count": 5,
   "id": "5499e49d-658f-47a7-b48d-2b29556cfc37",
   "metadata": {},
   "outputs": [],
   "source": [
    "integral1_simple = simplify(integral1)\n",
    "integral2_simple = simplify(integral2)"
   ]
  },
  {
   "cell_type": "code",
   "execution_count": 6,
   "id": "6b3596a1-50ef-48df-a34c-c1d71c392529",
   "metadata": {},
   "outputs": [
    {
     "data": {
      "text/latex": [
       "$\\displaystyle \\begin{cases} \\sqrt{2} \\sqrt{\\pi} \\sigma e^{- \\frac{\\delta_{R}^{2}}{2 \\sigma_{RR}^{2}}} \\sqrt{\\operatorname{polar\\_lift}{\\left(1 - \\left(\\rho^{0}_{R}\\right)^{2} \\right)}} & \\text{for}\\: \\left(\\left|{\\arg{\\left(1 - \\left(\\rho^{0}_{R}\\right)^{2} \\right)}}\\right| \\leq \\frac{\\pi}{2} \\wedge \\left|{2 \\arg{\\left(\\delta_{R} \\right)} - 2 \\arg{\\left(1 - \\left(\\rho^{0}_{R}\\right)^{2} \\right)}}\\right| < \\pi \\wedge \\left|{2 \\arg{\\left(\\delta_{R} \\right)} - 2 \\arg{\\left(1 - \\left(\\rho^{0}_{R}\\right)^{2} \\right)} + 2 \\pi}\\right| < \\pi\\right) \\vee \\left|{\\arg{\\left(1 - \\left(\\rho^{0}_{R}\\right)^{2} \\right)}}\\right| < \\frac{\\pi}{2} \\\\\\int\\limits_{-\\infty}^{\\infty} e^{\\frac{\\delta^{2} \\sigma_{RR}^{2} - 2 \\delta \\delta_{R} \\rho^{0}_{R} \\sigma \\sigma_{RR} + \\delta_{R}^{2} \\sigma^{2}}{2 \\sigma^{2} \\sigma_{RR}^{2} \\left(\\left(\\rho^{0}_{R}\\right)^{2} - 1\\right)}}\\, d\\delta & \\text{otherwise} \\end{cases}$"
      ],
      "text/plain": [
       "Piecewise((sqrt(2)*sqrt(pi)*sigma*exp(-delta_R**2/(2*sigma_RR**2))*sqrt(polar_lift(1 - rho_R^0**2)), (Abs(arg(1 - rho_R^0**2)) < pi/2) | ((Abs(arg(1 - rho_R^0**2)) <= pi/2) & (Abs(2*arg(delta_R) - 2*arg(1 - rho_R^0**2)) < pi) & (Abs(2*arg(delta_R) - 2*arg(1 - rho_R^0**2) + 2*pi) < pi))), (Integral(exp((delta**2*sigma_RR**2 - 2*delta*delta_R*rho_R^0*sigma*sigma_RR + delta_R**2*sigma**2)/(2*sigma**2*sigma_RR**2*(rho_R^0**2 - 1))), (delta, -oo, oo)), True))"
      ]
     },
     "execution_count": 6,
     "metadata": {},
     "output_type": "execute_result"
    }
   ],
   "source": [
    "integral1_simple"
   ]
  },
  {
   "cell_type": "code",
   "execution_count": 7,
   "id": "12b4a3ba-d41e-49a5-87da-2edb6a1c1d3b",
   "metadata": {},
   "outputs": [
    {
     "data": {
      "text/latex": [
       "$\\displaystyle \\begin{cases} - \\frac{\\sqrt{2} \\sqrt{\\pi} \\delta_{R} \\rho^{0}_{R} \\sigma^{2} e^{- \\frac{\\delta_{R}^{2}}{2 \\sigma_{RR}^{2}}} \\operatorname{polar\\_lift}^{\\frac{3}{2}}{\\left(1 - \\left(\\rho^{0}_{R}\\right)^{2} \\right)}}{\\sigma_{RR} \\left(\\left(\\rho^{0}_{R}\\right)^{2} - 1\\right)} & \\text{for}\\: \\left(\\left|{\\arg{\\left(1 - \\left(\\rho^{0}_{R}\\right)^{2} \\right)}}\\right| \\leq \\frac{\\pi}{2} \\wedge \\left|{2 \\arg{\\left(\\delta_{R} \\right)} - 2 \\arg{\\left(1 - \\left(\\rho^{0}_{R}\\right)^{2} \\right)}}\\right| < \\pi \\wedge \\left|{2 \\arg{\\left(\\delta_{R} \\right)} - 2 \\arg{\\left(1 - \\left(\\rho^{0}_{R}\\right)^{2} \\right)} + 2 \\pi}\\right| < \\pi\\right) \\vee \\left|{\\arg{\\left(1 - \\left(\\rho^{0}_{R}\\right)^{2} \\right)}}\\right| < \\frac{\\pi}{2} \\\\\\int\\limits_{-\\infty}^{\\infty} \\delta e^{\\frac{\\delta^{2} \\sigma_{RR}^{2} - 2 \\delta \\delta_{R} \\rho^{0}_{R} \\sigma \\sigma_{RR} + \\delta_{R}^{2} \\sigma^{2}}{2 \\sigma^{2} \\sigma_{RR}^{2} \\left(\\left(\\rho^{0}_{R}\\right)^{2} - 1\\right)}}\\, d\\delta & \\text{otherwise} \\end{cases}$"
      ],
      "text/plain": [
       "Piecewise((-sqrt(2)*sqrt(pi)*delta_R*rho_R^0*sigma**2*exp(-delta_R**2/(2*sigma_RR**2))*polar_lift(1 - rho_R^0**2)**(3/2)/(sigma_RR*(rho_R^0**2 - 1)), (Abs(arg(1 - rho_R^0**2)) < pi/2) | ((Abs(arg(1 - rho_R^0**2)) <= pi/2) & (Abs(2*arg(delta_R) - 2*arg(1 - rho_R^0**2)) < pi) & (Abs(2*arg(delta_R) - 2*arg(1 - rho_R^0**2) + 2*pi) < pi))), (Integral(delta*exp((delta**2*sigma_RR**2 - 2*delta*delta_R*rho_R^0*sigma*sigma_RR + delta_R**2*sigma**2)/(2*sigma**2*sigma_RR**2*(rho_R^0**2 - 1))), (delta, -oo, oo)), True))"
      ]
     },
     "execution_count": 7,
     "metadata": {},
     "output_type": "execute_result"
    }
   ],
   "source": [
    "integral2_simple"
   ]
  },
  {
   "cell_type": "code",
   "execution_count": 8,
   "id": "1af4eeb4-409e-40fb-9cd9-2bac529fb154",
   "metadata": {},
   "outputs": [],
   "source": [
    "integrand_expr = 1 / (sqrt(2 * pi) * sigmaRR) * (1 + rhoR0 * deltaR * sigma / sigmaRR) * exp(- deltaR**2 / (2 * sigmaRR**2))"
   ]
  },
  {
   "cell_type": "code",
   "execution_count": 9,
   "id": "7bec74b3-3079-43f6-b00f-bf0470d0ee7f",
   "metadata": {},
   "outputs": [],
   "source": [
    "integral = integrate(integrand_expr, deltaR)"
   ]
  },
  {
   "cell_type": "code",
   "execution_count": 10,
   "id": "c4a98802-8844-4fa5-83cc-83de6fd811c6",
   "metadata": {},
   "outputs": [],
   "source": [
    "integral_simple = simplify(integral)"
   ]
  },
  {
   "cell_type": "code",
   "execution_count": 11,
   "id": "5c806d79-8e34-4ae2-8166-7ae38f02977f",
   "metadata": {},
   "outputs": [
    {
     "data": {
      "text/latex": [
       "$\\displaystyle - \\frac{\\sqrt{2} \\rho^{0}_{R} \\sigma e^{- \\frac{\\delta_{R}^{2}}{2 \\sigma_{RR}^{2}}}}{2 \\sqrt{\\pi}} + \\frac{\\operatorname{erf}{\\left(\\frac{\\sqrt{2} \\delta_{R}}{2 \\sigma_{RR}} \\right)}}{2}$"
      ],
      "text/plain": [
       "-sqrt(2)*rho_R^0*sigma*exp(-delta_R**2/(2*sigma_RR**2))/(2*sqrt(pi)) + erf(sqrt(2)*delta_R/(2*sigma_RR))/2"
      ]
     },
     "execution_count": 11,
     "metadata": {},
     "output_type": "execute_result"
    }
   ],
   "source": [
    "integral_simple"
   ]
  },
  {
   "cell_type": "markdown",
   "id": "c3aef5e0-e4ce-4ebb-8422-74bc5a2eafcb",
   "metadata": {},
   "source": [
    "## 2D Gram-Charlier expansion"
   ]
  },
  {
   "cell_type": "code",
   "execution_count": 12,
   "id": "5443eace-c1e3-4ae5-bf83-7189ec33d3e7",
   "metadata": {},
   "outputs": [],
   "source": [
    "sigma, sigmaR, sigmaRR, rhoR0 = symbols('sigma sigma_R sigma_RR rho_R^0', real=True, positive=True)\n",
    "x1, x2, deltaR, delta = symbols('x1 x2 delta_R delta', real = True)"
   ]
  },
  {
   "cell_type": "code",
   "execution_count": 13,
   "id": "f2aa0cf5-41f5-49fe-b867-ed854dce9d0b",
   "metadata": {},
   "outputs": [],
   "source": [
    "rhoR0 = sigmaR**2 / (sigma * sigmaRR)\n",
    "x1 = (deltaR / sigmaRR - delta / sigma) / sqrt(2 * (1 - rhoR0))\n",
    "x2 = (deltaR / sigmaRR + delta / sigma) / sqrt(2 * (1 + rhoR0))"
   ]
  },
  {
   "cell_type": "code",
   "execution_count": 14,
   "id": "041a76c7-09c2-42ed-a6a9-fcecdad4cc43",
   "metadata": {},
   "outputs": [],
   "source": [
    "## probablistic Hermite polynomials\n",
    "\n",
    "class hermite_proba(Function):\n",
    "   @classmethod\n",
    "   def eval(cls, n, x):\n",
    "        new = 2**(- n / 2) * hermite(n, x / sqrt(2))\n",
    "        return new"
   ]
  },
  {
   "cell_type": "code",
   "execution_count": 15,
   "id": "cdb59aa9-4a36-4ac0-98e7-ef360d08146f",
   "metadata": {},
   "outputs": [],
   "source": [
    "expr1 = hermite_proba(0, x1) * hermite_proba(3, x2)"
   ]
  },
  {
   "cell_type": "code",
   "execution_count": 16,
   "id": "c3a004e3-1605-4b49-9621-3df66a7439da",
   "metadata": {},
   "outputs": [
    {
     "data": {
      "text/latex": [
       "$\\displaystyle \\frac{\\delta^{3}}{2 \\sigma^{3} \\sqrt{2 + \\frac{2 \\sigma_{R}^{2}}{\\sigma \\sigma_{RR}}} + \\frac{2 \\sigma^{2} \\sigma_{R}^{2} \\sqrt{2 + \\frac{2 \\sigma_{R}^{2}}{\\sigma \\sigma_{RR}}}}{\\sigma_{RR}}} + \\frac{3 \\delta^{2} \\delta_{R}}{2 \\sigma^{2} \\sigma_{RR} \\sqrt{2 + \\frac{2 \\sigma_{R}^{2}}{\\sigma \\sigma_{RR}}} + 2 \\sigma \\sigma_{R}^{2} \\sqrt{2 + \\frac{2 \\sigma_{R}^{2}}{\\sigma \\sigma_{RR}}}} + \\frac{3 \\delta \\delta_{R}^{2}}{2 \\sigma \\sigma_{RR}^{2} \\sqrt{2 + \\frac{2 \\sigma_{R}^{2}}{\\sigma \\sigma_{RR}}} + 2 \\sigma_{R}^{2} \\sigma_{RR} \\sqrt{2 + \\frac{2 \\sigma_{R}^{2}}{\\sigma \\sigma_{RR}}}} - \\frac{3 \\delta}{\\sigma \\sqrt{2 + \\frac{2 \\sigma_{R}^{2}}{\\sigma \\sigma_{RR}}}} + \\frac{\\delta_{R}^{3}}{2 \\sigma_{RR}^{3} \\sqrt{2 + \\frac{2 \\sigma_{R}^{2}}{\\sigma \\sigma_{RR}}} + \\frac{2 \\sigma_{R}^{2} \\sigma_{RR}^{2} \\sqrt{2 + \\frac{2 \\sigma_{R}^{2}}{\\sigma \\sigma_{RR}}}}{\\sigma}} - \\frac{3 \\delta_{R}}{\\sigma_{RR} \\sqrt{2 + \\frac{2 \\sigma_{R}^{2}}{\\sigma \\sigma_{RR}}}}$"
      ],
      "text/plain": [
       "delta**3/(2*sigma**3*sqrt(2 + 2*sigma_R**2/(sigma*sigma_RR)) + 2*sigma**2*sigma_R**2*sqrt(2 + 2*sigma_R**2/(sigma*sigma_RR))/sigma_RR) + 3*delta**2*delta_R/(2*sigma**2*sigma_RR*sqrt(2 + 2*sigma_R**2/(sigma*sigma_RR)) + 2*sigma*sigma_R**2*sqrt(2 + 2*sigma_R**2/(sigma*sigma_RR))) + 3*delta*delta_R**2/(2*sigma*sigma_RR**2*sqrt(2 + 2*sigma_R**2/(sigma*sigma_RR)) + 2*sigma_R**2*sigma_RR*sqrt(2 + 2*sigma_R**2/(sigma*sigma_RR))) - 3*delta/(sigma*sqrt(2 + 2*sigma_R**2/(sigma*sigma_RR))) + delta_R**3/(2*sigma_RR**3*sqrt(2 + 2*sigma_R**2/(sigma*sigma_RR)) + 2*sigma_R**2*sigma_RR**2*sqrt(2 + 2*sigma_R**2/(sigma*sigma_RR))/sigma) - 3*delta_R/(sigma_RR*sqrt(2 + 2*sigma_R**2/(sigma*sigma_RR)))"
      ]
     },
     "execution_count": 16,
     "metadata": {},
     "output_type": "execute_result"
    }
   ],
   "source": [
    "expr1_pretty = expand(expr1)\n",
    "expr1_pretty"
   ]
  },
  {
   "cell_type": "code",
   "execution_count": 17,
   "id": "b15c5a05-90ba-47b4-b9a0-18fed5295c2d",
   "metadata": {},
   "outputs": [],
   "source": [
    "expr2 = hermite_proba(3, x1) * hermite_proba(0, x2)"
   ]
  },
  {
   "cell_type": "code",
   "execution_count": 18,
   "id": "5711d8e5-451c-4a70-9741-70938ab23149",
   "metadata": {},
   "outputs": [
    {
     "data": {
      "text/latex": [
       "$\\displaystyle - \\frac{\\delta^{3}}{2 \\sigma^{3} \\sqrt{2 - \\frac{2 \\sigma_{R}^{2}}{\\sigma \\sigma_{RR}}} - \\frac{2 \\sigma^{2} \\sigma_{R}^{2} \\sqrt{2 - \\frac{2 \\sigma_{R}^{2}}{\\sigma \\sigma_{RR}}}}{\\sigma_{RR}}} + \\frac{3 \\delta^{2} \\delta_{R}}{2 \\sigma^{2} \\sigma_{RR} \\sqrt{2 - \\frac{2 \\sigma_{R}^{2}}{\\sigma \\sigma_{RR}}} - 2 \\sigma \\sigma_{R}^{2} \\sqrt{2 - \\frac{2 \\sigma_{R}^{2}}{\\sigma \\sigma_{RR}}}} - \\frac{3 \\delta \\delta_{R}^{2}}{2 \\sigma \\sigma_{RR}^{2} \\sqrt{2 - \\frac{2 \\sigma_{R}^{2}}{\\sigma \\sigma_{RR}}} - 2 \\sigma_{R}^{2} \\sigma_{RR} \\sqrt{2 - \\frac{2 \\sigma_{R}^{2}}{\\sigma \\sigma_{RR}}}} + \\frac{3 \\delta}{\\sigma \\sqrt{2 - \\frac{2 \\sigma_{R}^{2}}{\\sigma \\sigma_{RR}}}} + \\frac{\\delta_{R}^{3}}{2 \\sigma_{RR}^{3} \\sqrt{2 - \\frac{2 \\sigma_{R}^{2}}{\\sigma \\sigma_{RR}}} - \\frac{2 \\sigma_{R}^{2} \\sigma_{RR}^{2} \\sqrt{2 - \\frac{2 \\sigma_{R}^{2}}{\\sigma \\sigma_{RR}}}}{\\sigma}} - \\frac{3 \\delta_{R}}{\\sigma_{RR} \\sqrt{2 - \\frac{2 \\sigma_{R}^{2}}{\\sigma \\sigma_{RR}}}}$"
      ],
      "text/plain": [
       "-delta**3/(2*sigma**3*sqrt(2 - 2*sigma_R**2/(sigma*sigma_RR)) - 2*sigma**2*sigma_R**2*sqrt(2 - 2*sigma_R**2/(sigma*sigma_RR))/sigma_RR) + 3*delta**2*delta_R/(2*sigma**2*sigma_RR*sqrt(2 - 2*sigma_R**2/(sigma*sigma_RR)) - 2*sigma*sigma_R**2*sqrt(2 - 2*sigma_R**2/(sigma*sigma_RR))) - 3*delta*delta_R**2/(2*sigma*sigma_RR**2*sqrt(2 - 2*sigma_R**2/(sigma*sigma_RR)) - 2*sigma_R**2*sigma_RR*sqrt(2 - 2*sigma_R**2/(sigma*sigma_RR))) + 3*delta/(sigma*sqrt(2 - 2*sigma_R**2/(sigma*sigma_RR))) + delta_R**3/(2*sigma_RR**3*sqrt(2 - 2*sigma_R**2/(sigma*sigma_RR)) - 2*sigma_R**2*sigma_RR**2*sqrt(2 - 2*sigma_R**2/(sigma*sigma_RR))/sigma) - 3*delta_R/(sigma_RR*sqrt(2 - 2*sigma_R**2/(sigma*sigma_RR)))"
      ]
     },
     "execution_count": 18,
     "metadata": {},
     "output_type": "execute_result"
    }
   ],
   "source": [
    "expr2_pretty = expand(expr2)\n",
    "expr2_pretty"
   ]
  },
  {
   "cell_type": "code",
   "execution_count": 19,
   "id": "dc3fe694-4a9f-4166-ad4a-8383cc6bd691",
   "metadata": {},
   "outputs": [
    {
     "data": {
      "text/latex": [
       "$\\displaystyle - \\frac{\\delta^{3}}{2 \\sigma^{3} \\sqrt{2 - \\frac{2 \\sigma_{R}^{2}}{\\sigma \\sigma_{RR}}} + \\frac{2 \\sigma^{2} \\sigma_{R}^{2} \\sqrt{2 - \\frac{2 \\sigma_{R}^{2}}{\\sigma \\sigma_{RR}}}}{\\sigma_{RR}}} - \\frac{\\delta^{2} \\delta_{R}}{2 \\sigma^{2} \\sigma_{RR} \\sqrt{2 - \\frac{2 \\sigma_{R}^{2}}{\\sigma \\sigma_{RR}}} + 2 \\sigma \\sigma_{R}^{2} \\sqrt{2 - \\frac{2 \\sigma_{R}^{2}}{\\sigma \\sigma_{RR}}}} + \\frac{\\delta \\delta_{R}^{2}}{2 \\sigma \\sigma_{RR}^{2} \\sqrt{2 - \\frac{2 \\sigma_{R}^{2}}{\\sigma \\sigma_{RR}}} + 2 \\sigma_{R}^{2} \\sigma_{RR} \\sqrt{2 - \\frac{2 \\sigma_{R}^{2}}{\\sigma \\sigma_{RR}}}} + \\frac{\\delta}{\\sigma \\sqrt{2 - \\frac{2 \\sigma_{R}^{2}}{\\sigma \\sigma_{RR}}}} + \\frac{\\delta_{R}^{3}}{2 \\sigma_{RR}^{3} \\sqrt{2 - \\frac{2 \\sigma_{R}^{2}}{\\sigma \\sigma_{RR}}} + \\frac{2 \\sigma_{R}^{2} \\sigma_{RR}^{2} \\sqrt{2 - \\frac{2 \\sigma_{R}^{2}}{\\sigma \\sigma_{RR}}}}{\\sigma}} - \\frac{\\delta_{R}}{\\sigma_{RR} \\sqrt{2 - \\frac{2 \\sigma_{R}^{2}}{\\sigma \\sigma_{RR}}}}$"
      ],
      "text/plain": [
       "-delta**3/(2*sigma**3*sqrt(2 - 2*sigma_R**2/(sigma*sigma_RR)) + 2*sigma**2*sigma_R**2*sqrt(2 - 2*sigma_R**2/(sigma*sigma_RR))/sigma_RR) - delta**2*delta_R/(2*sigma**2*sigma_RR*sqrt(2 - 2*sigma_R**2/(sigma*sigma_RR)) + 2*sigma*sigma_R**2*sqrt(2 - 2*sigma_R**2/(sigma*sigma_RR))) + delta*delta_R**2/(2*sigma*sigma_RR**2*sqrt(2 - 2*sigma_R**2/(sigma*sigma_RR)) + 2*sigma_R**2*sigma_RR*sqrt(2 - 2*sigma_R**2/(sigma*sigma_RR))) + delta/(sigma*sqrt(2 - 2*sigma_R**2/(sigma*sigma_RR))) + delta_R**3/(2*sigma_RR**3*sqrt(2 - 2*sigma_R**2/(sigma*sigma_RR)) + 2*sigma_R**2*sigma_RR**2*sqrt(2 - 2*sigma_R**2/(sigma*sigma_RR))/sigma) - delta_R/(sigma_RR*sqrt(2 - 2*sigma_R**2/(sigma*sigma_RR)))"
      ]
     },
     "execution_count": 19,
     "metadata": {},
     "output_type": "execute_result"
    }
   ],
   "source": [
    "expr3 = hermite_proba(1, x1) * hermite_proba(2, x2)\n",
    "expr3_pretty = expand(expr3)\n",
    "expr3_pretty"
   ]
  },
  {
   "cell_type": "code",
   "execution_count": 20,
   "id": "43d46bb2-837b-46e7-8cfc-ae5dfab28087",
   "metadata": {},
   "outputs": [
    {
     "data": {
      "text/latex": [
       "$\\displaystyle \\frac{\\delta^{3}}{2 \\sigma^{3} \\sqrt{2 + \\frac{2 \\sigma_{R}^{2}}{\\sigma \\sigma_{RR}}} - \\frac{2 \\sigma^{2} \\sigma_{R}^{2} \\sqrt{2 + \\frac{2 \\sigma_{R}^{2}}{\\sigma \\sigma_{RR}}}}{\\sigma_{RR}}} - \\frac{\\delta^{2} \\delta_{R}}{2 \\sigma^{2} \\sigma_{RR} \\sqrt{2 + \\frac{2 \\sigma_{R}^{2}}{\\sigma \\sigma_{RR}}} - 2 \\sigma \\sigma_{R}^{2} \\sqrt{2 + \\frac{2 \\sigma_{R}^{2}}{\\sigma \\sigma_{RR}}}} - \\frac{\\delta \\delta_{R}^{2}}{2 \\sigma \\sigma_{RR}^{2} \\sqrt{2 + \\frac{2 \\sigma_{R}^{2}}{\\sigma \\sigma_{RR}}} - 2 \\sigma_{R}^{2} \\sigma_{RR} \\sqrt{2 + \\frac{2 \\sigma_{R}^{2}}{\\sigma \\sigma_{RR}}}} - \\frac{\\delta}{\\sigma \\sqrt{2 + \\frac{2 \\sigma_{R}^{2}}{\\sigma \\sigma_{RR}}}} + \\frac{\\delta_{R}^{3}}{2 \\sigma_{RR}^{3} \\sqrt{2 + \\frac{2 \\sigma_{R}^{2}}{\\sigma \\sigma_{RR}}} - \\frac{2 \\sigma_{R}^{2} \\sigma_{RR}^{2} \\sqrt{2 + \\frac{2 \\sigma_{R}^{2}}{\\sigma \\sigma_{RR}}}}{\\sigma}} - \\frac{\\delta_{R}}{\\sigma_{RR} \\sqrt{2 + \\frac{2 \\sigma_{R}^{2}}{\\sigma \\sigma_{RR}}}}$"
      ],
      "text/plain": [
       "delta**3/(2*sigma**3*sqrt(2 + 2*sigma_R**2/(sigma*sigma_RR)) - 2*sigma**2*sigma_R**2*sqrt(2 + 2*sigma_R**2/(sigma*sigma_RR))/sigma_RR) - delta**2*delta_R/(2*sigma**2*sigma_RR*sqrt(2 + 2*sigma_R**2/(sigma*sigma_RR)) - 2*sigma*sigma_R**2*sqrt(2 + 2*sigma_R**2/(sigma*sigma_RR))) - delta*delta_R**2/(2*sigma*sigma_RR**2*sqrt(2 + 2*sigma_R**2/(sigma*sigma_RR)) - 2*sigma_R**2*sigma_RR*sqrt(2 + 2*sigma_R**2/(sigma*sigma_RR))) - delta/(sigma*sqrt(2 + 2*sigma_R**2/(sigma*sigma_RR))) + delta_R**3/(2*sigma_RR**3*sqrt(2 + 2*sigma_R**2/(sigma*sigma_RR)) - 2*sigma_R**2*sigma_RR**2*sqrt(2 + 2*sigma_R**2/(sigma*sigma_RR))/sigma) - delta_R/(sigma_RR*sqrt(2 + 2*sigma_R**2/(sigma*sigma_RR)))"
      ]
     },
     "execution_count": 20,
     "metadata": {},
     "output_type": "execute_result"
    }
   ],
   "source": [
    "expr4 = hermite_proba(2, x1) * hermite_proba(1, x2)\n",
    "expr4_pretty = expand(expr4)\n",
    "expr4_pretty"
   ]
  },
  {
   "cell_type": "code",
   "execution_count": 68,
   "id": "00e94590-9a0a-4a83-884e-e0471af92b2d",
   "metadata": {},
   "outputs": [],
   "source": [
    "sigma, sigmaR, sigmaRR, rhoR0 = symbols('sigma sigma_R sigma_RR rho_R^0', real=True, positive=True)\n",
    "x, y, deltaR, delta = symbols('x y delta_R delta', real = True)\n",
    "#i, j, k = symbols('i j k', integer = True, positive = True)\n",
    "p = 3\n",
    "moments = sympify([['X{:d}Y{:d}'.format(i, j) for j in range(p+1)] for i in range(p+1)])"
   ]
  },
  {
   "cell_type": "code",
   "execution_count": 69,
   "id": "f11ffe68-e9ec-40d1-8a29-e55063987f27",
   "metadata": {},
   "outputs": [],
   "source": [
    "gauss_2d = 1 / (2 * pi) * exp(- (x**2 + y**2) / 2)"
   ]
  },
  {
   "cell_type": "code",
   "execution_count": 70,
   "id": "2f49fe70-b5ba-48ef-bc5c-5db58b6388ef",
   "metadata": {},
   "outputs": [],
   "source": [
    "def inner_term(x, y, i, j):\n",
    "    return 1 / (factorial(i) * factorial(j)) * moments[i][j] * hermite_proba(i, x) * hermite_proba(j, y)\n",
    "\n",
    "def inner_sum(x, y, n):\n",
    "    return np.sum(np.array(np.sum(np.array([inner_term(x, y, n-j, j) for j in range(n+1)], dtype=object))))\n",
    "\n",
    "def outter_sum(x, y, p):\n",
    "    return np.sum(np.array([inner_sum(x, y, n) for n in range(3, p+1)], dtype=object))"
   ]
  },
  {
   "cell_type": "code",
   "execution_count": 71,
   "id": "94df9779-09a3-459b-b04c-5b68222a624a",
   "metadata": {},
   "outputs": [],
   "source": [
    "proba_2d = gauss_2d * (1 + outter_sum(x, y, p))"
   ]
  },
  {
   "cell_type": "code",
   "execution_count": 72,
   "id": "f14b6c23-07c6-4d9f-828e-726fa5123057",
   "metadata": {},
   "outputs": [
    {
     "data": {
      "text/latex": [
       "$\\displaystyle \\frac{X0Y3 y^{3} e^{- \\frac{x^{2}}{2}} e^{- \\frac{y^{2}}{2}}}{12 \\pi} - \\frac{X0Y3 y e^{- \\frac{x^{2}}{2}} e^{- \\frac{y^{2}}{2}}}{4 \\pi} + \\frac{X1Y2 x y^{2} e^{- \\frac{x^{2}}{2}} e^{- \\frac{y^{2}}{2}}}{4 \\pi} - \\frac{X1Y2 x e^{- \\frac{x^{2}}{2}} e^{- \\frac{y^{2}}{2}}}{4 \\pi} + \\frac{X2Y1 x^{2} y e^{- \\frac{x^{2}}{2}} e^{- \\frac{y^{2}}{2}}}{4 \\pi} - \\frac{X2Y1 y e^{- \\frac{x^{2}}{2}} e^{- \\frac{y^{2}}{2}}}{4 \\pi} + \\frac{X3Y0 x^{3} e^{- \\frac{x^{2}}{2}} e^{- \\frac{y^{2}}{2}}}{12 \\pi} - \\frac{X3Y0 x e^{- \\frac{x^{2}}{2}} e^{- \\frac{y^{2}}{2}}}{4 \\pi} + \\frac{e^{- \\frac{x^{2}}{2}} e^{- \\frac{y^{2}}{2}}}{2 \\pi}$"
      ],
      "text/plain": [
       "X0Y3*y**3*exp(-x**2/2)*exp(-y**2/2)/(12*pi) - X0Y3*y*exp(-x**2/2)*exp(-y**2/2)/(4*pi) + X1Y2*x*y**2*exp(-x**2/2)*exp(-y**2/2)/(4*pi) - X1Y2*x*exp(-x**2/2)*exp(-y**2/2)/(4*pi) + X2Y1*x**2*y*exp(-x**2/2)*exp(-y**2/2)/(4*pi) - X2Y1*y*exp(-x**2/2)*exp(-y**2/2)/(4*pi) + X3Y0*x**3*exp(-x**2/2)*exp(-y**2/2)/(12*pi) - X3Y0*x*exp(-x**2/2)*exp(-y**2/2)/(4*pi) + exp(-x**2/2)*exp(-y**2/2)/(2*pi)"
      ]
     },
     "execution_count": 72,
     "metadata": {},
     "output_type": "execute_result"
    }
   ],
   "source": [
    "proba_2d_expanded = expand(proba_2d)\n",
    "proba_2d_expanded"
   ]
  },
  {
   "cell_type": "code",
   "execution_count": 73,
   "id": "7c06369b-c8e6-4f40-a6ea-2ee8c982902b",
   "metadata": {},
   "outputs": [],
   "source": [
    "linear_term = 1 + sigma / sqrt(2) * (y * sqrt(1 + rhoR0) - x * sqrt(1 - rhoR0))"
   ]
  },
  {
   "cell_type": "code",
   "execution_count": 74,
   "id": "57b1a2fc-d508-4cf9-a1e1-cd593bec30a6",
   "metadata": {},
   "outputs": [],
   "source": [
    "delta1, delta2 = symbols('delta_1 delta_2', real = True)\n",
    "y_boundary_1 = 1 / sqrt(1 + rhoR0) * (sqrt(2) * delta1 / sigmaRR - sqrt(1 - rhoR0) * x)\n",
    "y_boundary_2 = 1 / sqrt(1 + rhoR0) * (sqrt(2) * delta2 / sigmaRR - sqrt(1 - rhoR0) * x)"
   ]
  },
  {
   "cell_type": "code",
   "execution_count": 75,
   "id": "9a80be38-bf86-433d-a43e-60baaf758187",
   "metadata": {},
   "outputs": [
    {
     "data": {
      "text/latex": [
       "$\\displaystyle - \\frac{\\sqrt{2} X0Y3 \\sigma x y^{3} \\sqrt{1 - \\rho^{0}_{R}} e^{- \\frac{x^{2}}{2}} e^{- \\frac{y^{2}}{2}}}{24 \\pi} + \\frac{\\sqrt{2} X0Y3 \\sigma x y \\sqrt{1 - \\rho^{0}_{R}} e^{- \\frac{x^{2}}{2}} e^{- \\frac{y^{2}}{2}}}{8 \\pi} + \\frac{\\sqrt{2} X0Y3 \\sigma y^{4} \\sqrt{\\rho^{0}_{R} + 1} e^{- \\frac{x^{2}}{2}} e^{- \\frac{y^{2}}{2}}}{24 \\pi} - \\frac{\\sqrt{2} X0Y3 \\sigma y^{2} \\sqrt{\\rho^{0}_{R} + 1} e^{- \\frac{x^{2}}{2}} e^{- \\frac{y^{2}}{2}}}{8 \\pi} + \\frac{X0Y3 y^{3} e^{- \\frac{x^{2}}{2}} e^{- \\frac{y^{2}}{2}}}{12 \\pi} - \\frac{X0Y3 y e^{- \\frac{x^{2}}{2}} e^{- \\frac{y^{2}}{2}}}{4 \\pi}$"
      ],
      "text/plain": [
       "-sqrt(2)*X0Y3*sigma*x*y**3*sqrt(1 - rho_R^0)*exp(-x**2/2)*exp(-y**2/2)/(24*pi) + sqrt(2)*X0Y3*sigma*x*y*sqrt(1 - rho_R^0)*exp(-x**2/2)*exp(-y**2/2)/(8*pi) + sqrt(2)*X0Y3*sigma*y**4*sqrt(rho_R^0 + 1)*exp(-x**2/2)*exp(-y**2/2)/(24*pi) - sqrt(2)*X0Y3*sigma*y**2*sqrt(rho_R^0 + 1)*exp(-x**2/2)*exp(-y**2/2)/(8*pi) + X0Y3*y**3*exp(-x**2/2)*exp(-y**2/2)/(12*pi) - X0Y3*y*exp(-x**2/2)*exp(-y**2/2)/(4*pi)"
      ]
     },
     "execution_count": 75,
     "metadata": {},
     "output_type": "execute_result"
    }
   ],
   "source": [
    "integrand = expand(linear_term * gauss_2d * inner_term(x, y, 0, 3))\n",
    "integrand"
   ]
  },
  {
   "cell_type": "code",
   "execution_count": 77,
   "id": "52e299f7-dad7-4ca5-9d8b-76f1d2c1fe1b",
   "metadata": {},
   "outputs": [
    {
     "data": {
      "text/latex": [
       "$\\displaystyle - \\frac{\\sqrt{2} X0Y3 \\sigma x y^{3} \\sqrt{1 - \\rho^{0}_{R}}}{12} + \\frac{\\sqrt{2} X0Y3 \\sigma x y \\sqrt{1 - \\rho^{0}_{R}}}{4} + \\frac{\\sqrt{2} X0Y3 \\sigma y^{4} \\sqrt{\\rho^{0}_{R} + 1}}{12} - \\frac{\\sqrt{2} X0Y3 \\sigma y^{2} \\sqrt{\\rho^{0}_{R} + 1}}{4} + \\frac{X0Y3 y^{3}}{6} - \\frac{X0Y3 y}{2}$"
      ],
      "text/plain": [
       "-sqrt(2)*X0Y3*sigma*x*y**3*sqrt(1 - rho_R^0)/12 + sqrt(2)*X0Y3*sigma*x*y*sqrt(1 - rho_R^0)/4 + sqrt(2)*X0Y3*sigma*y**4*sqrt(rho_R^0 + 1)/12 - sqrt(2)*X0Y3*sigma*y**2*sqrt(rho_R^0 + 1)/4 + X0Y3*y**3/6 - X0Y3*y/2"
      ]
     },
     "execution_count": 77,
     "metadata": {},
     "output_type": "execute_result"
    }
   ],
   "source": [
    "expand(linear_term * inner_term(x, y, 0, 3))"
   ]
  },
  {
   "cell_type": "code",
   "execution_count": 86,
   "id": "1fcaf442-d3ed-48a8-aa80-de0abd247eda",
   "metadata": {},
   "outputs": [
    {
     "data": {
      "text/latex": [
       "$\\displaystyle \\frac{\\sqrt{2} X0Y3 \\sigma y^{4} \\sqrt{\\rho^{0}_{R} + 1} e^{- \\frac{x^{2}}{2}} e^{- \\frac{y^{2}}{2}}}{24 \\pi} - \\frac{\\sqrt{2} X0Y3 \\sigma y^{2} \\sqrt{\\rho^{0}_{R} + 1} e^{- \\frac{x^{2}}{2}} e^{- \\frac{y^{2}}{2}}}{8 \\pi} + y^{3} \\left(- \\frac{\\sqrt{2} X0Y3 \\sigma x \\sqrt{1 - \\rho^{0}_{R}} e^{- \\frac{x^{2}}{2}} e^{- \\frac{y^{2}}{2}}}{24 \\pi} + \\frac{X0Y3 e^{- \\frac{x^{2}}{2}} e^{- \\frac{y^{2}}{2}}}{12 \\pi}\\right) + y \\left(\\frac{\\sqrt{2} X0Y3 \\sigma x \\sqrt{1 - \\rho^{0}_{R}} e^{- \\frac{x^{2}}{2}} e^{- \\frac{y^{2}}{2}}}{8 \\pi} - \\frac{X0Y3 e^{- \\frac{x^{2}}{2}} e^{- \\frac{y^{2}}{2}}}{4 \\pi}\\right)$"
      ],
      "text/plain": [
       "sqrt(2)*X0Y3*sigma*y**4*sqrt(rho_R^0 + 1)*exp(-x**2/2)*exp(-y**2/2)/(24*pi) - sqrt(2)*X0Y3*sigma*y**2*sqrt(rho_R^0 + 1)*exp(-x**2/2)*exp(-y**2/2)/(8*pi) + y**3*(-sqrt(2)*X0Y3*sigma*x*sqrt(1 - rho_R^0)*exp(-x**2/2)*exp(-y**2/2)/(24*pi) + X0Y3*exp(-x**2/2)*exp(-y**2/2)/(12*pi)) + y*(sqrt(2)*X0Y3*sigma*x*sqrt(1 - rho_R^0)*exp(-x**2/2)*exp(-y**2/2)/(8*pi) - X0Y3*exp(-x**2/2)*exp(-y**2/2)/(4*pi))"
      ]
     },
     "execution_count": 86,
     "metadata": {},
     "output_type": "execute_result"
    }
   ],
   "source": [
    "c = collect(integrand, [y, x])\n",
    "c"
   ]
  },
  {
   "cell_type": "code",
   "execution_count": 90,
   "id": "1755a597-572b-4d62-9209-c3330e6578d8",
   "metadata": {},
   "outputs": [],
   "source": [
    "integral = integrate(y**4 * gauss_2d, (y, y_boundary_1, y_boundary_2))"
   ]
  },
  {
   "cell_type": "code",
   "execution_count": 91,
   "id": "120a1f2f-b622-4072-8588-3190b2df2687",
   "metadata": {},
   "outputs": [
    {
     "data": {
      "text/latex": [
       "$\\displaystyle - \\frac{\\frac{3 \\sqrt{2} \\sqrt{\\pi} e^{- \\frac{x^{2}}{2}} \\operatorname{erf}{\\left(\\frac{\\sqrt{2} \\left(\\frac{\\sqrt{2} \\delta_{1}}{\\sigma_{RR}} - x \\sqrt{1 - \\rho^{0}_{R}}\\right)}{2 \\sqrt{\\rho^{0}_{R} + 1}} \\right)}}{2} - \\frac{3 \\left(\\frac{\\sqrt{2} \\delta_{1}}{\\sigma_{RR}} - x \\sqrt{1 - \\rho^{0}_{R}}\\right) e^{- \\frac{x^{2}}{2}} e^{- \\frac{\\left(\\frac{\\sqrt{2} \\delta_{1}}{\\sigma_{RR}} - x \\sqrt{1 - \\rho^{0}_{R}}\\right)^{2}}{2 \\left(\\rho^{0}_{R} + 1\\right)}}}{\\sqrt{\\rho^{0}_{R} + 1}} - \\frac{\\left(\\frac{\\sqrt{2} \\delta_{1}}{\\sigma_{RR}} - x \\sqrt{1 - \\rho^{0}_{R}}\\right)^{3} e^{- \\frac{x^{2}}{2}} e^{- \\frac{\\left(\\frac{\\sqrt{2} \\delta_{1}}{\\sigma_{RR}} - x \\sqrt{1 - \\rho^{0}_{R}}\\right)^{2}}{2 \\left(\\rho^{0}_{R} + 1\\right)}}}{\\left(\\rho^{0}_{R} + 1\\right)^{\\frac{3}{2}}}}{2 \\pi} + \\frac{\\frac{3 \\sqrt{2} \\sqrt{\\pi} e^{- \\frac{x^{2}}{2}} \\operatorname{erf}{\\left(\\frac{\\sqrt{2} \\left(\\frac{\\sqrt{2} \\delta_{2}}{\\sigma_{RR}} - x \\sqrt{1 - \\rho^{0}_{R}}\\right)}{2 \\sqrt{\\rho^{0}_{R} + 1}} \\right)}}{2} - \\frac{3 \\left(\\frac{\\sqrt{2} \\delta_{2}}{\\sigma_{RR}} - x \\sqrt{1 - \\rho^{0}_{R}}\\right) e^{- \\frac{x^{2}}{2}} e^{- \\frac{\\left(\\frac{\\sqrt{2} \\delta_{2}}{\\sigma_{RR}} - x \\sqrt{1 - \\rho^{0}_{R}}\\right)^{2}}{2 \\left(\\rho^{0}_{R} + 1\\right)}}}{\\sqrt{\\rho^{0}_{R} + 1}} - \\frac{\\left(\\frac{\\sqrt{2} \\delta_{2}}{\\sigma_{RR}} - x \\sqrt{1 - \\rho^{0}_{R}}\\right)^{3} e^{- \\frac{x^{2}}{2}} e^{- \\frac{\\left(\\frac{\\sqrt{2} \\delta_{2}}{\\sigma_{RR}} - x \\sqrt{1 - \\rho^{0}_{R}}\\right)^{2}}{2 \\left(\\rho^{0}_{R} + 1\\right)}}}{\\left(\\rho^{0}_{R} + 1\\right)^{\\frac{3}{2}}}}{2 \\pi}$"
      ],
      "text/plain": [
       "-(3*sqrt(2)*sqrt(pi)*exp(-x**2/2)*erf(sqrt(2)*(sqrt(2)*delta_1/sigma_RR - x*sqrt(1 - rho_R^0))/(2*sqrt(rho_R^0 + 1)))/2 - 3*(sqrt(2)*delta_1/sigma_RR - x*sqrt(1 - rho_R^0))*exp(-x**2/2)*exp(-(sqrt(2)*delta_1/sigma_RR - x*sqrt(1 - rho_R^0))**2/(2*(rho_R^0 + 1)))/sqrt(rho_R^0 + 1) - (sqrt(2)*delta_1/sigma_RR - x*sqrt(1 - rho_R^0))**3*exp(-x**2/2)*exp(-(sqrt(2)*delta_1/sigma_RR - x*sqrt(1 - rho_R^0))**2/(2*(rho_R^0 + 1)))/(rho_R^0 + 1)**(3/2))/(2*pi) + (3*sqrt(2)*sqrt(pi)*exp(-x**2/2)*erf(sqrt(2)*(sqrt(2)*delta_2/sigma_RR - x*sqrt(1 - rho_R^0))/(2*sqrt(rho_R^0 + 1)))/2 - 3*(sqrt(2)*delta_2/sigma_RR - x*sqrt(1 - rho_R^0))*exp(-x**2/2)*exp(-(sqrt(2)*delta_2/sigma_RR - x*sqrt(1 - rho_R^0))**2/(2*(rho_R^0 + 1)))/sqrt(rho_R^0 + 1) - (sqrt(2)*delta_2/sigma_RR - x*sqrt(1 - rho_R^0))**3*exp(-x**2/2)*exp(-(sqrt(2)*delta_2/sigma_RR - x*sqrt(1 - rho_R^0))**2/(2*(rho_R^0 + 1)))/(rho_R^0 + 1)**(3/2))/(2*pi)"
      ]
     },
     "execution_count": 91,
     "metadata": {},
     "output_type": "execute_result"
    }
   ],
   "source": [
    "integral"
   ]
  },
  {
   "cell_type": "code",
   "execution_count": 101,
   "id": "41c24979-1bc7-4da7-9178-f038834484cd",
   "metadata": {},
   "outputs": [],
   "source": [
    "j = symbols('j', integer = True, positive = True)\n",
    "e = y**j * exp(-y**2 / 2)"
   ]
  },
  {
   "cell_type": "code",
   "execution_count": 102,
   "id": "b28304a3-a404-428d-b256-3810c855a7b6",
   "metadata": {},
   "outputs": [],
   "source": [
    "integral = integrate(e, (y, -oo, +oo))"
   ]
  },
  {
   "cell_type": "code",
   "execution_count": 106,
   "id": "3700afcd-1e85-4a4e-ae79-e6447335d9c3",
   "metadata": {},
   "outputs": [
    {
     "data": {
      "text/latex": [
       "$\\displaystyle \\sqrt{2} \\sqrt{\\pi}$"
      ],
      "text/plain": [
       "sqrt(2)*sqrt(pi)"
      ]
     },
     "execution_count": 106,
     "metadata": {},
     "output_type": "execute_result"
    }
   ],
   "source": [
    "integral.subs(j, 0)"
   ]
  },
  {
   "cell_type": "code",
   "execution_count": 107,
   "id": "6705bbca-9c0f-4e41-a553-70a65a9aa47f",
   "metadata": {},
   "outputs": [],
   "source": [
    "def term(i, j, k, a, b):\n",
    "    res = factorial(i)/factorial(k) * hermite_proba(k, a/b) * (-1/b)**(i-k) * 2**((i-k-j)/2) * \\\n",
    "          (a * (1 + (-1)**(i-k-j+1)) * gamma((i-k-j)/2) - (i-k+1)*np.sqrt(2) * (1 + (-1)**(i-k-j+2)) * gamma((i-k-j+1)/2))\n",
    "    return res"
   ]
  },
  {
   "cell_type": "code",
   "execution_count": 113,
   "id": "c8de724e-7be8-424b-afb6-cf4346ce044d",
   "metadata": {},
   "outputs": [
    {
     "data": {
      "text/latex": [
       "$\\displaystyle \\frac{2^{- \\frac{k}{2}} \\cdot 2^{\\frac{i}{2} - \\frac{j}{2} - \\frac{k}{2}} \\left(- \\frac{1}{b}\\right)^{i - k} \\left(a \\left(\\left(-1\\right)^{i - j - k + 1} + 1\\right) \\Gamma\\left(\\frac{i}{2} - \\frac{j}{2} - \\frac{k}{2}\\right) - \\left(\\left(-1\\right)^{i - j - k + 2} + 1\\right) \\left(1.4142135623731 i - 1.4142135623731 k + 1.4142135623731\\right) \\Gamma\\left(\\frac{i}{2} - \\frac{j}{2} - \\frac{k}{2} + \\frac{1}{2}\\right)\\right) i! H_{k}\\left(\\frac{\\sqrt{2} a}{2 b}\\right)}{k!}$"
      ],
      "text/plain": [
       "2**(i/2 - j/2 - k/2)*(-1/b)**(i - k)*(a*((-1)**(i - j - k + 1) + 1)*gamma(i/2 - j/2 - k/2) - ((-1)**(i - j - k + 2) + 1)*(1.4142135623731*i - 1.4142135623731*k + 1.4142135623731)*gamma(i/2 - j/2 - k/2 + 1/2))*factorial(i)*hermite(k, sqrt(2)*a/(2*b))/(2**(k/2)*factorial(k))"
      ]
     },
     "execution_count": 113,
     "metadata": {},
     "output_type": "execute_result"
    }
   ],
   "source": [
    "a, b = symbols('a, b', real = True, positive=True)\n",
    "i, j, k = symbols('i j k', integer = True, positive = True)\n",
    "\n",
    "term(i, j, k, a, b)"
   ]
  },
  {
   "cell_type": "code",
   "execution_count": 114,
   "id": "75e2d5de-94fa-4f0f-a039-202962573d71",
   "metadata": {},
   "outputs": [
    {
     "data": {
      "text/latex": [
       "$\\displaystyle \\frac{2^{- \\frac{k}{2}} \\cdot 2^{\\frac{i}{2} - \\frac{j}{2} - \\frac{k}{2}} \\left(- \\frac{1}{b}\\right)^{i - k} \\left(a \\left(\\left(-1\\right)^{i - j - k + 1} + 1\\right) \\Gamma\\left(\\frac{i}{2} - \\frac{j}{2} - \\frac{k}{2}\\right) - \\left(\\left(-1\\right)^{i - j - k + 2} + 1\\right) \\left(1.4142135623731 i - 1.4142135623731 k + 1.4142135623731\\right) \\Gamma\\left(\\frac{i}{2} - \\frac{j}{2} - \\frac{k}{2} + \\frac{1}{2}\\right)\\right) i! H_{k}\\left(\\frac{\\sqrt{2} a}{2 b}\\right)}{k!}$"
      ],
      "text/plain": [
       "2**(i/2 - j/2 - k/2)*(-1/b)**(i - k)*(a*((-1)**(i - j - k + 1) + 1)*gamma(i/2 - j/2 - k/2) - ((-1)**(i - j - k + 2) + 1)*(1.4142135623731*i - 1.4142135623731*k + 1.4142135623731)*gamma(i/2 - j/2 - k/2 + 1/2))*factorial(i)*hermite(k, sqrt(2)*a/(2*b))/(2**(k/2)*factorial(k))"
      ]
     },
     "execution_count": 114,
     "metadata": {},
     "output_type": "execute_result"
    }
   ],
   "source": [
    "simplify(term(i, j, k, a, b))"
   ]
  },
  {
   "cell_type": "code",
   "execution_count": null,
   "id": "b3e41822-9279-40c5-b535-88a45a4b2716",
   "metadata": {},
   "outputs": [],
   "source": []
  }
 ],
 "metadata": {
  "kernelspec": {
   "display_name": "cosmodesi-main",
   "language": "python",
   "name": "cosmodesi-main"
  },
  "language_info": {
   "codemirror_mode": {
    "name": "ipython",
    "version": 3
   },
   "file_extension": ".py",
   "mimetype": "text/x-python",
   "name": "python",
   "nbconvert_exporter": "python",
   "pygments_lexer": "ipython3",
   "version": "3.9.13"
  }
 },
 "nbformat": 4,
 "nbformat_minor": 5
}
