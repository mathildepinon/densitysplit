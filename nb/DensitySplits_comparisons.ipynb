{
 "cells": [
  {
   "cell_type": "markdown",
   "id": "ca8aa729-d14b-42f8-bea7-38d3ab2ad0ee",
   "metadata": {},
   "source": [
    "# Compute density from catalog and generate density split catalogs"
   ]
  },
  {
   "cell_type": "code",
   "execution_count": 1,
   "id": "d24cf08c-9361-49bd-b862-790e44e09293",
   "metadata": {},
   "outputs": [],
   "source": [
    "import math\n",
    "import numpy as np\n",
    "import scipy\n",
    "from matplotlib import pyplot as plt\n",
    "import matplotlib as mpl\n",
    "\n",
    "plt.rcParams[\"figure.figsize\"] = (10, 8)\n",
    "plt.rcParams.update({'font.size': 14})\n",
    "\n",
    "from abacusnbody.data.compaso_halo_catalog import CompaSOHaloCatalog\n",
    "from cosmoprimo import *\n",
    "from pypower import CatalogMesh, MeshFFTPower, CatalogFFTPower, PowerSpectrumStatistics, utils, setup_logging\n",
    "from pycorr import TwoPointCorrelationFunction, TwoPointEstimator, NaturalTwoPointEstimator, project_to_multipoles, BoxSubsampler, project_to_wp, utils, setup_logging\n",
    "\n",
    "from densitysplit import catalog_data, density_split"
   ]
  },
  {
   "cell_type": "markdown",
   "id": "219a9251-b9e5-4299-8d2c-f857a437be3a",
   "metadata": {
    "tags": []
   },
   "source": [
    "## Data and output directories"
   ]
  },
  {
   "cell_type": "code",
   "execution_count": 2,
   "id": "1e8f83c0-497c-435a-9d02-90ec86330c38",
   "metadata": {
    "tags": []
   },
   "outputs": [],
   "source": [
    "data_dir = '/feynman/work/dphp/mp270220/data/'\n",
    "output_dir = '/feynman/work/dphp/mp270220/outputs/'"
   ]
  },
  {
   "cell_type": "markdown",
   "id": "451c8ec2-7e44-4f48-bcb6-964ea5313a05",
   "metadata": {},
   "source": [
    "## Get data"
   ]
  },
  {
   "cell_type": "code",
   "execution_count": 3,
   "id": "b93aeca5-cd8c-437a-8a92-8c65df315b12",
   "metadata": {},
   "outputs": [],
   "source": [
    "## Abacus\n",
    "\n",
    "#catalog_name = 'AbacusSummit_1Gpc_z1.175'\n",
    "catalog_name = 'AbacusSummit_2Gpc_z1.175'\n",
    "#catalog_name = 'AbacusSummit_2Gpc_z0.800'\n",
    "#catalog_name = 'mock'\n",
    "\n",
    "abacus_catalog = catalog_data.Data.load(data_dir+catalog_name+'.npy')\n",
    "abacus_catalog.shift_boxcenter(-abacus_catalog.offset)"
   ]
  },
  {
   "cell_type": "code",
   "execution_count": 4,
   "id": "6541c74c-62c0-48a2-80b4-692a59d0b56d",
   "metadata": {},
   "outputs": [],
   "source": [
    "## Log-normal mocks\n",
    "lognormal_mock = catalog_data.Data.load(output_dir+'mocks_rsd/AbacusSummit_1Gpc_z1.175_mock0.npy')\n",
    "lognormal_mock.shift_boxcenter(-lognormal_mock.offset)"
   ]
  },
  {
   "cell_type": "markdown",
   "id": "b6fe3022-e807-4983-9cd3-606cfe3deec5",
   "metadata": {},
   "source": [
    "## Apply RSD"
   ]
  },
  {
   "cell_type": "code",
   "execution_count": 5,
   "id": "3cb6d0ad-e6d4-48c4-9aeb-0132ee7569ec",
   "metadata": {},
   "outputs": [],
   "source": [
    "# Abacus summit base cosmology\n",
    "cosmo_abacus = fiducial.AbacusSummitBase()\n",
    "bg = cosmo_abacus.get_background()\n",
    "hz = 100*bg.efunc(abacus_catalog.redshift)\n",
    "\n",
    "abacus_catalog.set_rsd(hz=hz)"
   ]
  },
  {
   "cell_type": "markdown",
   "id": "08a5878f-a37f-49e2-bcd3-e324e5c290a0",
   "metadata": {
    "tags": []
   },
   "source": [
    "## Compute density"
   ]
  },
  {
   "cell_type": "code",
   "execution_count": 9,
   "id": "e6fc2a60-1866-4bcb-b504-e0e3f9dbcaad",
   "metadata": {},
   "outputs": [],
   "source": [
    "cellsize = 10\n",
    "resampler = 'tsc'\n",
    "\n",
    "# Compute density without weights\n",
    "abacus_catalog_density = density_split.DensitySplit(abacus_catalog)\n",
    "abacus_catalog_density.compute_density(cellsize=cellsize, resampler=resampler, use_rsd=False, use_weights=False)\n",
    "\n",
    "# Compute density without weights\n",
    "lognormal_mock_density = density_split.DensitySplit(lognormal_mock)\n",
    "lognormal_mock_density.compute_density(cellsize=cellsize, resampler=resampler, use_rsd=False, use_weights=False)"
   ]
  },
  {
   "cell_type": "markdown",
   "id": "2a0766d1-74cf-4e59-8b39-81cd511dfdbe",
   "metadata": {},
   "source": [
    "### Plot density distribution"
   ]
  },
  {
   "cell_type": "code",
   "execution_count": 11,
   "id": "6a74d955-5b8f-4654-8e2e-e7e2df6cb537",
   "metadata": {},
   "outputs": [
    {
     "data": {
      "image/png": "[encoded data removed]",
      "text/plain": [
       "<Figure size 720x576 with 1 Axes>"
      ]
     },
     "metadata": {
      "needs_background": "light"
     },
     "output_type": "display_data"
    }
   ],
   "source": [
    "plt.hist(abacus_catalog_density.data_densities, range=(-1, 4), bins=60, density=True, alpha=0.5, label='Abacus')\n",
    "plt.hist(lognormal_mock_density.data_densities, range=(-1, 4), bins=60, density=True, alpha=0.5, label='Log-normal mock')\n",
    "plt.xlabel(\"$\\delta$\")\n",
    "plt.ylabel(\"Normalized counts\")\n",
    "plt.legend()\n",
    "plt.show()"
   ]
  }
 ],
 "metadata": {
  "kernelspec": {
   "display_name": "cosmodesi-1.0.0",
   "language": "python",
   "name": "cosmodesi-1.0.0"
  },
  "language_info": {
   "codemirror_mode": {
    "name": "ipython",
    "version": 3
   },
   "file_extension": ".py",
   "mimetype": "text/x-python",
   "name": "python",
   "nbconvert_exporter": "python",
   "pygments_lexer": "ipython3",
   "version": "3.9.13"
  }
 },
 "nbformat": 4,
 "nbformat_minor": 5
}
