{
 "cells": [
  {
   "cell_type": "markdown",
   "id": "abf3a4e5-ecdd-4c35-8efe-899d80cf3d01",
   "metadata": {},
   "source": [
    "# Generate cross-correlation function between 2 given catalogs"
   ]
  },
  {
   "cell_type": "code",
   "execution_count": 1,
   "id": "6378aa43-e3a4-41a2-a3e1-aea278b2e83f",
   "metadata": {},
   "outputs": [],
   "source": [
    "import os\n",
    "import tempfile\n",
    "import time\n",
    "import copy\n",
    "\n",
    "import numpy as np\n",
    "import scipy\n",
    "from matplotlib import pyplot as plt\n",
    "plt.rcParams[\"figure.figsize\"] = (10, 8)\n",
    "\n",
    "from pypower import CatalogMesh, MeshFFTPower, CatalogFFTPower, PowerSpectrumStatistics, utils, setup_logging\n",
    "from pycorr import TwoPointCorrelationFunction, TwoPointEstimator, NaturalTwoPointEstimator, project_to_multipoles, BoxSubsampler, project_to_wp, utils, setup_logging\n",
    "from abacusnbody.data.compaso_halo_catalog import CompaSOHaloCatalog\n",
    "from cosmoprimo import *\n",
    "\n",
    "# To activate logging\n",
    "setup_logging()"
   ]
  },
  {
   "cell_type": "markdown",
   "id": "306e9af4-2563-4e9c-8054-e223b0826286",
   "metadata": {},
   "source": [
    "### Output directory"
   ]
  },
  {
   "cell_type": "code",
   "execution_count": 2,
   "id": "9e72ea8c-8e32-4aa2-9895-31101dac4c59",
   "metadata": {},
   "outputs": [],
   "source": [
    "output_dir = '/feynman/work/dphp/mp270220/outputs/'"
   ]
  },
  {
   "cell_type": "markdown",
   "id": "42bce739-4603-4942-9954-1933d4bb54ee",
   "metadata": {},
   "source": [
    "### Get halo catalog"
   ]
  },
  {
   "cell_type": "code",
   "execution_count": 3,
   "id": "2d7e0f33-32a1-491e-bd08-190327af97c7",
   "metadata": {},
   "outputs": [],
   "source": [
    "# 1 Gpc/h\n",
    "path_to_sim_1 = '/feynman/scratch/dphp/ar264273/Abacus/AbacusSummit_highbase_c000_ph100/halos/z1.175'\n",
    "\n",
    "# 2 Gpc/h\n",
    "path_to_sim_2_z1 = '/feynman/scratch/dphp/ar264273/Abacus/AbacusSummit_base_c000_ph000/halos/z1.175'\n",
    "path_to_sim_2_z2 = '/feynman/scratch/dphp/ar264273/Abacus/AbacusSummit_base_c000_ph000/halos/z0.800'\n",
    "\n",
    "path_to_sim = [path_to_sim_1,\n",
    "               path_to_sim_2_z1,\n",
    "               path_to_sim_2_z2]\n",
    "\n",
    "catalog_names = ['AbacusSummit_highbase_c000_ph100_z1.175',\n",
    "                 'AbacusSummit_base_c000_ph000_z1.175',\n",
    "                 'AbacusSummit_base_c000_ph000_z0.800']\n",
    "\n",
    "sim_z = [1.175, 1.175, 0.800]\n",
    "sim_boxsizes = [1000, 2000, 2000]\n",
    "\n",
    "# Simulation to use\n",
    "sim_index = 0\n",
    "\n",
    "# Whether to apply RSD or not\n",
    "RSD = False\n",
    "RSD_string = ''\n",
    "if RSD:\n",
    "    RSD_string = '_wRSD'"
   ]
  },
  {
   "cell_type": "code",
   "execution_count": 4,
   "id": "c00c1762-0e2b-488e-93ed-98fc4660099e",
   "metadata": {},
   "outputs": [],
   "source": [
    "boxsize = sim_boxsizes[sim_index]\n",
    "z = sim_z[sim_index]"
   ]
  },
  {
   "cell_type": "code",
   "execution_count": 5,
   "id": "53150b73-849b-4c0d-b34a-0ecaebeba6f8",
   "metadata": {},
   "outputs": [],
   "source": [
    "# density split names\n",
    "subset_names = ['D1', 'D2']\n",
    "split_catalogs_positions = list()\n",
    "\n",
    "for i in range(len(subset_names)):\n",
    "    split_catalogs_positions.append(np.load(output_dir+catalog_names[sim_index]+RSD_string+subset_names[i]+'_positions.npy'))"
   ]
  },
  {
   "cell_type": "code",
   "execution_count": 6,
   "id": "293dfa9e-48e8-4222-994c-6ddebcc47ff1",
   "metadata": {},
   "outputs": [],
   "source": [
    "catalog_positions = np.load(output_dir+catalog_names[sim_index]+RSD_string+'_positions.npy')\n",
    "data_size = np.shape(catalog_positions)[1]"
   ]
  },
  {
   "cell_type": "markdown",
   "id": "e926f1e2-fece-498d-9e6e-60a8d5c88865",
   "metadata": {
    "tags": []
   },
   "source": [
    "### Generate random catalogs"
   ]
  },
  {
   "cell_type": "code",
   "execution_count": 7,
   "id": "b69f936c-0752-4414-9d42-a3e20f8e0da0",
   "metadata": {},
   "outputs": [],
   "source": [
    "# Generate random catalogs to compare catalog with when computing correlation function\n",
    "def generate_catalogs(size=10000, boxsize=(boxsize,)*3, offset=(boxsize,0.,0.), seed=42):\n",
    "    rng = np.random.RandomState(seed=seed)\n",
    "    positions = [o + rng.uniform(0., 1., size)*b for o, b in zip(offset, boxsize)]\n",
    "    return positions\n",
    "\n",
    "split_randoms_positions = list()\n",
    "\n",
    "for i in range(len(subset_names)):\n",
    "    split_randoms_positions.append(generate_catalogs(size=6*data_size, boxsize=(boxsize,)*3, offset=(-boxsize/2.,-boxsize/2.,-boxsize/2.)))\n",
    "    \n",
    "catalog_randoms_positions = generate_catalogs(size=6*data_size, boxsize=(boxsize,)*3, offset=(-boxsize/2.,-boxsize/2.,-boxsize/2.))"
   ]
  },
  {
   "cell_type": "markdown",
   "id": "5a293d27-6757-48a9-8a3a-eff19f63a024",
   "metadata": {},
   "source": [
    "### Split in subsamples for jackknife variance estimation"
   ]
  },
  {
   "cell_type": "code",
   "execution_count": 10,
   "id": "45dee4f1-f4f3-4aa3-ae50-e616ee3f6b54",
   "metadata": {},
   "outputs": [],
   "source": [
    "subsamplers = list()\n",
    "labels = list()\n",
    "split_samples = list()\n",
    "catalog_samples = list()\n",
    "split_randoms_samples = list()\n",
    "catalog_randoms_samples = list()\n",
    "\n",
    "for i in range(len(subset_names)):\n",
    "    subsampler = BoxSubsampler(positions=split_catalogs_positions[i], boxsize=np.full(3, boxsize), boxcenter=np.full(3, 0), nsamples=1e3)\n",
    "    subsamplers.append(subsampler)\n",
    "    labels.append(subsampler.label(positions=split_catalogs_positions[i]))\n",
    "    split_samples.append(subsampler.label(split_catalogs_positions[i]))\n",
    "    split_randoms_samples.append(subsampler.label(split_randoms_positions[i]))\n",
    "    \n",
    "subsampler = BoxSubsampler(positions=catalog_positions, boxsize=np.full(3, boxsize), boxcenter=np.full(3, 0), nsamples=1e3)\n",
    "subsamplers.append(subsampler)\n",
    "labels.append(subsampler.label(positions=catalog_positions))\n",
    "catalog_samples.append(subsampler.label(catalog_positions))\n",
    "catalog_randoms_samples.append(subsampler.label(catalog_randoms_positions))"
   ]
  },
  {
   "cell_type": "markdown",
   "id": "3dea240d-fadd-4a97-8bca-b0e0cdbc8d0f",
   "metadata": {
    "tags": []
   },
   "source": [
    "## Compute s-mu two point correlation function"
   ]
  },
  {
   "cell_type": "markdown",
   "id": "7ec29fac-5ba0-47f5-b8fb-d1128633d53d",
   "metadata": {},
   "source": [
    "### Correlation function of each density split"
   ]
  },
  {
   "cell_type": "code",
   "execution_count": 11,
   "id": "1973719d-9c81-43a5-b5af-d928613d61cd",
   "metadata": {},
   "outputs": [
    {
     "name": "stdout",
     "output_type": "stream",
     "text": [
      "[000031.21]  04-13 17:07  TwoPointCorrelationFunction  INFO     Using estimator <class 'pycorr.twopoint_jackknife.JackknifeLandySzalayTwoPointEstimator'>.\n",
      "[000031.21]  04-13 17:07  TwoPointCorrelationFunction  INFO     Computing two-point counts D1D2.\n"
     ]
    },
    {
     "ename": "IndexError",
     "evalue": "too many indices for array: array is 1-dimensional, but 2 were indexed",
     "output_type": "error",
     "traceback": [
      "\u001b[0;31m---------------------------------------------------------------------------\u001b[0m",
      "\u001b[0;31mIndexError\u001b[0m                                Traceback (most recent call last)",
      "Input \u001b[0;32mIn [11]\u001b[0m, in \u001b[0;36m<cell line: 5>\u001b[0;34m()\u001b[0m\n\u001b[1;32m      3\u001b[0m results \u001b[38;5;241m=\u001b[39m \u001b[38;5;28mlist\u001b[39m()\n\u001b[1;32m      5\u001b[0m \u001b[38;5;28;01mfor\u001b[39;00m i \u001b[38;5;129;01min\u001b[39;00m \u001b[38;5;28mrange\u001b[39m(\u001b[38;5;28mlen\u001b[39m(subset_names)):\n\u001b[0;32m----> 6\u001b[0m     result \u001b[38;5;241m=\u001b[39m \u001b[43mTwoPointCorrelationFunction\u001b[49m\u001b[43m(\u001b[49m\u001b[38;5;124;43m'\u001b[39;49m\u001b[38;5;124;43msmu\u001b[39;49m\u001b[38;5;124;43m'\u001b[39;49m\u001b[43m,\u001b[49m\u001b[43m \u001b[49m\u001b[43medges\u001b[49m\u001b[43m,\u001b[49m\u001b[43m \u001b[49m\n\u001b[1;32m      7\u001b[0m \u001b[43m                                         \u001b[49m\u001b[43mdata_positions1\u001b[49m\u001b[38;5;241;43m=\u001b[39;49m\u001b[43msplit_catalogs_positions\u001b[49m\u001b[43m[\u001b[49m\u001b[43mi\u001b[49m\u001b[43m]\u001b[49m\u001b[43m,\u001b[49m\u001b[43m \u001b[49m\u001b[43mrandoms_positions1\u001b[49m\u001b[38;5;241;43m=\u001b[39;49m\u001b[43msplit_randoms_positions\u001b[49m\u001b[43m[\u001b[49m\u001b[43mi\u001b[49m\u001b[43m]\u001b[49m\u001b[43m,\u001b[49m\n\u001b[1;32m      8\u001b[0m \u001b[43m                                         \u001b[49m\u001b[43mdata_samples1\u001b[49m\u001b[38;5;241;43m=\u001b[39;49m\u001b[43msplit_samples\u001b[49m\u001b[43m[\u001b[49m\u001b[43mi\u001b[49m\u001b[43m]\u001b[49m\u001b[43m,\u001b[49m\u001b[43m \u001b[49m\u001b[43mrandoms_samples1\u001b[49m\u001b[38;5;241;43m=\u001b[39;49m\u001b[43msplit_randoms_samples\u001b[49m\u001b[43m[\u001b[49m\u001b[43mi\u001b[49m\u001b[43m]\u001b[49m\u001b[43m,\u001b[49m\n\u001b[1;32m      9\u001b[0m \u001b[43m                                         \u001b[49m\u001b[43mdata_positions2\u001b[49m\u001b[38;5;241;43m=\u001b[39;49m\u001b[43mcatalog_positions\u001b[49m\u001b[43m,\u001b[49m\u001b[43m \u001b[49m\u001b[43mrandoms_positions2\u001b[49m\u001b[38;5;241;43m=\u001b[39;49m\u001b[43mcatalog_randoms_positions\u001b[49m\u001b[43m,\u001b[49m\n\u001b[1;32m     10\u001b[0m \u001b[43m                                         \u001b[49m\u001b[43mdata_samples2\u001b[49m\u001b[38;5;241;43m=\u001b[39;49m\u001b[43mcatalog_samples\u001b[49m\u001b[43m,\u001b[49m\u001b[43m \u001b[49m\u001b[43mrandoms_samples2\u001b[49m\u001b[38;5;241;43m=\u001b[39;49m\u001b[43mcatalog_randoms_samples\u001b[49m\u001b[43m,\u001b[49m\n\u001b[1;32m     11\u001b[0m \u001b[43m                                         \u001b[49m\u001b[43mengine\u001b[49m\u001b[38;5;241;43m=\u001b[39;49m\u001b[38;5;124;43m'\u001b[39;49m\u001b[38;5;124;43mcorrfunc\u001b[39;49m\u001b[38;5;124;43m'\u001b[39;49m\u001b[43m,\u001b[49m\u001b[43m \u001b[49m\u001b[43mnthreads\u001b[49m\u001b[38;5;241;43m=\u001b[39;49m\u001b[38;5;241;43m128\u001b[39;49m\u001b[43m,\u001b[49m\n\u001b[1;32m     12\u001b[0m \u001b[43m                                         \u001b[49m\u001b[43mlos\u001b[49m\u001b[43m \u001b[49m\u001b[38;5;241;43m=\u001b[39;49m\u001b[43m \u001b[49m\u001b[38;5;124;43m'\u001b[39;49m\u001b[38;5;124;43mx\u001b[39;49m\u001b[38;5;124;43m'\u001b[39;49m\u001b[43m)\u001b[49m\n\u001b[1;32m     13\u001b[0m     results\u001b[38;5;241m.\u001b[39mappend(result)\n\u001b[1;32m     15\u001b[0m     \u001b[38;5;66;03m# save result\u001b[39;00m\n",
      "File \u001b[0;32m/feynman/work/dphp/adematti/cosmodesiconda/20220331-1.0.0/code/pycorr/1.0.0/lib/python3.9/site-packages/pycorr/correlation_function.py:318\u001b[0m, in \u001b[0;36mTwoPointCorrelationFunction\u001b[0;34m(mode, edges, data_positions1, data_positions2, randoms_positions1, randoms_positions2, shifted_positions1, shifted_positions2, data_weights1, data_weights2, randoms_weights1, randoms_weights2, shifted_weights1, shifted_weights2, data_samples1, data_samples2, randoms_samples1, randoms_samples2, shifted_samples1, shifted_samples2, D1D2_weight_type, D1R2_weight_type, R1D2_weight_type, R1R2_weight_type, S1S2_weight_type, D1S2_weight_type, S1D2_weight_type, D1D2_twopoint_weights, D1R2_twopoint_weights, R1D2_twopoint_weights, R1R2_twopoint_weights, S1S2_twopoint_weights, D1S2_twopoint_weights, S1D2_twopoint_weights, estimator, boxsize, mpicomm, mpiroot, **kwargs)\u001b[0m\n\u001b[1;32m    315\u001b[0m             \u001b[38;5;28;01mfor\u001b[39;00m name \u001b[38;5;129;01min\u001b[39;00m [\u001b[38;5;124m'\u001b[39m\u001b[38;5;124mtwopoint_weights\u001b[39m\u001b[38;5;124m'\u001b[39m, \u001b[38;5;124m'\u001b[39m\u001b[38;5;124mweight_type\u001b[39m\u001b[38;5;124m'\u001b[39m]:\n\u001b[1;32m    316\u001b[0m                 \u001b[38;5;28;01mif\u001b[39;00m twopoint_weights_kwargs[name] \u001b[38;5;129;01mis\u001b[39;00m \u001b[38;5;28;01mNone\u001b[39;00m: twopoint_weights_kwargs[name] \u001b[38;5;241m=\u001b[39m \u001b[38;5;28mlocals\u001b[39m()[name][label21]\n\u001b[0;32m--> 318\u001b[0m         counts[label12] \u001b[38;5;241m=\u001b[39m \u001b[43mCounter\u001b[49m\u001b[43m(\u001b[49m\u001b[43mmode\u001b[49m\u001b[43m,\u001b[49m\u001b[43m \u001b[49m\u001b[43medges\u001b[49m\u001b[43m,\u001b[49m\u001b[43m \u001b[49m\u001b[43mpositions\u001b[49m\u001b[43m[\u001b[49m\u001b[43mlabel1\u001b[49m\u001b[43m]\u001b[49m\u001b[43m,\u001b[49m\u001b[43m \u001b[49m\u001b[43mpositions2\u001b[49m\u001b[38;5;241;43m=\u001b[39;49m\u001b[43mpositions\u001b[49m\u001b[43m[\u001b[49m\u001b[43mlabel2\u001b[49m\u001b[43m]\u001b[49m\u001b[43m,\u001b[49m\n\u001b[1;32m    319\u001b[0m \u001b[43m                                  \u001b[49m\u001b[43mweights1\u001b[49m\u001b[38;5;241;43m=\u001b[39;49m\u001b[43mweights\u001b[49m\u001b[43m[\u001b[49m\u001b[43mlabel1\u001b[49m\u001b[43m]\u001b[49m\u001b[43m,\u001b[49m\u001b[43m \u001b[49m\u001b[43mweights2\u001b[49m\u001b[38;5;241;43m=\u001b[39;49m\u001b[43mweights\u001b[49m\u001b[43m[\u001b[49m\u001b[43mlabel2\u001b[49m\u001b[43m]\u001b[49m\u001b[43m,\u001b[49m\n\u001b[1;32m    320\u001b[0m \u001b[43m                                  \u001b[49m\u001b[43mboxsize\u001b[49m\u001b[38;5;241;43m=\u001b[39;49m\u001b[43mboxsize\u001b[49m\u001b[43m,\u001b[49m\u001b[43m \u001b[49m\u001b[43mmpicomm\u001b[49m\u001b[38;5;241;43m=\u001b[39;49m\u001b[43mmpicomm\u001b[49m\u001b[43m,\u001b[49m\u001b[43m \u001b[49m\u001b[43mmpiroot\u001b[49m\u001b[38;5;241;43m=\u001b[39;49m\u001b[43mmpiroot\u001b[49m\u001b[43m,\u001b[49m\u001b[43m \u001b[49m\u001b[38;5;241;43m*\u001b[39;49m\u001b[38;5;241;43m*\u001b[39;49m\u001b[43mjackknife_kwargs\u001b[49m\u001b[43m,\u001b[49m\u001b[43m \u001b[49m\u001b[38;5;241;43m*\u001b[39;49m\u001b[38;5;241;43m*\u001b[39;49m\u001b[43mtwopoint_weights_kwargs\u001b[49m\u001b[43m,\u001b[49m\u001b[43m \u001b[49m\u001b[38;5;241;43m*\u001b[39;49m\u001b[38;5;241;43m*\u001b[39;49m\u001b[43mkwargs\u001b[49m\u001b[43m)\u001b[49m\n\u001b[1;32m    321\u001b[0m \u001b[38;5;28;01mreturn\u001b[39;00m Estimator(\u001b[38;5;241m*\u001b[39m\u001b[38;5;241m*\u001b[39mcounts)\n",
      "File \u001b[0;32m/feynman/work/dphp/adematti/cosmodesiconda/20220331-1.0.0/code/pycorr/1.0.0/lib/python3.9/site-packages/pycorr/twopoint_jackknife.py:481\u001b[0m, in \u001b[0;36mJackknifeTwoPointCounter.__init__\u001b[0;34m(self, mode, edges, positions1, samples1, weights1, positions2, samples2, weights2, bin_type, position_type, weight_type, weight_attrs, twopoint_weights, los, boxsize, compute_sepsavg, dtype, nthreads, mpicomm, mpiroot, nprocs_per_real, samples, **kwargs)\u001b[0m\n\u001b[1;32m    479\u001b[0m \u001b[38;5;28mself\u001b[39m\u001b[38;5;241m.\u001b[39m_set_zeros()\n\u001b[1;32m    480\u001b[0m \u001b[38;5;28mself\u001b[39m\u001b[38;5;241m.\u001b[39mauto, \u001b[38;5;28mself\u001b[39m\u001b[38;5;241m.\u001b[39mcross12, \u001b[38;5;28mself\u001b[39m\u001b[38;5;241m.\u001b[39mcross21 \u001b[38;5;241m=\u001b[39m {}, {}, {}\n\u001b[0;32m--> 481\u001b[0m \u001b[38;5;28;43mself\u001b[39;49m\u001b[38;5;241;43m.\u001b[39;49m\u001b[43mrun\u001b[49m\u001b[43m(\u001b[49m\u001b[43msamples\u001b[49m\u001b[38;5;241;43m=\u001b[39;49m\u001b[43msamples\u001b[49m\u001b[43m)\u001b[49m\n\u001b[1;32m    482\u001b[0m \u001b[38;5;28;01mdel\u001b[39;00m \u001b[38;5;28mself\u001b[39m\u001b[38;5;241m.\u001b[39mpositions1, \u001b[38;5;28mself\u001b[39m\u001b[38;5;241m.\u001b[39mpositions2, \u001b[38;5;28mself\u001b[39m\u001b[38;5;241m.\u001b[39mweights1, \u001b[38;5;28mself\u001b[39m\u001b[38;5;241m.\u001b[39mweights2, \u001b[38;5;28mself\u001b[39m\u001b[38;5;241m.\u001b[39msamples1, \u001b[38;5;28mself\u001b[39m\u001b[38;5;241m.\u001b[39msamples2\n",
      "File \u001b[0;32m/feynman/work/dphp/adematti/cosmodesiconda/20220331-1.0.0/code/pycorr/1.0.0/lib/python3.9/site-packages/pycorr/twopoint_jackknife.py:572\u001b[0m, in \u001b[0;36mJackknifeTwoPointCounter.run\u001b[0;34m(self, samples)\u001b[0m\n\u001b[1;32m    570\u001b[0m     mask2 \u001b[38;5;241m=\u001b[39m samples2 \u001b[38;5;241m==\u001b[39m ii\n\u001b[1;32m    571\u001b[0m     \u001b[38;5;28;01mif\u001b[39;00m is_root:\n\u001b[0;32m--> 572\u001b[0m         spositions2 \u001b[38;5;241m=\u001b[39m [position[mask2] \u001b[38;5;28;01mfor\u001b[39;00m position \u001b[38;5;129;01min\u001b[39;00m positions2]\n\u001b[1;32m    573\u001b[0m         sweights2 \u001b[38;5;241m=\u001b[39m [weight[mask2] \u001b[38;5;28;01mfor\u001b[39;00m weight \u001b[38;5;129;01min\u001b[39;00m weights2]\n\u001b[1;32m    574\u001b[0m mpiroot \u001b[38;5;241m=\u001b[39m \u001b[38;5;241m0\u001b[39m \u001b[38;5;28;01mif\u001b[39;00m \u001b[38;5;28mself\u001b[39m\u001b[38;5;241m.\u001b[39mwith_mpi \u001b[38;5;28;01melse\u001b[39;00m \u001b[38;5;28;01mNone\u001b[39;00m\n",
      "File \u001b[0;32m/feynman/work/dphp/adematti/cosmodesiconda/20220331-1.0.0/code/pycorr/1.0.0/lib/python3.9/site-packages/pycorr/twopoint_jackknife.py:572\u001b[0m, in \u001b[0;36m<listcomp>\u001b[0;34m(.0)\u001b[0m\n\u001b[1;32m    570\u001b[0m     mask2 \u001b[38;5;241m=\u001b[39m samples2 \u001b[38;5;241m==\u001b[39m ii\n\u001b[1;32m    571\u001b[0m     \u001b[38;5;28;01mif\u001b[39;00m is_root:\n\u001b[0;32m--> 572\u001b[0m         spositions2 \u001b[38;5;241m=\u001b[39m [\u001b[43mposition\u001b[49m\u001b[43m[\u001b[49m\u001b[43mmask2\u001b[49m\u001b[43m]\u001b[49m \u001b[38;5;28;01mfor\u001b[39;00m position \u001b[38;5;129;01min\u001b[39;00m positions2]\n\u001b[1;32m    573\u001b[0m         sweights2 \u001b[38;5;241m=\u001b[39m [weight[mask2] \u001b[38;5;28;01mfor\u001b[39;00m weight \u001b[38;5;129;01min\u001b[39;00m weights2]\n\u001b[1;32m    574\u001b[0m mpiroot \u001b[38;5;241m=\u001b[39m \u001b[38;5;241m0\u001b[39m \u001b[38;5;28;01mif\u001b[39;00m \u001b[38;5;28mself\u001b[39m\u001b[38;5;241m.\u001b[39mwith_mpi \u001b[38;5;28;01melse\u001b[39;00m \u001b[38;5;28;01mNone\u001b[39;00m\n",
      "\u001b[0;31mIndexError\u001b[0m: too many indices for array: array is 1-dimensional, but 2 were indexed"
     ]
    }
   ],
   "source": [
    "edges = (np.linspace(0., 150., 51), np.linspace(-1, 1, 201))\n",
    "\n",
    "results = list()\n",
    "\n",
    "for i in range(len(subset_names)):\n",
    "    result = TwoPointCorrelationFunction('smu', edges, \n",
    "                                         data_positions1=split_catalogs_positions[i], randoms_positions1=split_randoms_positions[i],\n",
    "                                         data_samples1=split_samples[i], randoms_samples1=split_randoms_samples[i],\n",
    "                                         data_positions2=catalog_positions, randoms_positions2=catalog_randoms_positions,\n",
    "                                         data_samples2=catalog_samples, randoms_samples2=catalog_randoms_samples,\n",
    "                                         engine='corrfunc', nthreads=128,\n",
    "                                         los = 'x')\n",
    "    results.append(result)\n",
    "\n",
    "    # save result\n",
    "    result.save(output_dir+catalog_names[sim_index]+RSD_string+'_randomx6_CCF_galaxySplit_galaxy'+subset_names[i])"
   ]
  },
  {
   "cell_type": "code",
   "execution_count": null,
   "id": "d907ce52-dfaf-4dc2-aa87-2045b3b8f92a",
   "metadata": {},
   "outputs": [],
   "source": []
  }
 ],
 "metadata": {
  "kernelspec": {
   "display_name": "cosmodesi-1.0.0",
   "language": "python",
   "name": "cosmodesi-1.0.0"
  },
  "language_info": {
   "codemirror_mode": {
    "name": "ipython",
    "version": 3
   },
   "file_extension": ".py",
   "mimetype": "text/x-python",
   "name": "python",
   "nbconvert_exporter": "python",
   "pygments_lexer": "ipython3",
   "version": "3.9.10"
  }
 },
 "nbformat": 4,
 "nbformat_minor": 5
}
