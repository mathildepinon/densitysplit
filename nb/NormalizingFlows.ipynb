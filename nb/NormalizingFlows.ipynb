{
 "cells": [
  {
   "cell_type": "code",
   "execution_count": 14,
   "id": "cc8acba1-90b0-4255-9b61-e6d8b51271d0",
   "metadata": {},
   "outputs": [],
   "source": [
    "import os\n",
    "import numpy as np\n",
    "import matplotlib.pyplot as plt\n",
    "\n",
    "from densitysplit import DensitySplit\n",
    "from densitysplit.lognormal_model import LognormalDensityModel\n",
    "from CombineHarvesterFlow import Harvest\n",
    "\n",
    "import getdist.plots as gdplt\n",
    "from getdist import MCSamples\n",
    "\n",
    "%matplotlib inline\n",
    "plots_dir = '/feynman/home/dphp/mp270220/plots/density'"
   ]
  },
  {
   "cell_type": "markdown",
   "id": "b4e80542-a641-40c2-b010-8ff135ba34d8",
   "metadata": {},
   "source": [
    "## Load density sample"
   ]
  },
  {
   "cell_type": "code",
   "execution_count": 2,
   "id": "7742282f-e53d-4047-b62e-ea4a0fe0e4aa",
   "metadata": {},
   "outputs": [],
   "source": [
    "# Mock parameters\n",
    "z = 0.8\n",
    "nbar = 0.0034\n",
    "nmocks = 25\n",
    "rsd = False\n",
    "tracer = 'particles'\n",
    "\n",
    "# Density smoothing parameters\n",
    "cellsize = 10\n",
    "cellsize2 = 10\n",
    "resampler = 'tsc'\n",
    "\n",
    "ds_dir = '/feynman/work/dphp/mp270220/outputs/densitysplit/'\n",
    "\n",
    "if tracer == 'particles':\n",
    "    simname = 'AbacusSummit_2Gpc_z{:.3f}_ph0{{:02d}}_downsampled_particles_nbar{:.4f}'.format(z, nbar)\n",
    "elif tracer == 'halos':\n",
    "    simname = 'AbacusSummit_2Gpc_z{:.3f}_ph0{{:02d}}'.format(z)\n",
    "cs2 = '_cellsize{:d}'.format(cellsize2) if cellsize2 is not None else ''\n",
    "ds_fn = simname+'_cellsize{:d}{}_resampler{}_3splits_randoms_size4_RH_CCF{}'.format(cellsize, cs2, resampler, '_RSD' if rsd else '')\n",
    "dsplit = DensitySplit.load(os.path.join(ds_dir, ds_fn.format(0)+'.npy'))\n",
    "\n",
    "r1 = 10\n",
    "r2 = 10\n",
    "sep = 50\n",
    "mu = 1 if rsd else None\n",
    "size = 10000\n",
    "\n",
    "deltaR1, deltaR2 = dsplit.compute_jointpdf_delta_R1_R2(s=sep, query_positions='mesh', sample_size=size, mu=mu)\n",
    "deltaR = np.array([deltaR1, deltaR2]).T\n",
    "\n",
    "# lognormal transform\n",
    "model = LognormalDensityModel()\n",
    "sigma1, delta01 = model.get_params_from_moments(sample=deltaR1)\n",
    "sigma2, delta02 = model.get_params_from_moments(sample=deltaR2)\n",
    "sigma = np.array([sigma1, sigma2])\n",
    "delta0 = np.array([delta01, delta02])\n",
    "# transform variables to get Gaussian distributions\n",
    "X = deltaR#np.log(1 + deltaR/delta0) + sigma**2/2"
   ]
  },
  {
   "cell_type": "code",
   "execution_count": 3,
   "id": "e794f016-7f99-42e8-888f-a00800d57c8a",
   "metadata": {},
   "outputs": [],
   "source": [
    "num_samples = 20000\n",
    "mean = np.zeros(2)\n",
    "cov = np.eye(2)\n",
    "\n",
    "#X = np.random.multivariate_normal(mean, cov, num_samples)"
   ]
  },
  {
   "cell_type": "markdown",
   "id": "6bc3e1d4-23e4-497c-adc8-a187406ea10a",
   "metadata": {},
   "source": [
    "## Train normalizing flow"
   ]
  },
  {
   "cell_type": "code",
   "execution_count": 4,
   "id": "0729df25-bc26-42e6-b183-91af43555622",
   "metadata": {},
   "outputs": [],
   "source": [
    "output_dir = '/feynman/work/dphp/mp270220/outputs/harvest'\n",
    "output_name = simname.format(0)+'_cellsize{}_resampler{}_delta_R{}_harvest'.format(cellsize, resampler, '_RSD' if rsd else '')\n",
    "\n",
    "flow = Harvest(None, chain=X, n_flows=7) "
   ]
  },
  {
   "cell_type": "code",
   "execution_count": 5,
   "id": "5b4dece3-2239-474d-8bd2-c53a1207e606",
   "metadata": {},
   "outputs": [
    {
     "name": "stdout",
     "output_type": "stream",
     "text": [
      "Training the flows\n"
     ]
    },
    {
     "name": "stderr",
     "output_type": "stream",
     "text": [
      " 25%|██▌       | 25/100 [00:17<00:52,  1.43it/s, train=2.6586163, val=2.703038 (Max patience reached)]\n",
      " 13%|█▎        | 13/100 [00:10<01:09,  1.26it/s, train=2.6759195, val=2.6586206 (Max patience reached)]\n",
      " 16%|█▌        | 16/100 [00:12<01:05,  1.28it/s, train=2.6847174, val=2.6461961 (Max patience reached)]\n",
      "  8%|▊         | 8/100 [00:08<01:37,  1.06s/it, train=2.6881542, val=2.6841724 (Max patience reached)]\n",
      " 11%|█         | 11/100 [00:10<01:23,  1.07it/s, train=2.6786916, val=2.6882315 (Max patience reached)]\n",
      " 10%|█         | 10/100 [00:09<01:24,  1.07it/s, train=2.6850796, val=2.6388707 (Max patience reached)]\n",
      " 20%|██        | 20/100 [00:14<00:58,  1.36it/s, train=2.6655502, val=2.6628659 (Max patience reached)]\n"
     ]
    }
   ],
   "source": [
    "# train the flow\n",
    "flow.harvest()"
   ]
  },
  {
   "cell_type": "code",
   "execution_count": 6,
   "id": "43b2a295-45cd-4295-beb1-2447700b39fd",
   "metadata": {},
   "outputs": [],
   "source": [
    "rdsample = np.random.uniform(-4, 4, 20000).reshape(10000, 2)"
   ]
  },
  {
   "cell_type": "code",
   "execution_count": 7,
   "id": "930e3d8c-6410-4786-ac6d-d80c5aaf1d2a",
   "metadata": {},
   "outputs": [],
   "source": [
    "flow_weight_list = [np.asarray(flow.flow_list[i].log_prob(rdsample)) for i in range(flow.n_flows)]"
   ]
  },
  {
   "cell_type": "code",
   "execution_count": 8,
   "id": "8c8f8a40-9e7b-4898-90ed-8776ab720cd1",
   "metadata": {},
   "outputs": [],
   "source": [
    "ln_weights = np.sum(np.vstack(flow_weight_list), axis=0) / flow.n_flows\n",
    "weights = np.exp(ln_weights - np.max(ln_weights))"
   ]
  },
  {
   "cell_type": "code",
   "execution_count": 9,
   "id": "51e47fd3-8cf4-4564-b730-71844664e443",
   "metadata": {},
   "outputs": [],
   "source": [
    "from jax import random\n",
    "seed = 0\n",
    "key = random.PRNGKey(seed)\n",
    "flow_chain_list = [np.asarray(flow.flow_list[i].sample(key, sample_shape=(1000000, ))) for i in range(flow.n_flows)]\n",
    "flow_chain = np.vstack(flow_chain_list)"
   ]
  },
  {
   "cell_type": "code",
   "execution_count": 24,
   "id": "7901824d-f22a-4123-ad75-ed83149b6298",
   "metadata": {},
   "outputs": [
    {
     "name": "stdout",
     "output_type": "stream",
     "text": [
      "Removed no burn in\n",
      "Removed no burn in\n",
      "Removed no burn in\n"
     ]
    },
    {
     "data": {
      "image/png": "[encoded data removed]",
      "text/plain": [
       "<Figure size 400x400 with 3 Axes>"
      ]
     },
     "metadata": {},
     "output_type": "display_data"
    }
   ],
   "source": [
    "X_sample =  MCSamples(samples=flow.chain)\n",
    "flow_sample =  MCSamples(samples=flow_chain*flow.std + flow.mean)\n",
    "weighted_sample = MCSamples(samples=rdsample*flow.std + flow.mean, weights=weights)\n",
    "\n",
    "gdplt.GetDistPlotSettings()\n",
    "g = gdplt.get_subplot_plotter()\n",
    "g.triangle_plot([X_sample, flow_sample], filled=False, legend_labels=['measured', 'flow', 'flow (weights)'])\n",
    "\n",
    "plt.savefig(os.path.join(plots_dir, 'joint_density_PDF_r{}_r{}_s{}_mu{}{}_normalizingflow.png'.format(r1, r2, sep, mu, '_RSD' if rsd else '')), dpi=500)\n",
    "plt.show()"
   ]
  },
  {
   "cell_type": "code",
   "execution_count": null,
   "id": "16b2348c-d870-49af-8ce8-f8c385b6a75b",
   "metadata": {},
   "outputs": [],
   "source": []
  }
 ],
 "metadata": {
  "kernelspec": {
   "display_name": "cosmodesi-tex",
   "language": "python",
   "name": "cosmodesi-tex"
  },
  "language_info": {
   "codemirror_mode": {
    "name": "ipython",
    "version": 3
   },
   "file_extension": ".py",
   "mimetype": "text/x-python",
   "name": "python",
   "nbconvert_exporter": "python",
   "pygments_lexer": "ipython3",
   "version": "3.10.12"
  }
 },
 "nbformat": 4,
 "nbformat_minor": 5
}
