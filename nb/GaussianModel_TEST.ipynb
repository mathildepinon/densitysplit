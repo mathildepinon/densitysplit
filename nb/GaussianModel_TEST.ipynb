{
 "cells": [
  {
   "cell_type": "code",
   "execution_count": 1,
   "id": "c03a42d3-3105-414a-b488-dceebd2f538e",
   "metadata": {},
   "outputs": [],
   "source": [
    "import numpy as np\n",
    "import scipy.stats\n",
    "from matplotlib import pyplot as plt\n",
    "import math\n",
    "import copy\n",
    "\n",
    "plt.rcParams[\"figure.figsize\"] = (10, 8)\n",
    "plt.rcParams.update({'font.size': 14})\n",
    "\n",
    "from cosmoprimo import *\n",
    "\n",
    "from densitysplit import catalog_data, density_split\n",
    "from densitysplit.split_model import *\n",
    "from densitysplit.corr_func_utils import *\n",
    "from densitysplit.edgeworth_development import *\n",
    "\n",
    "# To activate logging\n",
    "setup_logging()"
   ]
  },
  {
   "cell_type": "markdown",
   "id": "66214022-46ca-40f7-8358-3057c19d088f",
   "metadata": {},
   "source": [
    "## Cosmology"
   ]
  },
  {
   "cell_type": "code",
   "execution_count": 2,
   "id": "3cb6d0ad-e6d4-48c4-9aeb-0132ee7569ec",
   "metadata": {},
   "outputs": [],
   "source": [
    "z = 1.175\n",
    "\n",
    "# Abacus summit base cosmology\n",
    "cosmo_abacus = fiducial.AbacusSummitBase()\n",
    "bg = cosmo_abacus.get_background()\n",
    "\n",
    "k=np.logspace(-5, 3, 100000)"
   ]
  },
  {
   "cell_type": "markdown",
   "id": "cc51b0ee-fe6e-41ca-b8df-150ecaab8b8b",
   "metadata": {},
   "source": [
    "## General parameters"
   ]
  },
  {
   "cell_type": "code",
   "execution_count": 3,
   "id": "4b5d2272-266f-4eab-bc45-05b996e234a4",
   "metadata": {},
   "outputs": [],
   "source": [
    "bias = 1.8\n",
    "nbar = 0.001\n",
    "nmesh = 512\n",
    "boxsize = 1000\n",
    "boxcenter = 500\n",
    "cellsize = 10\n",
    "resampler = 'tsc'"
   ]
  },
  {
   "cell_type": "markdown",
   "id": "a5c6710a-99b5-45e9-8347-b3dba63d70fb",
   "metadata": {},
   "source": [
    "## Split model"
   ]
  },
  {
   "cell_type": "code",
   "execution_count": 4,
   "id": "0bc4d6d0-c64c-465d-a0ce-5d8cfb393441",
   "metadata": {},
   "outputs": [
    {
     "data": {
      "text/plain": [
       "1.6084954386379742"
      ]
     },
     "execution_count": 4,
     "metadata": {},
     "output_type": "execute_result"
    }
   ],
   "source": [
    "kN = np.pi*nmesh/boxsize\n",
    "kN"
   ]
  },
  {
   "cell_type": "code",
   "execution_count": 5,
   "id": "fa4ebc5f-ba30-4180-9661-0963892952e8",
   "metadata": {},
   "outputs": [],
   "source": [
    "def damping_function(k, k_lambda=0.8*kN, sigma_lambda=0.05*kN):\n",
    "    if k < k_lambda:\n",
    "        return 1\n",
    "    else:\n",
    "        return np.exp(-(k-k_lambda)**2/(2*sigma_lambda**2))"
   ]
  },
  {
   "cell_type": "code",
   "execution_count": 6,
   "id": "9d2a1cef-7f29-40e0-899d-c4867de10fd1",
   "metadata": {},
   "outputs": [
    {
     "name": "stderr",
     "output_type": "stream",
     "text": [
      "/feynman/work/dphp/adematti/cosmodesiconda/20220713-1.0.0/code/cosmoprimo/1.0.0/lib/python3.9/site-packages/cosmoprimo/interpolator.py:517: ComplexWarning: Casting complex values to real discards the imaginary part\n",
      "  k = np.asarray(k, dtype=dtype)\n"
     ]
    }
   ],
   "source": [
    "pklin = cosmo_abacus.get_fourier().pk_interpolator(extrap_kmin=1e-5, extrap_kmax=1e3).to_1d(z)\n",
    "pklin_array = pklin(k)\n",
    "pkdamped_func = lambda k: pklin(k) * np.array([damping_function(kk) for kk in k])\n",
    "pkdamped = PowerSpectrumInterpolator1D.from_callable(k, pkdamped_func)\n",
    "model = SplitCCFModel(k, redshift=z, cosmology=cosmo_abacus, pk=pkdamped, bias=bias, nsplits=1, shot_noise=0, nbar=nbar)"
   ]
  },
  {
   "cell_type": "markdown",
   "id": "4a0223fa-0311-4dc4-9aff-5537af26df4a",
   "metadata": {},
   "source": [
    "## Generate mock"
   ]
  },
  {
   "cell_type": "code",
   "execution_count": 7,
   "id": "871379ed-8c13-4d19-8fc8-0324e1dc0b76",
   "metadata": {},
   "outputs": [
    {
     "name": "stdout",
     "output_type": "stream",
     "text": [
      "[000247.77]  11-30 12:26  EulerianLinearMock           INFO     White noise generated.\n"
     ]
    },
    {
     "name": "stderr",
     "output_type": "stream",
     "text": [
      "/feynman/work/dphp/adematti/cosmodesiconda/20220713-1.0.0/code/cosmoprimo/1.0.0/lib/python3.9/site-packages/cosmoprimo/interpolator.py:517: ComplexWarning: Casting complex values to real discards the imaginary part\n",
      "  k = np.asarray(k, dtype=dtype)\n"
     ]
    },
    {
     "name": "stdout",
     "output_type": "stream",
     "text": [
      "[000436.81]  11-30 12:29  CatalogMesh                  INFO     Slab 0 ~ 4194304 / 1000000.\n",
      "[000437.13]  11-30 12:29  CatalogMesh                  INFO     Painted 1000000 out of 1000000 objects to mesh.\n"
     ]
    }
   ],
   "source": [
    "from mockfactory import RandomBoxCatalog, EulerianLinearMock\n",
    "\n",
    "offset = boxcenter - boxsize/2.\n",
    "\n",
    "test_mock = EulerianLinearMock(pkdamped, nmesh=nmesh, boxsize=boxsize, boxcenter=boxcenter, seed=0, unitary_amplitude=True, dtype='c16')\n",
    "test_mock.set_real_delta_field(bias=bias)\n",
    "test_data = RandomBoxCatalog(nbar=nbar, boxsize=boxsize, boxcenter=boxcenter, seed=0)\n",
    "test_data['Weight'] = test_mock.readout(test_data['Position'], field='delta', resampler='tsc', compensate=True)\n",
    "test_positions = copy.deepcopy((test_data['Position'] - offset) % boxsize + offset)\n",
    "test_weights = copy.deepcopy(test_data['Weight'])\n",
    "test_mock_catalog = catalog_data.Data(test_positions.T, z, boxsize, boxcenter, name='test', weights=test_weights)\n",
    "\n",
    "mock_density = density_split.DensitySplit(test_mock_catalog)\n",
    "mock_density.compute_density(cellsize=cellsize, resampler=resampler, use_rsd=False, use_weights=True)"
   ]
  },
  {
   "cell_type": "code",
   "execution_count": 8,
   "id": "a1ca8947-57e0-4b10-96a6-a1316c976c7e",
   "metadata": {},
   "outputs": [],
   "source": [
    "## Generate random particles and readout density at each particle\n",
    "rng = np.random.RandomState(seed=0)\n",
    "positions = [o + rng.uniform(0., 1., mock_density.data.size)*b for o, b in zip((mock_density.offset,)*3, (mock_density.boxsize,)*3)]\n",
    "shifted_positions = np.array(positions) - mock_density.offset\n",
    "densities = mock_density.density_mesh.readout(shifted_positions.T, resampler=resampler)"
   ]
  },
  {
   "cell_type": "markdown",
   "id": "050f8a54-5a85-4bd6-bf83-6a110444a214",
   "metadata": {},
   "source": [
    "## Compute theoretical density distribution with shot noise"
   ]
  },
  {
   "cell_type": "code",
   "execution_count": 9,
   "id": "8f938fa2-8121-49a8-8dcc-28dd7c85f9e5",
   "metadata": {
    "tags": []
   },
   "outputs": [
    {
     "name": "stdout",
     "output_type": "stream",
     "text": [
      "1 0.0\n",
      "1 0.0\n",
      "2 0.5577426242808736\n",
      "1 0.0\n",
      "2 0.5577426242808736\n",
      "3 0.0\n",
      "1 0.0\n",
      "2 0.5577426242808736\n",
      "3 0.0\n",
      "4 1.1809742730783241\n",
      "[0.0, 0.5577426242808736, 0.0, 0.24774376825917682]\n",
      "[0, 0.25782308018865785, 0, 0]\n",
      "[0.         0.55774262 0.         0.24774377]\n"
     ]
    }
   ],
   "source": [
    "p = 4\n",
    "#shotnoise_cumulants = [model.smoothed_shot_noise_cumulant(i+1)/nbar**(i+1) * np.mean(mock_density.data.weights**(i+1)) for i in range(p)]\n",
    "shotnoise_cumulants = [model.smoothed_density_cumulant(i+1) for i in range(p)]\n",
    "#shot_noise_cumulants = [0, 0.3600588631598017, 0, 0.0654435854474231]\n",
    "#shotnoise_cumulants[0] -= 1\n",
    "print(shotnoise_cumulants)\n",
    "\n",
    "gaussian_cumulants = [0 for i in range(p)]\n",
    "gaussian_cumulants[1] = model.sigma_RR[0]**2\n",
    "print(gaussian_cumulants)\n",
    "\n",
    "cumulants = np.array(shotnoise_cumulants) # + np.array(gaussian_cumulants)\n",
    "print(cumulants)\n",
    "\n",
    "trunc_cumulants = np.array(shotnoise_cumulants[0:2]) #+ np.array(gaussian_cumulants[0:2])"
   ]
  },
  {
   "cell_type": "code",
   "execution_count": 13,
   "id": "11c9d71f-c3dd-484c-8a18-f1c6012e07b8",
   "metadata": {},
   "outputs": [
    {
     "name": "stdout",
     "output_type": "stream",
     "text": [
      "[0.0, 0.5577426242808736, 0.0, 0.24774376825917682]\n"
     ]
    }
   ],
   "source": [
    "gauss_shotnoise = ExpandedNormal(cum=trunc_cumulants.tolist())\n",
    "edgew = ExpandedNormal(cum=cumulants.tolist())\n",
    "gauss = ExpandedNormal(cum=gaussian_cumulants)\n",
    "#shotnoise = ExpandedNormal(cum=shotnoise_cumulants)\n",
    "print(shotnoise_cumulants)\n",
    "#trunc_shotnoise = ExpandedNormal(cum=shotnoise_cumulants[0:2])\n",
    "x = np.linspace(-4, 4, 100)"
   ]
  },
  {
   "cell_type": "code",
   "execution_count": 14,
   "id": "613a002b-1ad2-44d6-957d-a8d833866918",
   "metadata": {
    "tags": []
   },
   "outputs": [
    {
     "data": {
      "image/png": "[encoded data removed]",
      "text/plain": [
       "<Figure size 720x576 with 1 Axes>"
      ]
     },
     "metadata": {
      "needs_background": "light"
     },
     "output_type": "display_data"
    }
   ],
   "source": [
    "plt.rcParams[\"figure.figsize\"] = (10, 8)\n",
    "plt.rcParams.update({'font.size': 14})\n",
    "\n",
    "plt.hist(np.ravel(densities), bins=100, density=True, alpha=0.5, label = r'Mock')\n",
    "plt.plot(x, gauss.pdf(x), label='Gaussian (no shot noise)')\n",
    "#plt.plot(x, shotnoise.pdf(x), label='Shot noise')\n",
    "#plt.plot(x, trunc_shotnoise.pdf(x), label='Gaussian shot noise')\n",
    "plt.plot(x, gauss_shotnoise.pdf(x), label='Gaussian (with shot noise)')\n",
    "plt.plot(x, edgew.pdf(x), label='Edgeworth up to p={}'.format(p))\n",
    "plt.xlabel(r'$\\delta_R$')\n",
    "plt.legend()\n",
    "plt.title(r'$\\bar{{n}}$ = {:.3f}'.format(nbar))\n",
    "plt.show()"
   ]
  },
  {
   "cell_type": "code",
   "execution_count": null,
   "id": "d554a99d-63d0-43bf-9746-4ded1c5eb152",
   "metadata": {},
   "outputs": [],
   "source": []
  }
 ],
 "metadata": {
  "kernelspec": {
   "display_name": "cosmodesi-1.0.0",
   "language": "python",
   "name": "cosmodesi-1.0.0"
  },
  "language_info": {
   "codemirror_mode": {
    "name": "ipython",
    "version": 3
   },
   "file_extension": ".py",
   "mimetype": "text/x-python",
   "name": "python",
   "nbconvert_exporter": "python",
   "pygments_lexer": "ipython3",
   "version": "3.9.13"
  }
 },
 "nbformat": 4,
 "nbformat_minor": 5
}
