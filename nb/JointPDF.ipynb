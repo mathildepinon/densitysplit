{
 "cells": [
  {
   "cell_type": "markdown",
   "id": "9bc31dc3-161a-448b-8394-d6bc64e51a04",
   "metadata": {},
   "source": [
    "# Joint PDf of $\\delta_{R_1}(r)$, $\\delta_{R_2}(r+s)$"
   ]
  },
  {
   "cell_type": "code",
   "execution_count": 1,
   "id": "5885007d-e59b-4876-ade1-ece90f453f63",
   "metadata": {},
   "outputs": [
    {
     "name": "stderr",
     "output_type": "stream",
     "text": [
      "2024-06-19 11:15:16.700140: W external/org_tensorflow/tensorflow/tsl/platform/default/dso_loader.cc:67] Could not load dynamic library 'libcuda.so.1'; dlerror: libcuda.so.1: cannot open shared object file: No such file or directory; LD_LIBRARY_PATH: /opt/rhel-8.x86_64/gnu9/hdf5/1.10.8/lib:/opt/rhel-8.x86_64/modulefiles/gsl/26/lib:/datablock:/feynman/work/dphp/adematti/cosmodesiconda/20230918-1.0.0/conda/lib:/feynman/work/dphp/adematti/cosmo/cosmodesiconda/20230918-1.0.0/common/planck/code/plc_3.0/plc-3.1/lib:/feynman/work/dphp/adematti/cosmodesiconda/20230918-1.0.0/aux/lib\n",
      "2024-06-19 11:15:16.700180: W external/org_tensorflow/tensorflow/compiler/xla/stream_executor/cuda/cuda_driver.cc:264] failed call to cuInit: UNKNOWN ERROR (303)\n",
      "No GPU/TPU found, falling back to CPU. (Set TF_CPP_MIN_LOG_LEVEL=0 and rerun for more info.)\n"
     ]
    }
   ],
   "source": [
    "import os\n",
    "import numpy as np\n",
    "from matplotlib import pyplot as plt\n",
    "import scipy\n",
    "from scipy.stats import multivariate_normal\n",
    "import seaborn\n",
    "\n",
    "from densitysplit import DensitySplit\n",
    "from densitysplit.lognormal_model import *\n",
    "from densitysplit.utils import confidence_ellipse\n",
    "\n",
    "# to automatically reload imported modules when executing cell\n",
    "%load_ext autoreload\n",
    "%autoreload 2\n",
    "\n",
    "plt.style.use(os.path.join(os.path.abspath(''), 'densitysplit.mplstyle'))\n",
    "\n",
    "plots_dir = '/feynman/home/dphp/mp270220/plots/density'"
   ]
  },
  {
   "cell_type": "markdown",
   "id": "f9028e8f-88b9-465e-b29c-9f1c62421d1d",
   "metadata": {},
   "source": [
    "### Load DensitySplit"
   ]
  },
  {
   "cell_type": "code",
   "execution_count": 2,
   "id": "28709b85-1698-418b-afb2-9e33c8115e52",
   "metadata": {},
   "outputs": [],
   "source": [
    "# Mock parameters\n",
    "z = 0.8\n",
    "nbar = 0.0034\n",
    "rsd = True\n",
    "\n",
    "# Density smoothing parameters\n",
    "cellsize = 10\n",
    "cellsize2 = 10\n",
    "resampler = 'tsc'\n",
    "\n",
    "ds_dir = '/feynman/work/dphp/mp270220/outputs/densitysplit/'\n",
    "simname = 'AbacusSummit_2Gpc_z{:.3f}_ph0{{:02d}}_downsampled_particles_nbar{:.4f}'.format(z, nbar)\n",
    "cs2 = '_cellsize{:d}'.format(cellsize2) if cellsize2 is not None else ''\n",
    "densityname = simname.format(0)+'_cellsize{:d}{}_resampler{}_delta_R{}'.format(cellsize, cs2, resampler, '_RSD' if rsd else '')\n",
    "\n",
    "ds_fn = simname+'_cellsize{:d}{}_resampler{}_3splits_randoms_size4_RH_CCF{}'.format(cellsize, cs2, resampler, '_RSD' if rsd else '')\n",
    "dsplit = DensitySplit.load(os.path.join(ds_dir, ds_fn.format(0)+'.npy'))"
   ]
  },
  {
   "cell_type": "markdown",
   "id": "e18e9ab7-640d-4c36-acb6-261a8fbb62b4",
   "metadata": {},
   "source": [
    "### Plot 2D PDF of $\\delta_{R_1}$, $\\delta_{R_2}$"
   ]
  },
  {
   "cell_type": "code",
   "execution_count": 3,
   "id": "35123a3d-8f0e-4e7e-bb59-3065a5b7da39",
   "metadata": {},
   "outputs": [],
   "source": [
    "def scatter_hist(x, y, ax, ax_histx, ax_histy, bins=100, label1=None, label2=None, size=3, legend=None, sigma1=None, sigma2=None):\n",
    "    # no labels\n",
    "    ax_histx.tick_params(axis=\"x\", labelbottom=False)\n",
    "    ax_histy.tick_params(axis=\"y\", labelleft=False)\n",
    "\n",
    "    # the scatter plot:\n",
    "    ax.scatter(x, y, s=size, label=legend, alpha=0.1)\n",
    "    seaborn.kdeplot(x=x, y=y, ax=ax, levels=[0.125, 0.61], color='blue', alpha=0.7)\n",
    "    ax.set_xlabel(label1)\n",
    "    ax.set_ylabel(label2)\n",
    "    ax.legend(loc='upper right')\n",
    "\n",
    "    delta = np.linspace(-2, 2, 100)\n",
    "    ax_histx.hist(x, bins=bins, alpha=0.7, density=True)\n",
    "    ax_histx.plot(delta, scipy.stats.norm.pdf(delta, 0, sigma1), color='C1')\n",
    "    ax_histy.hist(y, bins=bins, alpha=0.7, density=True, orientation='horizontal')\n",
    "    ax_histy.plot(scipy.stats.norm.pdf(delta, 0, sigma2), delta, color='C1')"
   ]
  },
  {
   "cell_type": "code",
   "execution_count": null,
   "id": "0b6811c3-dcd0-483d-929e-46f39a1c40b1",
   "metadata": {},
   "outputs": [],
   "source": [
    "r1 = 10\n",
    "r2 = 10\n",
    "sep = 50\n",
    "mu = 0 if rsd else None\n",
    "split = 1\n",
    "size = 10000\n",
    "los = 'x'\n",
    "\n",
    "deltaR1, deltaR2 = dsplit.compute_jointpdf_delta_R1_R2(s=sep, sample_size=size, mu=mu, los=los, split=split)\n",
    "\n",
    "# lognormal model\n",
    "model = LognormalDensityModel()\n",
    "sigma1, delta01 = model.get_params_from_moments(sample=deltaR1)\n",
    "sigma2, delta02 = model.get_params_from_moments(sample=deltaR2)\n",
    "# transform variables to get Gaussian distributions\n",
    "x = np.log(1 + deltaR1/delta01) + sigma1**2/2.\n",
    "y = np.log(1 + deltaR2/delta02) + sigma2**2/2.\n",
    "\n",
    "# Start with a square Figure.\n",
    "fig = plt.figure(figsize=(5, 5))\n",
    "gs = fig.add_gridspec(2, 2,  width_ratios=(3, 1), height_ratios=(1, 3),\n",
    "                      left=0.1, right=0.9, bottom=0.1, top=0.9,\n",
    "                      wspace=0.05, hspace=0.05)\n",
    "\n",
    "# Create the Axes.\n",
    "ax = fig.add_subplot(gs[1, 0])\n",
    "ax_histx = fig.add_subplot(gs[0, 0], sharex=ax)\n",
    "ax_histy = fig.add_subplot(gs[1, 1], sharey=ax)\n",
    "\n",
    "label1=r'$\\ln \\left[ 1 + \\delta(R_1 = {}\\; \\mathrm{{Mpc}}/h) / \\delta_{{0, 1}} \\right]$'.format(r1)\n",
    "label2=r'$\\ln \\left[ 1 + \\delta(R_2 = {}\\; \\mathrm{{Mpc}}/h) / \\delta_{{0, 2}} \\right]$'.format(r2)\n",
    "legend=(r'$s = {} \\; \\mathrm{{Mpc}}/h, \\; \\mu = {}$'.format(sep, mu) if rsd else r'$s = {} \\; \\mathrm{{Mpc}}/h$'.format(sep)) + \"\\n\" + ('DS{}'.format(split) if split is not None else '')\n",
    "# Draw the scatter plot and marginals.\n",
    "scatter_hist(x, y, ax, ax_histx, ax_histy, label1=label1, label2=label2, legend=legend, sigma1=sigma1, sigma2=sigma2)\n",
    "confidence_ellipse(x, y, ax, n_std=1.0, edgecolor='C1', ls='--')\n",
    "confidence_ellipse(x, y, ax, n_std=2.0, edgecolor='C1', ls='--')\n",
    "\n",
    "plt.savefig(os.path.join(plots_dir, 'joint_density_PDF_r{}_r{}_s{}_mu{}{}{}.png'.format(r1, r2, sep, mu, '_RSD' if rsd else '', '_DS{}'.format(split) if split is not None else '')), dpi=500)\n",
    "plt.show()"
   ]
  },
  {
   "cell_type": "code",
   "execution_count": null,
   "id": "f352ec2f-c123-48bc-aad8-fc83c3b15e2e",
   "metadata": {},
   "outputs": [],
   "source": []
  }
 ],
 "metadata": {
  "kernelspec": {
   "display_name": "cosmodesi-tex",
   "language": "python",
   "name": "cosmodesi-tex"
  },
  "language_info": {
   "codemirror_mode": {
    "name": "ipython",
    "version": 3
   },
   "file_extension": ".py",
   "mimetype": "text/x-python",
   "name": "python",
   "nbconvert_exporter": "python",
   "pygments_lexer": "ipython3",
   "version": "3.10.12"
  }
 },
 "nbformat": 4,
 "nbformat_minor": 5
}
