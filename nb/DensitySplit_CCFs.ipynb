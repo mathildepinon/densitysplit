{
 "cells": [
  {
   "cell_type": "markdown",
   "id": "abf3a4e5-ecdd-4c35-8efe-899d80cf3d01",
   "metadata": {},
   "source": [
    "# Generate density split cross-correlation functions"
   ]
  },
  {
   "cell_type": "code",
   "execution_count": 1,
   "id": "6378aa43-e3a4-41a2-a3e1-aea278b2e83f",
   "metadata": {},
   "outputs": [],
   "source": [
    "import os\n",
    "import tempfile\n",
    "import time\n",
    "import copy\n",
    "\n",
    "import numpy as np\n",
    "import scipy\n",
    "from matplotlib import pyplot as plt\n",
    "plt.rcParams[\"figure.figsize\"] = (10, 8)\n",
    "plt.rcParams.update({'font.size': 12})\n",
    "\n",
    "from pypower import CatalogMesh, MeshFFTPower, CatalogFFTPower, PowerSpectrumStatistics, utils, setup_logging\n",
    "from pycorr import TwoPointCorrelationFunction, TwoPointEstimator, NaturalTwoPointEstimator, project_to_multipoles, BoxSubsampler, project_to_wp, utils, setup_logging\n",
    "from abacusnbody.data.compaso_halo_catalog import CompaSOHaloCatalog\n",
    "from cosmoprimo import *\n",
    "\n",
    "import densitysplit \n",
    "from densitysplit import catalog_data, density_split\n",
    "from bin.density_split_mocks_functions import split_density, compute_densitySplit_CCF\n",
    "from densitysplit.pk_model import *\n",
    "from densitysplit.utils import *\n",
    "from densitysplit.corr_func import *"
   ]
  },
  {
   "cell_type": "markdown",
   "id": "6746261b-bd7b-4a48-8966-516bcbe5bc9b",
   "metadata": {},
   "source": [
    "## Data and output directories"
   ]
  },
  {
   "cell_type": "code",
   "execution_count": 2,
   "id": "53e09802-30bb-44b6-b01c-4a72ec86e28c",
   "metadata": {},
   "outputs": [],
   "source": [
    "data_dir = '/feynman/work/dphp/mp270220/data/'\n",
    "output_dir = '/feynman/work/dphp/mp270220/outputs/'"
   ]
  },
  {
   "cell_type": "markdown",
   "id": "eb85c3f5-91db-4e52-b6d4-2e36f9e8bc86",
   "metadata": {},
   "source": [
    "## Get data"
   ]
  },
  {
   "cell_type": "code",
   "execution_count": 3,
   "id": "704306d8-8b5b-4fe8-9686-9a94368c2ac6",
   "metadata": {},
   "outputs": [],
   "source": [
    "#catalog_name = 'AbacusSummit_1Gpc_z1.175'\n",
    "catalog_name = 'AbacusSummit_2Gpc_z1.175'\n",
    "#catalog_name = 'AbacusSummit_2Gpc_z0.800'\n",
    "#catalog_name = 'mock'\n",
    "\n",
    "catalog = catalog_data.Data.load(data_dir+catalog_name+'.npy')\n",
    "catalog.shift_boxcenter(-catalog.offset)"
   ]
  },
  {
   "cell_type": "markdown",
   "id": "9b616cf2-6688-44dd-9a57-3bc2b5008e40",
   "metadata": {},
   "source": [
    "## Apply RSD"
   ]
  },
  {
   "cell_type": "code",
   "execution_count": 4,
   "id": "3cb6d0ad-e6d4-48c4-9aeb-0132ee7569ec",
   "metadata": {
    "tags": []
   },
   "outputs": [],
   "source": [
    "# Abacus summit base cosmology\n",
    "cosmo_abacus = fiducial.AbacusSummitBase()\n",
    "bg = cosmo_abacus.get_background()\n",
    "hz = bg.hubble_function(catalog.redshift)\n",
    "\n",
    "catalog.set_rsd(hz=hz)"
   ]
  },
  {
   "cell_type": "markdown",
   "id": "480a5f24-deba-4dc7-95d1-e9d55ae80dfd",
   "metadata": {},
   "source": [
    "## Split density"
   ]
  },
  {
   "cell_type": "code",
   "execution_count": 5,
   "id": "b67c7201-53e9-4e0e-8a88-57c3a3777c91",
   "metadata": {},
   "outputs": [
    {
     "name": "stdout",
     "output_type": "stream",
     "text": [
      "[000001.21] [0/1] 05-20 10:29  CatalogMesh               INFO     Slab 0 ~ 4194304 / 23463294.\n",
      "[000002.22] [0/1] 05-20 10:29  CatalogMesh               INFO     Painted 4194304 out of 23463294 objects to mesh.\n",
      "[000002.22] [0/1] 05-20 10:29  CatalogMesh               INFO     Slab 4194304 ~ 8388608 / 23463294.\n",
      "[000003.23] [0/1] 05-20 10:29  CatalogMesh               INFO     Painted 8388608 out of 23463294 objects to mesh.\n",
      "[000003.23] [0/1] 05-20 10:29  CatalogMesh               INFO     Slab 8388608 ~ 12582912 / 23463294.\n",
      "[000004.23] [0/1] 05-20 10:29  CatalogMesh               INFO     Painted 12582912 out of 23463294 objects to mesh.\n",
      "[000004.23] [0/1] 05-20 10:29  CatalogMesh               INFO     Slab 12582912 ~ 16777216 / 23463294.\n",
      "[000005.23] [0/1] 05-20 10:29  CatalogMesh               INFO     Painted 16777216 out of 23463294 objects to mesh.\n",
      "[000005.24] [0/1] 05-20 10:29  CatalogMesh               INFO     Slab 16777216 ~ 20971520 / 23463294.\n",
      "[000006.24] [0/1] 05-20 10:29  CatalogMesh               INFO     Painted 20971520 out of 23463294 objects to mesh.\n",
      "[000006.24] [0/1] 05-20 10:29  CatalogMesh               INFO     Slab 20971520 ~ 25165824 / 23463294.\n",
      "[000006.87] [0/1] 05-20 10:29  CatalogMesh               INFO     Painted 23463294 out of 23463294 objects to mesh.\n"
     ]
    }
   ],
   "source": [
    "# Density mesh\n",
    "cellsize = 10\n",
    "resampler = 'tsc'\n",
    "nsplits = 3\n",
    "\n",
    "catalog_density = split_density(catalog, cellsize, resampler, nsplits, use_rsd=True, save=False)"
   ]
  },
  {
   "cell_type": "markdown",
   "id": "972f09f4-a682-4096-99de-c014bc53e865",
   "metadata": {},
   "source": [
    "## Correlation galaxies-galaxies"
   ]
  },
  {
   "cell_type": "markdown",
   "id": "7ec29fac-5ba0-47f5-b8fb-d1128633d53d",
   "metadata": {
    "tags": []
   },
   "source": [
    "### Correlation function in each density split"
   ]
  },
  {
   "cell_type": "code",
   "execution_count": 6,
   "id": "0a2c907e-6516-4aa2-b737-7718c92bfb19",
   "metadata": {},
   "outputs": [],
   "source": [
    "edges = (np.linspace(0., 150., 51), np.linspace(-1, 1, 201))\n",
    "los='x'"
   ]
  },
  {
   "cell_type": "code",
   "execution_count": 7,
   "id": "e9f940f8-6200-44fa-ac26-1a50d242d3eb",
   "metadata": {},
   "outputs": [
    {
     "name": "stdout",
     "output_type": "stream",
     "text": [
      "rsd positions found\n",
      "[000038.40] [0/1] 05-20 10:30  TwoPointCorrelationFunction INFO     Using estimator <class 'pycorr.twopoint_estimator.NaturalTwoPointEstimator'>.\n",
      "[000038.40] [0/1] 05-20 10:30  TwoPointCorrelationFunction INFO     Computing two-point counts D1D2.\n",
      "[000070.10] [0/1] 05-20 10:30  TwoPointCorrelationFunction INFO     Analytically computing two-point counts R1R2.\n",
      "[000070.15] [0/1] 05-20 10:30  TwoPointCorrelationFunction INFO     Using estimator <class 'pycorr.twopoint_estimator.NaturalTwoPointEstimator'>.\n",
      "[000070.15] [0/1] 05-20 10:30  TwoPointCorrelationFunction INFO     Computing two-point counts D1D2.\n",
      "[000155.45] [0/1] 05-20 10:32  TwoPointCorrelationFunction INFO     Analytically computing two-point counts R1R2.\n",
      "[000155.46] [0/1] 05-20 10:32  TwoPointCorrelationFunction INFO     Using estimator <class 'pycorr.twopoint_estimator.NaturalTwoPointEstimator'>.\n",
      "[000155.46] [0/1] 05-20 10:32  TwoPointCorrelationFunction INFO     Computing two-point counts D1D2.\n",
      "[001277.98] [0/1] 05-20 10:50  TwoPointCorrelationFunction INFO     Analytically computing two-point counts R1R2.\n",
      "[001277.98] [0/1] 05-20 10:50  TwoPointCorrelationFunction INFO     Using estimator <class 'pycorr.twopoint_estimator.NaturalTwoPointEstimator'>.\n",
      "[001277.98] [0/1] 05-20 10:50  TwoPointCorrelationFunction INFO     Computing two-point counts D1D2.\n",
      "[001308.66] [0/1] 05-20 10:51  TwoPointCorrelationFunction INFO     Analytically computing two-point counts R1R2.\n",
      "[001308.70] [0/1] 05-20 10:51  TwoPointCorrelationFunction INFO     Using estimator <class 'pycorr.twopoint_estimator.NaturalTwoPointEstimator'>.\n",
      "[001308.70] [0/1] 05-20 10:51  TwoPointCorrelationFunction INFO     Computing two-point counts D1D2.\n",
      "[001396.84] [0/1] 05-20 10:52  TwoPointCorrelationFunction INFO     Analytically computing two-point counts R1R2.\n",
      "[001396.84] [0/1] 05-20 10:52  TwoPointCorrelationFunction INFO     Using estimator <class 'pycorr.twopoint_estimator.NaturalTwoPointEstimator'>.\n",
      "[001396.84] [0/1] 05-20 10:52  TwoPointCorrelationFunction INFO     Computing two-point counts D1D2.\n",
      "[001698.68] [0/1] 05-20 10:57  TwoPointCorrelationFunction INFO     Analytically computing two-point counts R1R2.\n",
      "[001698.68] [0/1] 05-20 10:57  TwoPointCorrelationFunction INFO     Using estimator <class 'pycorr.twopoint_estimator.NaturalTwoPointEstimator'>.\n",
      "[001698.68] [0/1] 05-20 10:57  TwoPointCorrelationFunction INFO     Computing two-point counts D1D2.\n",
      "[001728.08] [0/1] 05-20 10:58  TwoPointCorrelationFunction INFO     Analytically computing two-point counts R1R2.\n",
      "[001728.13] [0/1] 05-20 10:58  TwoPointCorrelationFunction INFO     Using estimator <class 'pycorr.twopoint_estimator.NaturalTwoPointEstimator'>.\n",
      "[001728.13] [0/1] 05-20 10:58  TwoPointCorrelationFunction INFO     Computing two-point counts D1D2.\n",
      "[001816.65] [0/1] 05-20 10:59  TwoPointCorrelationFunction INFO     Analytically computing two-point counts R1R2.\n",
      "[001816.65] [0/1] 05-20 10:59  TwoPointCorrelationFunction INFO     Using estimator <class 'pycorr.twopoint_estimator.NaturalTwoPointEstimator'>.\n",
      "[001816.65] [0/1] 05-20 10:59  TwoPointCorrelationFunction INFO     Computing two-point counts D1D2.\n",
      "[001962.59] [0/1] 05-20 11:02  TwoPointCorrelationFunction INFO     Analytically computing two-point counts R1R2.\n"
     ]
    }
   ],
   "source": [
    "results = compute_densitySplit_CCF(catalog_density, edges, los, use_rsd=True, save=True, output_dir=output_dir, name=catalog_name, randoms_size=4)"
   ]
  }
 ],
 "metadata": {
  "kernelspec": {
   "display_name": "cosmodesi-1.0.0",
   "language": "python",
   "name": "cosmodesi-1.0.0"
  },
  "language_info": {
   "codemirror_mode": {
    "name": "ipython",
    "version": 3
   },
   "file_extension": ".py",
   "mimetype": "text/x-python",
   "name": "python",
   "nbconvert_exporter": "python",
   "pygments_lexer": "ipython3",
   "version": "3.9.10"
  }
 },
 "nbformat": 4,
 "nbformat_minor": 5
}
